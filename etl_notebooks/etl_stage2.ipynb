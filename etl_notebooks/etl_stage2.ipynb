{
 "cells": [
  {
   "cell_type": "code",
   "execution_count": 1,
   "metadata": {},
   "outputs": [
    {
     "data": {
      "application/vnd.jupyter.widget-view+json": {
       "model_id": "746d7e026f6b4b028e5e38e7ee3a5506",
       "version_major": 2,
       "version_minor": 0
      },
      "text/plain": [
       "VBox()"
      ]
     },
     "metadata": {},
     "output_type": "display_data"
    },
    {
     "name": "stdout",
     "output_type": "stream",
     "text": [
      "Starting Spark application\n"
     ]
    },
    {
     "data": {
      "text/html": [
       "<table>\n",
       "<tr><th>ID</th><th>YARN Application ID</th><th>Kind</th><th>State</th><th>Spark UI</th><th>Driver log</th><th>Current session?</th></tr><tr><td>1</td><td>application_1609317990941_0002</td><td>pyspark</td><td>idle</td><td><a target=\"_blank\" href=\"http://ip-172-31-32-197.us-west-2.compute.internal:20888/proxy/application_1609317990941_0002/\">Link</a></td><td><a target=\"_blank\" href=\"http://ip-172-31-46-255.us-west-2.compute.internal:8042/node/containerlogs/container_1609317990941_0002_01_000001/livy\">Link</a></td><td>✔</td></tr></table>"
      ],
      "text/plain": [
       "<IPython.core.display.HTML object>"
      ]
     },
     "metadata": {},
     "output_type": "display_data"
    },
    {
     "data": {
      "application/vnd.jupyter.widget-view+json": {
       "model_id": "",
       "version_major": 2,
       "version_minor": 0
      },
      "text/plain": [
       "FloatProgress(value=0.0, bar_style='info', description='Progress:', layout=Layout(height='25px', width='50%'),…"
      ]
     },
     "metadata": {},
     "output_type": "display_data"
    },
    {
     "name": "stdout",
     "output_type": "stream",
     "text": [
      "SparkSession available as 'spark'.\n"
     ]
    },
    {
     "data": {
      "application/vnd.jupyter.widget-view+json": {
       "model_id": "",
       "version_major": 2,
       "version_minor": 0
      },
      "text/plain": [
       "FloatProgress(value=0.0, bar_style='info', description='Progress:', layout=Layout(height='25px', width='50%'),…"
      ]
     },
     "metadata": {},
     "output_type": "display_data"
    }
   ],
   "source": [
    "from datetime import datetime\n",
    "from pyspark.sql import functions as F\n",
    "from pyspark.sql.types import StructType,StructField, StringType, DateType, IntegerType, DoubleType\n",
    "from pyspark.sql.functions import col, explode, array, struct, expr, sum, lit\n",
    "from pyspark.sql.window import Window"
   ]
  },
  {
   "cell_type": "code",
   "execution_count": 2,
   "metadata": {},
   "outputs": [
    {
     "data": {
      "application/vnd.jupyter.widget-view+json": {
       "model_id": "e72ef3ba5da04a51953486d48043c7fb",
       "version_major": 2,
       "version_minor": 0
      },
      "text/plain": [
       "VBox()"
      ]
     },
     "metadata": {},
     "output_type": "display_data"
    },
    {
     "data": {
      "application/vnd.jupyter.widget-view+json": {
       "model_id": "",
       "version_major": 2,
       "version_minor": 0
      },
      "text/plain": [
       "FloatProgress(value=0.0, bar_style='info', description='Progress:', layout=Layout(height='25px', width='50%'),…"
      ]
     },
     "metadata": {},
     "output_type": "display_data"
    }
   ],
   "source": [
    "folder_s0 = 's3://dh-ud-dend-capstone/stage0_raw/'\n",
    "folder_s1 = 's3://dh-ud-dend-capstone/stage1_prepared_and_partitioned/'\n",
    "folder_s2 = 's3://dh-ud-dend-capstone/stage2_joined_and_partitioned/'"
   ]
  },
  {
   "cell_type": "markdown",
   "metadata": {},
   "source": [
    "# Create Dimensions"
   ]
  },
  {
   "cell_type": "markdown",
   "metadata": {},
   "source": [
    "## dimRegion"
   ]
  },
  {
   "cell_type": "code",
   "execution_count": 3,
   "metadata": {},
   "outputs": [
    {
     "data": {
      "application/vnd.jupyter.widget-view+json": {
       "model_id": "d97d7c9d836542be9baaff4c21a87c29",
       "version_major": 2,
       "version_minor": 0
      },
      "text/plain": [
       "VBox()"
      ]
     },
     "metadata": {},
     "output_type": "display_data"
    },
    {
     "data": {
      "application/vnd.jupyter.widget-view+json": {
       "model_id": "",
       "version_major": 2,
       "version_minor": 0
      },
      "text/plain": [
       "FloatProgress(value=0.0, bar_style='info', description='Progress:', layout=Layout(height='25px', width='50%'),…"
      ]
     },
     "metadata": {},
     "output_type": "display_data"
    }
   ],
   "source": [
    "df_index = spark.read.format('csv').options(header='true').load(folder_s0 + 'google/index.csv')"
   ]
  },
  {
   "cell_type": "code",
   "execution_count": 4,
   "metadata": {},
   "outputs": [
    {
     "data": {
      "application/vnd.jupyter.widget-view+json": {
       "model_id": "a7db3671d6c647889dc2c8737a7cf065",
       "version_major": 2,
       "version_minor": 0
      },
      "text/plain": [
       "VBox()"
      ]
     },
     "metadata": {},
     "output_type": "display_data"
    },
    {
     "data": {
      "application/vnd.jupyter.widget-view+json": {
       "model_id": "",
       "version_major": 2,
       "version_minor": 0
      },
      "text/plain": [
       "FloatProgress(value=0.0, bar_style='info', description='Progress:', layout=Layout(height='25px', width='50%'),…"
      ]
     },
     "metadata": {},
     "output_type": "display_data"
    }
   ],
   "source": [
    "df_dim_region = df_index.select(\"key\",\\\n",
    "                                \"country_code\",\\\n",
    "                                \"country_name\",\\\n",
    "                                \"subregion1_code\",\\\n",
    "                                \"subregion1_name\",\\\n",
    "                                \"subregion2_code\",\\\n",
    "                                \"subregion2_name\",\\\n",
    "                                \"aggregation_level\")"
   ]
  },
  {
   "cell_type": "code",
   "execution_count": 5,
   "metadata": {},
   "outputs": [
    {
     "data": {
      "application/vnd.jupyter.widget-view+json": {
       "model_id": "70a39dd28a9c4cd3b08427258a3ead1d",
       "version_major": 2,
       "version_minor": 0
      },
      "text/plain": [
       "VBox()"
      ]
     },
     "metadata": {},
     "output_type": "display_data"
    },
    {
     "data": {
      "application/vnd.jupyter.widget-view+json": {
       "model_id": "",
       "version_major": 2,
       "version_minor": 0
      },
      "text/plain": [
       "FloatProgress(value=0.0, bar_style='info', description='Progress:', layout=Layout(height='25px', width='50%'),…"
      ]
     },
     "metadata": {},
     "output_type": "display_data"
    }
   ],
   "source": [
    "df_dim_region = df_dim_region.withColumnRenamed(\"key\",\"id\")"
   ]
  },
  {
   "cell_type": "code",
   "execution_count": 6,
   "metadata": {},
   "outputs": [
    {
     "data": {
      "application/vnd.jupyter.widget-view+json": {
       "model_id": "a50321f7bcc3481d862489eb2ea2a8c0",
       "version_major": 2,
       "version_minor": 0
      },
      "text/plain": [
       "VBox()"
      ]
     },
     "metadata": {},
     "output_type": "display_data"
    },
    {
     "data": {
      "application/vnd.jupyter.widget-view+json": {
       "model_id": "",
       "version_major": 2,
       "version_minor": 0
      },
      "text/plain": [
       "FloatProgress(value=0.0, bar_style='info', description='Progress:', layout=Layout(height='25px', width='50%'),…"
      ]
     },
     "metadata": {},
     "output_type": "display_data"
    }
   ],
   "source": [
    "df_dim_region.write.mode('overwrite').parquet(folder_s2+'dimRegion.parquet')"
   ]
  },
  {
   "cell_type": "markdown",
   "metadata": {},
   "source": [
    "# dimTime"
   ]
  },
  {
   "cell_type": "code",
   "execution_count": 7,
   "metadata": {},
   "outputs": [
    {
     "data": {
      "application/vnd.jupyter.widget-view+json": {
       "model_id": "382d386f68994df6923955be4e50c8c6",
       "version_major": 2,
       "version_minor": 0
      },
      "text/plain": [
       "VBox()"
      ]
     },
     "metadata": {},
     "output_type": "display_data"
    },
    {
     "data": {
      "application/vnd.jupyter.widget-view+json": {
       "model_id": "",
       "version_major": 2,
       "version_minor": 0
      },
      "text/plain": [
       "FloatProgress(value=0.0, bar_style='info', description='Progress:', layout=Layout(height='25px', width='50%'),…"
      ]
     },
     "metadata": {},
     "output_type": "display_data"
    }
   ],
   "source": [
    "# source: https://stackoverflow.com/questions/43141671/sparksql-on-pyspark-how-to-generate-time-series\n",
    "df_dim_time = spark.sql(\"\"\"SELECT sequence(\n",
    "                                    to_date('2019-10-01'),\n",
    "                                    now(), \n",
    "                            interval 1 day) as date\"\"\")\\\n",
    "                        .withColumn(\"date\", explode(col(\"date\")))"
   ]
  },
  {
   "cell_type": "code",
   "execution_count": 8,
   "metadata": {},
   "outputs": [
    {
     "data": {
      "application/vnd.jupyter.widget-view+json": {
       "model_id": "6aaebb82b096494c9a1cc17d0873158c",
       "version_major": 2,
       "version_minor": 0
      },
      "text/plain": [
       "VBox()"
      ]
     },
     "metadata": {},
     "output_type": "display_data"
    },
    {
     "data": {
      "application/vnd.jupyter.widget-view+json": {
       "model_id": "",
       "version_major": 2,
       "version_minor": 0
      },
      "text/plain": [
       "FloatProgress(value=0.0, bar_style='info', description='Progress:', layout=Layout(height='25px', width='50%'),…"
      ]
     },
     "metadata": {},
     "output_type": "display_data"
    },
    {
     "name": "stdout",
     "output_type": "stream",
     "text": [
      "457"
     ]
    }
   ],
   "source": [
    "df_dim_time.count()"
   ]
  },
  {
   "cell_type": "code",
   "execution_count": 9,
   "metadata": {},
   "outputs": [
    {
     "data": {
      "application/vnd.jupyter.widget-view+json": {
       "model_id": "1fd557f855bf48dc8a558e37794d87c6",
       "version_major": 2,
       "version_minor": 0
      },
      "text/plain": [
       "VBox()"
      ]
     },
     "metadata": {},
     "output_type": "display_data"
    },
    {
     "data": {
      "application/vnd.jupyter.widget-view+json": {
       "model_id": "",
       "version_major": 2,
       "version_minor": 0
      },
      "text/plain": [
       "FloatProgress(value=0.0, bar_style='info', description='Progress:', layout=Layout(height='25px', width='50%'),…"
      ]
     },
     "metadata": {},
     "output_type": "display_data"
    }
   ],
   "source": [
    "df_dim_time = df_dim_time.withColumn(\"month\",F.month(\"date\"))\\\n",
    "           .withColumn(\"year\",F.year(\"date\"))\\\n",
    "           .withColumn(\"dayofmonth\",F.dayofmonth(\"date\"))\\\n",
    "           .withColumn(\"dayofyear\",F.dayofyear(\"date\"))\\\n",
    "           .withColumn(\"weekofyear\",F.weekofyear(\"date\"))"
   ]
  },
  {
   "cell_type": "code",
   "execution_count": 10,
   "metadata": {},
   "outputs": [
    {
     "data": {
      "application/vnd.jupyter.widget-view+json": {
       "model_id": "06edb563b9ea40bcb7461a44ecf00c66",
       "version_major": 2,
       "version_minor": 0
      },
      "text/plain": [
       "VBox()"
      ]
     },
     "metadata": {},
     "output_type": "display_data"
    },
    {
     "data": {
      "application/vnd.jupyter.widget-view+json": {
       "model_id": "",
       "version_major": 2,
       "version_minor": 0
      },
      "text/plain": [
       "FloatProgress(value=0.0, bar_style='info', description='Progress:', layout=Layout(height='25px', width='50%'),…"
      ]
     },
     "metadata": {},
     "output_type": "display_data"
    }
   ],
   "source": [
    "df_dim_time.write.mode('overwrite').parquet(folder_s2+'dimTime.parquet')"
   ]
  },
  {
   "cell_type": "markdown",
   "metadata": {},
   "source": [
    "## dimSymptom"
   ]
  },
  {
   "cell_type": "code",
   "execution_count": 11,
   "metadata": {},
   "outputs": [
    {
     "data": {
      "application/vnd.jupyter.widget-view+json": {
       "model_id": "fe37a1fe844e494db089c176842a0a44",
       "version_major": 2,
       "version_minor": 0
      },
      "text/plain": [
       "VBox()"
      ]
     },
     "metadata": {},
     "output_type": "display_data"
    },
    {
     "data": {
      "application/vnd.jupyter.widget-view+json": {
       "model_id": "",
       "version_major": 2,
       "version_minor": 0
      },
      "text/plain": [
       "FloatProgress(value=0.0, bar_style='info', description='Progress:', layout=Layout(height='25px', width='50%'),…"
      ]
     },
     "metadata": {},
     "output_type": "display_data"
    },
    {
     "name": "stdout",
     "output_type": "stream",
     "text": [
      "DataFrame[]"
     ]
    }
   ],
   "source": [
    "spark.sql(\"\"\"CREATE TEMPORARY VIEW SEARCHTRENDS \n",
    "             USING parquet \n",
    "             OPTIONS (path \\\"s3://dh-ud-dend-capstone/stage1_prepared_and_partitioned/google/searchtrends.parquet\\\")\"\"\")"
   ]
  },
  {
   "cell_type": "code",
   "execution_count": 12,
   "metadata": {},
   "outputs": [
    {
     "data": {
      "application/vnd.jupyter.widget-view+json": {
       "model_id": "09d5b6db5eb8435ebf440ab49607d913",
       "version_major": 2,
       "version_minor": 0
      },
      "text/plain": [
       "VBox()"
      ]
     },
     "metadata": {},
     "output_type": "display_data"
    },
    {
     "data": {
      "application/vnd.jupyter.widget-view+json": {
       "model_id": "",
       "version_major": 2,
       "version_minor": 0
      },
      "text/plain": [
       "FloatProgress(value=0.0, bar_style='info', description='Progress:', layout=Layout(height='25px', width='50%'),…"
      ]
     },
     "metadata": {},
     "output_type": "display_data"
    }
   ],
   "source": [
    "df_dim_symptoms = spark.sql(\"SELECT DISTINCT symptom FROM SEARCHTRENDS\")"
   ]
  },
  {
   "cell_type": "code",
   "execution_count": 13,
   "metadata": {},
   "outputs": [
    {
     "data": {
      "application/vnd.jupyter.widget-view+json": {
       "model_id": "de90237e340443e59ded3e61144aa694",
       "version_major": 2,
       "version_minor": 0
      },
      "text/plain": [
       "VBox()"
      ]
     },
     "metadata": {},
     "output_type": "display_data"
    },
    {
     "data": {
      "application/vnd.jupyter.widget-view+json": {
       "model_id": "",
       "version_major": 2,
       "version_minor": 0
      },
      "text/plain": [
       "FloatProgress(value=0.0, bar_style='info', description='Progress:', layout=Layout(height='25px', width='50%'),…"
      ]
     },
     "metadata": {},
     "output_type": "display_data"
    }
   ],
   "source": [
    "def determine_symptom_group(s):\n",
    "    \n",
    "    #source: https://www.cdc.gov/coronavirus/2019-ncov/symptoms-testing/symptoms.html\n",
    "    #source: https://www.frontiersin.org/articles/10.3389/fpsyg.2020.01491/full\n",
    "    \n",
    "    covid_symptoms = ['fever', 'chills', 'cough', \\\n",
    "                  'shortness_of_breath', 'shallow_breathing', \\\n",
    "                  'fatigue','headache','sore_throat','throat_irritation',\\\n",
    "                  'nasal_congestion','nausea', 'vomiting', 'diarrhea']\n",
    "    \n",
    "    lockdown_symptoms = ['sleep_deprivation', 'sleep_disorder', 'anxiety', \\\n",
    "                  'generalized_anxiety_disorder', 'panic_attack', 'depression', \\\n",
    "                  'major_depressive_disorder']\n",
    "    \n",
    "    if s in covid_symptoms:\n",
    "        return 'covid'\n",
    "    elif s in lockdown_symptoms:\n",
    "        return 'lockdown'\n",
    "    else:\n",
    "        return 'other'"
   ]
  },
  {
   "cell_type": "code",
   "execution_count": 14,
   "metadata": {},
   "outputs": [
    {
     "data": {
      "application/vnd.jupyter.widget-view+json": {
       "model_id": "392088c995f14f428ba5fc864e945223",
       "version_major": 2,
       "version_minor": 0
      },
      "text/plain": [
       "VBox()"
      ]
     },
     "metadata": {},
     "output_type": "display_data"
    },
    {
     "data": {
      "application/vnd.jupyter.widget-view+json": {
       "model_id": "",
       "version_major": 2,
       "version_minor": 0
      },
      "text/plain": [
       "FloatProgress(value=0.0, bar_style='info', description='Progress:', layout=Layout(height='25px', width='50%'),…"
      ]
     },
     "metadata": {},
     "output_type": "display_data"
    },
    {
     "name": "stdout",
     "output_type": "stream",
     "text": [
      "422"
     ]
    }
   ],
   "source": [
    "# call count to materialize the dataframe\n",
    "df_dim_symptoms.count()"
   ]
  },
  {
   "cell_type": "code",
   "execution_count": 15,
   "metadata": {},
   "outputs": [
    {
     "data": {
      "application/vnd.jupyter.widget-view+json": {
       "model_id": "2b493f548576462e82360b1dddc8e294",
       "version_major": 2,
       "version_minor": 0
      },
      "text/plain": [
       "VBox()"
      ]
     },
     "metadata": {},
     "output_type": "display_data"
    },
    {
     "data": {
      "application/vnd.jupyter.widget-view+json": {
       "model_id": "",
       "version_major": 2,
       "version_minor": 0
      },
      "text/plain": [
       "FloatProgress(value=0.0, bar_style='info', description='Progress:', layout=Layout(height='25px', width='50%'),…"
      ]
     },
     "metadata": {},
     "output_type": "display_data"
    }
   ],
   "source": [
    "symptgrpFunc = F.udf(determine_symptom_group, StringType())"
   ]
  },
  {
   "cell_type": "code",
   "execution_count": 16,
   "metadata": {},
   "outputs": [
    {
     "data": {
      "application/vnd.jupyter.widget-view+json": {
       "model_id": "b34adf651cb746048ec7a92262d4768c",
       "version_major": 2,
       "version_minor": 0
      },
      "text/plain": [
       "VBox()"
      ]
     },
     "metadata": {},
     "output_type": "display_data"
    },
    {
     "data": {
      "application/vnd.jupyter.widget-view+json": {
       "model_id": "",
       "version_major": 2,
       "version_minor": 0
      },
      "text/plain": [
       "FloatProgress(value=0.0, bar_style='info', description='Progress:', layout=Layout(height='25px', width='50%'),…"
      ]
     },
     "metadata": {},
     "output_type": "display_data"
    }
   ],
   "source": [
    "df_dim_symptoms = df_dim_symptoms.withColumn(\"symptom_group\",symptgrpFunc(col('symptom')))"
   ]
  },
  {
   "cell_type": "code",
   "execution_count": 17,
   "metadata": {},
   "outputs": [
    {
     "data": {
      "application/vnd.jupyter.widget-view+json": {
       "model_id": "33e277ae38fb4b99b6fa169c5dc4ee49",
       "version_major": 2,
       "version_minor": 0
      },
      "text/plain": [
       "VBox()"
      ]
     },
     "metadata": {},
     "output_type": "display_data"
    },
    {
     "data": {
      "application/vnd.jupyter.widget-view+json": {
       "model_id": "",
       "version_major": 2,
       "version_minor": 0
      },
      "text/plain": [
       "FloatProgress(value=0.0, bar_style='info', description='Progress:', layout=Layout(height='25px', width='50%'),…"
      ]
     },
     "metadata": {},
     "output_type": "display_data"
    }
   ],
   "source": [
    "df_dim_symptoms = df_dim_symptoms.select(F.row_number()\\\n",
    "                                     .over(Window.partitionBy()\\\n",
    "                                     .orderBy(df_dim_symptoms['symptom']))\\\n",
    "                                     .alias(\"id\"), \"symptom\", \"symptom_group\")"
   ]
  },
  {
   "cell_type": "code",
   "execution_count": 18,
   "metadata": {
    "scrolled": true
   },
   "outputs": [
    {
     "data": {
      "application/vnd.jupyter.widget-view+json": {
       "model_id": "bc7ee1cb4ccf48a7be724ec7ca3978e3",
       "version_major": 2,
       "version_minor": 0
      },
      "text/plain": [
       "VBox()"
      ]
     },
     "metadata": {},
     "output_type": "display_data"
    },
    {
     "data": {
      "application/vnd.jupyter.widget-view+json": {
       "model_id": "",
       "version_major": 2,
       "version_minor": 0
      },
      "text/plain": [
       "FloatProgress(value=0.0, bar_style='info', description='Progress:', layout=Layout(height='25px', width='50%'),…"
      ]
     },
     "metadata": {},
     "output_type": "display_data"
    }
   ],
   "source": [
    "df_dim_symptoms.write.mode('overwrite').parquet(folder_s2+'dimSymptom.parquet')"
   ]
  },
  {
   "cell_type": "markdown",
   "metadata": {},
   "source": [
    "# Create Facts"
   ]
  },
  {
   "cell_type": "markdown",
   "metadata": {},
   "source": [
    "## factSearches"
   ]
  },
  {
   "cell_type": "code",
   "execution_count": 19,
   "metadata": {
    "scrolled": true
   },
   "outputs": [
    {
     "data": {
      "application/vnd.jupyter.widget-view+json": {
       "model_id": "04dd4904bab54fc381360fec0d972c9a",
       "version_major": 2,
       "version_minor": 0
      },
      "text/plain": [
       "VBox()"
      ]
     },
     "metadata": {},
     "output_type": "display_data"
    },
    {
     "data": {
      "application/vnd.jupyter.widget-view+json": {
       "model_id": "",
       "version_major": 2,
       "version_minor": 0
      },
      "text/plain": [
       "FloatProgress(value=0.0, bar_style='info', description='Progress:', layout=Layout(height='25px', width='50%'),…"
      ]
     },
     "metadata": {},
     "output_type": "display_data"
    }
   ],
   "source": [
    "df_st = spark.read.parquet(folder_s1+\"google/searchtrends.parquet\")"
   ]
  },
  {
   "cell_type": "code",
   "execution_count": 20,
   "metadata": {},
   "outputs": [
    {
     "data": {
      "application/vnd.jupyter.widget-view+json": {
       "model_id": "2c4f60671a604b1bb7ccad35f5f3acbf",
       "version_major": 2,
       "version_minor": 0
      },
      "text/plain": [
       "VBox()"
      ]
     },
     "metadata": {},
     "output_type": "display_data"
    },
    {
     "data": {
      "application/vnd.jupyter.widget-view+json": {
       "model_id": "",
       "version_major": 2,
       "version_minor": 0
      },
      "text/plain": [
       "FloatProgress(value=0.0, bar_style='info', description='Progress:', layout=Layout(height='25px', width='50%'),…"
      ]
     },
     "metadata": {},
     "output_type": "display_data"
    },
    {
     "name": "stdout",
     "output_type": "stream",
     "text": [
      "root\n",
      " |-- key: string (nullable = true)\n",
      " |-- date: date (nullable = true)\n",
      " |-- symptom: string (nullable = true)\n",
      " |-- search_trend: double (nullable = true)\n",
      " |-- country_code: string (nullable = true)"
     ]
    }
   ],
   "source": [
    "df_st.printSchema()"
   ]
  },
  {
   "cell_type": "code",
   "execution_count": 21,
   "metadata": {},
   "outputs": [
    {
     "data": {
      "application/vnd.jupyter.widget-view+json": {
       "model_id": "500b147c966a42169bc34d56162019fd",
       "version_major": 2,
       "version_minor": 0
      },
      "text/plain": [
       "VBox()"
      ]
     },
     "metadata": {},
     "output_type": "display_data"
    },
    {
     "data": {
      "application/vnd.jupyter.widget-view+json": {
       "model_id": "",
       "version_major": 2,
       "version_minor": 0
      },
      "text/plain": [
       "FloatProgress(value=0.0, bar_style='info', description='Progress:', layout=Layout(height='25px', width='50%'),…"
      ]
     },
     "metadata": {},
     "output_type": "display_data"
    }
   ],
   "source": [
    "# rename key to regionId\n",
    "df_st = df_st.withColumnRenamed(\"key\", \"regionId\")"
   ]
  },
  {
   "cell_type": "code",
   "execution_count": 22,
   "metadata": {},
   "outputs": [
    {
     "data": {
      "application/vnd.jupyter.widget-view+json": {
       "model_id": "4c7b495745234c1682350cd0e8a34c37",
       "version_major": 2,
       "version_minor": 0
      },
      "text/plain": [
       "VBox()"
      ]
     },
     "metadata": {},
     "output_type": "display_data"
    },
    {
     "data": {
      "application/vnd.jupyter.widget-view+json": {
       "model_id": "",
       "version_major": 2,
       "version_minor": 0
      },
      "text/plain": [
       "FloatProgress(value=0.0, bar_style='info', description='Progress:', layout=Layout(height='25px', width='50%'),…"
      ]
     },
     "metadata": {},
     "output_type": "display_data"
    }
   ],
   "source": [
    "# join with dimsymptom to get id\n",
    "df_st = df_st.join(df_dim_symptoms.select(\"id\",\"symptom\"),on=[\"symptom\"],how=\"inner\")\n",
    "df_st = df_st.withColumnRenamed(\"id\", \"symptomId\")"
   ]
  },
  {
   "cell_type": "code",
   "execution_count": 23,
   "metadata": {},
   "outputs": [
    {
     "data": {
      "application/vnd.jupyter.widget-view+json": {
       "model_id": "e207a245ea19409aabb8eb04fb4b8ec1",
       "version_major": 2,
       "version_minor": 0
      },
      "text/plain": [
       "VBox()"
      ]
     },
     "metadata": {},
     "output_type": "display_data"
    },
    {
     "data": {
      "application/vnd.jupyter.widget-view+json": {
       "model_id": "",
       "version_major": 2,
       "version_minor": 0
      },
      "text/plain": [
       "FloatProgress(value=0.0, bar_style='info', description='Progress:', layout=Layout(height='25px', width='50%'),…"
      ]
     },
     "metadata": {},
     "output_type": "display_data"
    }
   ],
   "source": [
    "# generate row number\n",
    "df_st = df_st.select(F.row_number()\\\n",
    "                     .over(Window.partitionBy()\\\n",
    "                     .orderBy(df_st['date'],df_st['regionId']))\\\n",
    "                     .alias(\"id\"), \"regionId\", \"date\", \"symptomId\", \"search_trend\", \"country_code\")"
   ]
  },
  {
   "cell_type": "code",
   "execution_count": null,
   "metadata": {},
   "outputs": [
    {
     "data": {
      "application/vnd.jupyter.widget-view+json": {
       "model_id": "9a57324c5fab437682e1717fa35ec245",
       "version_major": 2,
       "version_minor": 0
      },
      "text/plain": [
       "VBox()"
      ]
     },
     "metadata": {},
     "output_type": "display_data"
    },
    {
     "data": {
      "application/vnd.jupyter.widget-view+json": {
       "model_id": "c765d1670a654586afd30470fe8a31c1",
       "version_major": 2,
       "version_minor": 0
      },
      "text/plain": [
       "FloatProgress(value=0.0, bar_style='info', description='Progress:', layout=Layout(height='25px', width='50%'),…"
      ]
     },
     "metadata": {},
     "output_type": "display_data"
    }
   ],
   "source": [
    "df_st.write.mode('overwrite').partitionBy(\"country_code\").parquet(folder_s2+\"/factSearches.parquet\")"
   ]
  },
  {
   "cell_type": "markdown",
   "metadata": {},
   "source": [
    "## factCovid"
   ]
  },
  {
   "cell_type": "code",
   "execution_count": null,
   "metadata": {},
   "outputs": [],
   "source": [
    "#read epidemiology data\n",
    "df_epi = spark.read.parquet(folder_s1+\"google/epidemiology.parquet\")\n",
    "df_epi = df_epi.select('key', 'date', 'new_confirmed', 'new_deceased', 'new_recovered', 'new_tested')\n",
    "df_epi = df_epi.withColumnRenamed('key','regionId')"
   ]
  },
  {
   "cell_type": "code",
   "execution_count": null,
   "metadata": {},
   "outputs": [],
   "source": [
    "#read mobility data\n",
    "df_mob = spark.read.parquet(folder_s1+\"google/mobility.parquet\")\n",
    "df_mob = df_mob.select('key', 'date', 'mobility_retail_and_recreation', \\\n",
    "                       'mobility_grocery_and_pharmacy', 'mobility_parks', \\\n",
    "                       'mobility_transit_stations','mobility_workplaces',\\\n",
    "                       'mobility_residential')\n",
    "df_mob = df_mob.withColumnRenamed('key','regionId')"
   ]
  },
  {
   "cell_type": "code",
   "execution_count": null,
   "metadata": {},
   "outputs": [],
   "source": [
    "df_mob.printSchema()"
   ]
  },
  {
   "cell_type": "code",
   "execution_count": null,
   "metadata": {},
   "outputs": [],
   "source": [
    "#create union of dimRegion and dimTime\n",
    "df_fact_covid = df_dim_region.crossJoin(df_dim_time).select('id','date','country_code')"
   ]
  },
  {
   "cell_type": "code",
   "execution_count": null,
   "metadata": {},
   "outputs": [],
   "source": [
    "factCount = df_fact_covid.count()"
   ]
  },
  {
   "cell_type": "code",
   "execution_count": null,
   "metadata": {},
   "outputs": [],
   "source": [
    "df_fact_covid = df_fact_covid.withColumnRenamed('id','regionId')"
   ]
  },
  {
   "cell_type": "code",
   "execution_count": null,
   "metadata": {},
   "outputs": [],
   "source": [
    "df_fact_covid = df_fact_covid.join(df_epi, on=['regionId','date'], how='left')"
   ]
  },
  {
   "cell_type": "code",
   "execution_count": null,
   "metadata": {},
   "outputs": [],
   "source": [
    "df_fact_covid = df_fact_covid.join(df_mob, on=['regionId','date'], how='left')"
   ]
  },
  {
   "cell_type": "markdown",
   "metadata": {},
   "source": [
    "### Oxford government response"
   ]
  },
  {
   "cell_type": "code",
   "execution_count": null,
   "metadata": {},
   "outputs": [],
   "source": [
    "df_oxf = spark.read.parquet(folder_s1+\"oxford-gov-response/oxfgovresp.parquet\")"
   ]
  },
  {
   "cell_type": "code",
   "execution_count": null,
   "metadata": {},
   "outputs": [],
   "source": [
    "# limit to NAT_TOTAL\n",
    "df_oxf_f = df_oxf.filter(\"Jurisdiction == 'NAT_TOTAL'\")"
   ]
  },
  {
   "cell_type": "code",
   "execution_count": null,
   "metadata": {},
   "outputs": [],
   "source": [
    "df_oxf_f = df_oxf_f.select('country_code', 'date', \"C1_School_closing\",\\\n",
    "                 \"C1_Flag\",\\\n",
    "                 \"C2_Workplace_closing\",\\\n",
    "                 \"C2_Flag\",\\\n",
    "                 \"C3_Cancel_public_events\",\\\n",
    "                 \"C3_Flag\",\\\n",
    "                 \"C4_Restrictions_on_gatherings\",\\\n",
    "                 \"C4_Flag\",\\\n",
    "                 \"C5_Close_public_transport\",\\\n",
    "                 \"C5_Flag\",\\\n",
    "                 \"C6_Stay_at_home_requirements\",\\\n",
    "                 \"C6_Flag\",\\\n",
    "                 \"C7_Restrictions_on_internal_movement\",\\\n",
    "                 \"C7_Flag\",\\\n",
    "                 \"C8_International_travel_controls\",\\\n",
    "                 \"E1_Income_support\",\\\n",
    "                 \"E1_Flag\",\\\n",
    "                 \"E2_Debt_contract_relief\",\\\n",
    "                 \"E3_Fiscal_measures\",\\\n",
    "                 \"E4_International_support\",\\\n",
    "                 \"H1_Public_information_campaigns\",\\\n",
    "                 \"H1_Flag\",\\\n",
    "                 \"H2_Testing_policy\",\\\n",
    "                 \"H3_Contact_tracing\",\\\n",
    "                 \"H4_Emergency_investment_in_healthcare\",\\\n",
    "                 \"H5_Investment_in_vaccines\",\\\n",
    "                 \"H6_Facial_Coverings\",\\\n",
    "                 \"H6_Flag\",\\\n",
    "                 \"H7_Vaccination_policy\",\\\n",
    "                 \"H7_Flag\",\\\n",
    "                 \"StringencyIndex\",\\\n",
    "                 \"GovernmentResponseIndex\",\\\n",
    "                 \"ContainmentHealthIndex\",\\\n",
    "                 \"EconomicSupportIndex\")"
   ]
  },
  {
   "cell_type": "code",
   "execution_count": null,
   "metadata": {},
   "outputs": [],
   "source": [
    "df_oxf_f = df_oxf_f.withColumnRenamed(\"country_code\",\"regionId\")"
   ]
  },
  {
   "cell_type": "code",
   "execution_count": null,
   "metadata": {},
   "outputs": [],
   "source": [
    "df_fact_covid = df_fact_covid.join(df_oxf_f, on=['regionId','date'], how='left')"
   ]
  },
  {
   "cell_type": "code",
   "execution_count": null,
   "metadata": {},
   "outputs": [],
   "source": [
    "factCount_final = df_fact_covid.count()"
   ]
  },
  {
   "cell_type": "code",
   "execution_count": null,
   "metadata": {},
   "outputs": [],
   "source": [
    "assert factCount == factCount_final"
   ]
  },
  {
   "cell_type": "code",
   "execution_count": null,
   "metadata": {},
   "outputs": [],
   "source": [
    "len(df_fact_covid.columns)"
   ]
  },
  {
   "cell_type": "markdown",
   "metadata": {},
   "source": [
    "### gdelt"
   ]
  },
  {
   "cell_type": "code",
   "execution_count": null,
   "metadata": {},
   "outputs": [],
   "source": [
    "df_gdelt = spark.read.parquet(folder_s1+\"gdelt/gdelt.parquet\")"
   ]
  },
  {
   "cell_type": "code",
   "execution_count": null,
   "metadata": {},
   "outputs": [],
   "source": [
    "df_gdelt.createOrReplaceTempView(\"gdelt\")"
   ]
  },
  {
   "cell_type": "code",
   "execution_count": null,
   "metadata": {},
   "outputs": [],
   "source": [
    "df_gdelt_facts_covid = spark.sql(\"\"\"SELECT country_code, `date`, \n",
    "                        COUNT(DISTINCT GLOBALEVENTID) as gd_events_covid,\n",
    "                        SUM(NumMentions) as gd_nummentions_covid,\n",
    "                        SUM(NumSources) as gd_numsources_covid,\n",
    "                        SUM(NumArticles) as gd_numarticles_covid,\n",
    "                        AVG(AvgTone) as gd_avgtone_covid,\n",
    "                        AVG(GoldsteinScale) as gd_gtscale_covid\n",
    "                     FROM gdelt \n",
    "                     WHERE covid = true \n",
    "                     GROUP BY country_code, `date`\n",
    "                     \"\"\")"
   ]
  },
  {
   "cell_type": "code",
   "execution_count": null,
   "metadata": {},
   "outputs": [],
   "source": [
    "df_gdelt_facts_general = spark.sql(\"\"\"SELECT country_code, `date`, \n",
    "                        COUNT(DISTINCT GLOBALEVENTID) as gd_events_general,\n",
    "                        SUM(NumMentions) as gd_nummentions_general,\n",
    "                        SUM(NumSources) as gd_numsources_general,\n",
    "                        SUM(NumArticles) as gd_numarticles_general,\n",
    "                        AVG(AvgTone) as gd_avgtone_general,\n",
    "                        AVG(GoldsteinScale) as gd_gtscale_general\n",
    "                     FROM gdelt\n",
    "                     GROUP BY country_code, `date`\n",
    "                     \"\"\")"
   ]
  },
  {
   "cell_type": "code",
   "execution_count": null,
   "metadata": {},
   "outputs": [],
   "source": [
    "df_gdelt_facts = df_gdelt_facts_general.join(df_gdelt_facts_covid,on=['country_code','date'],how=\"outer\")"
   ]
  },
  {
   "cell_type": "code",
   "execution_count": null,
   "metadata": {},
   "outputs": [],
   "source": [
    "df_gdelt_facts = df_gdelt_facts.withColumn('gd_events_covid_perc', col('gd_events_covid') / col('gd_events_general'))\n",
    "df_gdelt_facts = df_gdelt_facts.withColumn('gd_nummentions_covid_perc', col('gd_nummentions_covid') / col('gd_nummentions_general'))\n",
    "df_gdelt_facts = df_gdelt_facts.withColumn('gd_numsources_covid_perc', col('gd_numsources_covid') / col('gd_numsources_general'))\n",
    "df_gdelt_facts = df_gdelt_facts.withColumn('gd_numarticles_covid_perc', col('gd_numarticles_covid') / col('gd_numarticles_general'))"
   ]
  },
  {
   "cell_type": "code",
   "execution_count": null,
   "metadata": {},
   "outputs": [],
   "source": [
    "df_gdelt_facts = df_gdelt_facts.withColumnRenamed('country_code', 'regionId')"
   ]
  },
  {
   "cell_type": "code",
   "execution_count": null,
   "metadata": {},
   "outputs": [],
   "source": [
    "df_fact_covid = df_fact_covid.join(df_gdelt_facts, on=['regionId','date'], how='left')"
   ]
  },
  {
   "cell_type": "code",
   "execution_count": null,
   "metadata": {},
   "outputs": [],
   "source": [
    "factCount_final = df_fact_covid.count()"
   ]
  },
  {
   "cell_type": "code",
   "execution_count": null,
   "metadata": {},
   "outputs": [],
   "source": [
    "assert factCount == factCount_final"
   ]
  },
  {
   "cell_type": "code",
   "execution_count": null,
   "metadata": {},
   "outputs": [],
   "source": [
    "len(df_fact_covid.columns)"
   ]
  },
  {
   "cell_type": "code",
   "execution_count": null,
   "metadata": {},
   "outputs": [],
   "source": [
    "df_fact_covid.printSchema()"
   ]
  },
  {
   "cell_type": "code",
   "execution_count": null,
   "metadata": {},
   "outputs": [],
   "source": [
    "df_fact_covid.write.mode('overwrite').partitionBy(\"country_code\").parquet(folder_s2+\"/factCovid.parquet\")"
   ]
  },
  {
   "cell_type": "code",
   "execution_count": null,
   "metadata": {},
   "outputs": [],
   "source": []
  }
 ],
 "metadata": {
  "kernelspec": {
   "display_name": "PySpark",
   "language": "",
   "name": "pysparkkernel"
  },
  "language_info": {
   "codemirror_mode": {
    "name": "python",
    "version": 2
   },
   "mimetype": "text/x-python",
   "name": "pyspark",
   "pygments_lexer": "python2"
  }
 },
 "nbformat": 4,
 "nbformat_minor": 4
}
