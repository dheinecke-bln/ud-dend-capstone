{
 "cells": [
  {
   "cell_type": "markdown",
   "metadata": {},
   "source": [
    "## imports"
   ]
  },
  {
   "cell_type": "code",
   "execution_count": 1,
   "metadata": {},
   "outputs": [
    {
     "data": {
      "application/vnd.jupyter.widget-view+json": {
       "model_id": "71f578f436174f03832d9de279f33ab5",
       "version_major": 2,
       "version_minor": 0
      },
      "text/plain": [
       "VBox()"
      ]
     },
     "metadata": {},
     "output_type": "display_data"
    },
    {
     "name": "stdout",
     "output_type": "stream",
     "text": [
      "Starting Spark application\n"
     ]
    },
    {
     "data": {
      "text/html": [
       "<table>\n",
       "<tr><th>ID</th><th>YARN Application ID</th><th>Kind</th><th>State</th><th>Spark UI</th><th>Driver log</th><th>Current session?</th></tr><tr><td>2</td><td>application_1609189712855_0003</td><td>pyspark</td><td>idle</td><td><a target=\"_blank\" href=\"http://ip-172-31-38-88.us-west-2.compute.internal:20888/proxy/application_1609189712855_0003/\">Link</a></td><td><a target=\"_blank\" href=\"http://ip-172-31-38-176.us-west-2.compute.internal:8042/node/containerlogs/container_1609189712855_0003_01_000001/livy\">Link</a></td><td>✔</td></tr></table>"
      ],
      "text/plain": [
       "<IPython.core.display.HTML object>"
      ]
     },
     "metadata": {},
     "output_type": "display_data"
    },
    {
     "data": {
      "application/vnd.jupyter.widget-view+json": {
       "model_id": "",
       "version_major": 2,
       "version_minor": 0
      },
      "text/plain": [
       "FloatProgress(value=0.0, bar_style='info', description='Progress:', layout=Layout(height='25px', width='50%'),…"
      ]
     },
     "metadata": {},
     "output_type": "display_data"
    },
    {
     "name": "stdout",
     "output_type": "stream",
     "text": [
      "SparkSession available as 'spark'.\n"
     ]
    },
    {
     "data": {
      "application/vnd.jupyter.widget-view+json": {
       "model_id": "",
       "version_major": 2,
       "version_minor": 0
      },
      "text/plain": [
       "FloatProgress(value=0.0, bar_style='info', description='Progress:', layout=Layout(height='25px', width='50%'),…"
      ]
     },
     "metadata": {},
     "output_type": "display_data"
    }
   ],
   "source": [
    "from datetime import datetime\n",
    "from pyspark.sql import functions as F\n",
    "from pyspark.sql.types import StructType,StructField, StringType,\\\n",
    "                              DateType, IntegerType, DoubleType, LongType,\\\n",
    "                              BooleanType\n",
    "from pyspark.sql.functions import col, explode, array, struct, expr, sum, lit"
   ]
  },
  {
   "cell_type": "markdown",
   "metadata": {},
   "source": [
    "## define bucket"
   ]
  },
  {
   "cell_type": "code",
   "execution_count": 2,
   "metadata": {},
   "outputs": [
    {
     "data": {
      "application/vnd.jupyter.widget-view+json": {
       "model_id": "fe5fb2a756d74cf881da9e26644590cc",
       "version_major": 2,
       "version_minor": 0
      },
      "text/plain": [
       "VBox()"
      ]
     },
     "metadata": {},
     "output_type": "display_data"
    },
    {
     "data": {
      "application/vnd.jupyter.widget-view+json": {
       "model_id": "",
       "version_major": 2,
       "version_minor": 0
      },
      "text/plain": [
       "FloatProgress(value=0.0, bar_style='info', description='Progress:', layout=Layout(height='25px', width='50%'),…"
      ]
     },
     "metadata": {},
     "output_type": "display_data"
    }
   ],
   "source": [
    "input_bucket = 's3://dh-ud-dend-capstone/stage0_raw/gdelt'"
   ]
  },
  {
   "cell_type": "markdown",
   "metadata": {},
   "source": [
    "# Gdelt data"
   ]
  },
  {
   "cell_type": "code",
   "execution_count": 3,
   "metadata": {},
   "outputs": [
    {
     "data": {
      "application/vnd.jupyter.widget-view+json": {
       "model_id": "e62723e28a14461794afdc2b98068c0c",
       "version_major": 2,
       "version_minor": 0
      },
      "text/plain": [
       "VBox()"
      ]
     },
     "metadata": {},
     "output_type": "display_data"
    },
    {
     "data": {
      "application/vnd.jupyter.widget-view+json": {
       "model_id": "",
       "version_major": 2,
       "version_minor": 0
      },
      "text/plain": [
       "FloatProgress(value=0.0, bar_style='info', description='Progress:', layout=Layout(height='25px', width='50%'),…"
      ]
     },
     "metadata": {},
     "output_type": "display_data"
    }
   ],
   "source": [
    "schema = StructType() \\\n",
    "            .add(\"GLOBALEVENTID\",LongType(),True) \\\n",
    "            .add(\"SQLDATE\",StringType(),True) \\\n",
    "            .add(\"MonthYear\",IntegerType(),True) \\\n",
    "            .add(\"Year\",IntegerType(),True) \\\n",
    "            .add(\"FractionDate\",StringType(),True) \\\n",
    "            .add(\"Actor1Code\",StringType(),True) \\\n",
    "            .add(\"Actor1Name\",StringType(),True) \\\n",
    "            .add(\"Actor1CountryCode\",StringType(),True) \\\n",
    "            .add(\"Actor1KnownGroupCode\",StringType(),True) \\\n",
    "            .add(\"Actor1EthnicCode\",StringType(),True) \\\n",
    "            .add(\"Actor1Religion1Code\",StringType(),True) \\\n",
    "            .add(\"Actor1Religion2Code\",StringType(),True) \\\n",
    "            .add(\"Actor1Type1Code\",StringType(),True) \\\n",
    "            .add(\"Actor1Type2Code\",StringType(),True) \\\n",
    "            .add(\"Actor1Type3Code\",StringType(),True) \\\n",
    "            .add(\"Actor2Code\",StringType(),True) \\\n",
    "            .add(\"Actor2Name\",StringType(),True) \\\n",
    "            .add(\"Actor2CountryCode\",StringType(),True) \\\n",
    "            .add(\"Actor2KnownGroupCode\",StringType(),True) \\\n",
    "            .add(\"Actor2EthnicCode\",StringType(),True) \\\n",
    "            .add(\"Actor2Religion1Code\",StringType(),True) \\\n",
    "            .add(\"Actor2Religion2Code\",StringType(),True) \\\n",
    "            .add(\"Actor2Type1Code\",StringType(),True) \\\n",
    "            .add(\"Actor2Type2Code\",StringType(),True) \\\n",
    "            .add(\"Actor2Type3Code\",StringType(),True) \\\n",
    "            .add(\"IsRootEvent\",StringType(),True) \\\n",
    "            .add(\"EventCode\",StringType(),True) \\\n",
    "            .add(\"EventBaseCode\",StringType(),True) \\\n",
    "            .add(\"EventRootCode\",StringType(),True) \\\n",
    "            .add(\"QuadClass\",StringType(),True) \\\n",
    "            .add(\"GoldsteinScale\",StringType(),True) \\\n",
    "            .add(\"NumMentions\",IntegerType(),True) \\\n",
    "            .add(\"NumSources\",IntegerType(),True) \\\n",
    "            .add(\"NumArticles\",IntegerType(),True) \\\n",
    "            .add(\"AvgTone\",DoubleType(),True) \\\n",
    "            .add(\"Actor1Geo_Type\",StringType(),True) \\\n",
    "            .add(\"Actor1Geo_FullName\",StringType(),True) \\\n",
    "            .add(\"Actor1Geo_CountryCode\",StringType(),True) \\\n",
    "            .add(\"Actor1Geo_ADM1Code\",StringType(),True) \\\n",
    "            .add(\"Actor1Geo_Lat\",StringType(),True) \\\n",
    "            .add(\"Actor1Geo_Long\",StringType(),True) \\\n",
    "            .add(\"Actor1Geo_FeatureID\",StringType(),True) \\\n",
    "            .add(\"Actor2Geo_Type\",StringType(),True) \\\n",
    "            .add(\"Actor2Geo_FullName\",StringType(),True) \\\n",
    "            .add(\"Actor2Geo_CountryCode\",StringType(),True) \\\n",
    "            .add(\"Actor2Geo_ADM1Code\",StringType(),True) \\\n",
    "            .add(\"Actor2Geo_Lat\",StringType(),True) \\\n",
    "            .add(\"Actor2Geo_Long\",StringType(),True) \\\n",
    "            .add(\"Actor2Geo_FeatureID\",StringType(),True) \\\n",
    "            .add(\"ActionGeo_Type\",StringType(),True) \\\n",
    "            .add(\"ActionGeo_FullName\",StringType(),True) \\\n",
    "            .add(\"ActionGeo_CountryCode\",StringType(),True) \\\n",
    "            .add(\"ActionGeo_ADM1Code\",StringType(),True) \\\n",
    "            .add(\"ActionGeo_Lat\",StringType(),True) \\\n",
    "            .add(\"ActionGeo_Long\",StringType(),True) \\\n",
    "            .add(\"ActionGeo_FeatureID\",StringType(),True) \\\n",
    "            .add(\"DATEADDED\",StringType(),True) \\\n",
    "            .add(\"SOURCEURL\",StringType(),True)"
   ]
  },
  {
   "cell_type": "code",
   "execution_count": 4,
   "metadata": {
    "scrolled": true
   },
   "outputs": [
    {
     "data": {
      "application/vnd.jupyter.widget-view+json": {
       "model_id": "19e08ae61a94400ca9bf92277a16a6ab",
       "version_major": 2,
       "version_minor": 0
      },
      "text/plain": [
       "VBox()"
      ]
     },
     "metadata": {},
     "output_type": "display_data"
    },
    {
     "data": {
      "application/vnd.jupyter.widget-view+json": {
       "model_id": "",
       "version_major": 2,
       "version_minor": 0
      },
      "text/plain": [
       "FloatProgress(value=0.0, bar_style='info', description='Progress:', layout=Layout(height='25px', width='50%'),…"
      ]
     },
     "metadata": {},
     "output_type": "display_data"
    }
   ],
   "source": [
    "gdelt_file = '/20201215.export.CSV'\n",
    "df_gdelt = spark.read.option(\"delimiter\", \"\\t\").csv(input_bucket + gdelt_file,header=False,schema=schema)"
   ]
  },
  {
   "cell_type": "code",
   "execution_count": 5,
   "metadata": {},
   "outputs": [
    {
     "data": {
      "application/vnd.jupyter.widget-view+json": {
       "model_id": "9edf84769bc24f5d9ad53100ed78c1f0",
       "version_major": 2,
       "version_minor": 0
      },
      "text/plain": [
       "VBox()"
      ]
     },
     "metadata": {},
     "output_type": "display_data"
    },
    {
     "data": {
      "application/vnd.jupyter.widget-view+json": {
       "model_id": "",
       "version_major": 2,
       "version_minor": 0
      },
      "text/plain": [
       "FloatProgress(value=0.0, bar_style='info', description='Progress:', layout=Layout(height='25px', width='50%'),…"
      ]
     },
     "metadata": {},
     "output_type": "display_data"
    }
   ],
   "source": [
    "datefunc = F.udf(lambda x: datetime.strptime(x, '%Y%m%d'), DateType())\n",
    "df_gdelt = df_gdelt.withColumn('date', datefunc(col('SQLDATE')))\n",
    "df_gdelt = df_gdelt.withColumn(\"month\",F.month(\"date\"))"
   ]
  },
  {
   "cell_type": "code",
   "execution_count": 6,
   "metadata": {},
   "outputs": [
    {
     "data": {
      "application/vnd.jupyter.widget-view+json": {
       "model_id": "38ab9477d11144678fe809e9c2621cd4",
       "version_major": 2,
       "version_minor": 0
      },
      "text/plain": [
       "VBox()"
      ]
     },
     "metadata": {},
     "output_type": "display_data"
    },
    {
     "data": {
      "application/vnd.jupyter.widget-view+json": {
       "model_id": "",
       "version_major": 2,
       "version_minor": 0
      },
      "text/plain": [
       "FloatProgress(value=0.0, bar_style='info', description='Progress:', layout=Layout(height='25px', width='50%'),…"
      ]
     },
     "metadata": {},
     "output_type": "display_data"
    }
   ],
   "source": [
    "df_gdelt_reduced = df_gdelt.select(\"GLOBALEVENTID\",\\\n",
    "                                    \"date\",\\\n",
    "                                    \"month\",\\\n",
    "                                    \"Year\",\\\n",
    "                                    \"Actor1Code\",\\\n",
    "                                    \"Actor1Name\",\\\n",
    "                                    \"Actor1CountryCode\",\\\n",
    "                                    \"Actor2Code\",\\\n",
    "                                    \"Actor2Name\",\\\n",
    "                                    \"Actor2CountryCode\",\\\n",
    "                                    \"IsRootEvent\",\\\n",
    "                                    \"EventCode\",\\\n",
    "                                    \"EventBaseCode\",\\\n",
    "                                    \"EventRootCode\",\\\n",
    "                                    \"QuadClass\",\\\n",
    "                                    \"GoldsteinScale\",\\\n",
    "                                    \"NumMentions\",\\\n",
    "                                    \"NumSources\",\\\n",
    "                                    \"NumArticles\",\\\n",
    "                                    \"AvgTone\",\\\n",
    "                                    \"ActionGeo_Type\",\\\n",
    "                                    \"ActionGeo_CountryCode\",\\\n",
    "                                    \"ActionGeo_ADM1Code\",\\\n",
    "                                    \"SOURCEURL\")"
   ]
  },
  {
   "cell_type": "code",
   "execution_count": 7,
   "metadata": {},
   "outputs": [
    {
     "data": {
      "application/vnd.jupyter.widget-view+json": {
       "model_id": "85f1bb49fdcb40daa8b56e917496afb8",
       "version_major": 2,
       "version_minor": 0
      },
      "text/plain": [
       "VBox()"
      ]
     },
     "metadata": {},
     "output_type": "display_data"
    },
    {
     "data": {
      "application/vnd.jupyter.widget-view+json": {
       "model_id": "",
       "version_major": 2,
       "version_minor": 0
      },
      "text/plain": [
       "FloatProgress(value=0.0, bar_style='info', description='Progress:', layout=Layout(height='25px', width='50%'),…"
      ]
     },
     "metadata": {},
     "output_type": "display_data"
    }
   ],
   "source": [
    "def containsCovidContent(url):\n",
    "    if url is None:\n",
    "        return False\n",
    "    if 'covid' in url.lower():\n",
    "        return True\n",
    "    if 'corona' in url.lower():\n",
    "        return True\n",
    "    if 'virus' in url.lower():\n",
    "        return True\n",
    "    \n",
    "    return False"
   ]
  },
  {
   "cell_type": "code",
   "execution_count": 8,
   "metadata": {},
   "outputs": [
    {
     "data": {
      "application/vnd.jupyter.widget-view+json": {
       "model_id": "b10ab18ffae5468a967ada978eff2a29",
       "version_major": 2,
       "version_minor": 0
      },
      "text/plain": [
       "VBox()"
      ]
     },
     "metadata": {},
     "output_type": "display_data"
    },
    {
     "data": {
      "application/vnd.jupyter.widget-view+json": {
       "model_id": "",
       "version_major": 2,
       "version_minor": 0
      },
      "text/plain": [
       "FloatProgress(value=0.0, bar_style='info', description='Progress:', layout=Layout(height='25px', width='50%'),…"
      ]
     },
     "metadata": {},
     "output_type": "display_data"
    }
   ],
   "source": [
    "covidFunc = F.udf(lambda x: containsCovidContent(x), BooleanType())"
   ]
  },
  {
   "cell_type": "code",
   "execution_count": 9,
   "metadata": {},
   "outputs": [
    {
     "data": {
      "application/vnd.jupyter.widget-view+json": {
       "model_id": "ddecaa3b85ab4b55adab2400e3943b9d",
       "version_major": 2,
       "version_minor": 0
      },
      "text/plain": [
       "VBox()"
      ]
     },
     "metadata": {},
     "output_type": "display_data"
    },
    {
     "data": {
      "application/vnd.jupyter.widget-view+json": {
       "model_id": "",
       "version_major": 2,
       "version_minor": 0
      },
      "text/plain": [
       "FloatProgress(value=0.0, bar_style='info', description='Progress:', layout=Layout(height='25px', width='50%'),…"
      ]
     },
     "metadata": {},
     "output_type": "display_data"
    }
   ],
   "source": [
    "df_gdelt_reduced = df_gdelt_reduced.withColumn('covid', covidFunc(col('SOURCEURL')))"
   ]
  },
  {
   "cell_type": "code",
   "execution_count": 10,
   "metadata": {},
   "outputs": [
    {
     "data": {
      "application/vnd.jupyter.widget-view+json": {
       "model_id": "9da9d4d2b208448ba316a954b5e7bbbd",
       "version_major": 2,
       "version_minor": 0
      },
      "text/plain": [
       "VBox()"
      ]
     },
     "metadata": {},
     "output_type": "display_data"
    },
    {
     "data": {
      "application/vnd.jupyter.widget-view+json": {
       "model_id": "",
       "version_major": 2,
       "version_minor": 0
      },
      "text/plain": [
       "FloatProgress(value=0.0, bar_style='info', description='Progress:', layout=Layout(height='25px', width='50%'),…"
      ]
     },
     "metadata": {},
     "output_type": "display_data"
    }
   ],
   "source": [
    "df_gdelt_reduced = df_gdelt_reduced.withColumnRenamed(\"Year\",\"year\")"
   ]
  },
  {
   "cell_type": "code",
   "execution_count": 11,
   "metadata": {},
   "outputs": [
    {
     "data": {
      "application/vnd.jupyter.widget-view+json": {
       "model_id": "a78ffb12cf48483f92a418f71dc98001",
       "version_major": 2,
       "version_minor": 0
      },
      "text/plain": [
       "VBox()"
      ]
     },
     "metadata": {},
     "output_type": "display_data"
    },
    {
     "data": {
      "application/vnd.jupyter.widget-view+json": {
       "model_id": "",
       "version_major": 2,
       "version_minor": 0
      },
      "text/plain": [
       "FloatProgress(value=0.0, bar_style='info', description='Progress:', layout=Layout(height='25px', width='50%'),…"
      ]
     },
     "metadata": {},
     "output_type": "display_data"
    },
    {
     "name": "stdout",
     "output_type": "stream",
     "text": [
      "root\n",
      " |-- GLOBALEVENTID: long (nullable = true)\n",
      " |-- date: date (nullable = true)\n",
      " |-- month: integer (nullable = true)\n",
      " |-- year: integer (nullable = true)\n",
      " |-- Actor1Code: string (nullable = true)\n",
      " |-- Actor1Name: string (nullable = true)\n",
      " |-- Actor1CountryCode: string (nullable = true)\n",
      " |-- Actor2Code: string (nullable = true)\n",
      " |-- Actor2Name: string (nullable = true)\n",
      " |-- Actor2CountryCode: string (nullable = true)\n",
      " |-- IsRootEvent: string (nullable = true)\n",
      " |-- EventCode: string (nullable = true)\n",
      " |-- EventBaseCode: string (nullable = true)\n",
      " |-- EventRootCode: string (nullable = true)\n",
      " |-- QuadClass: string (nullable = true)\n",
      " |-- GoldsteinScale: string (nullable = true)\n",
      " |-- NumMentions: integer (nullable = true)\n",
      " |-- NumSources: integer (nullable = true)\n",
      " |-- NumArticles: integer (nullable = true)\n",
      " |-- AvgTone: double (nullable = true)\n",
      " |-- ActionGeo_Type: string (nullable = true)\n",
      " |-- ActionGeo_CountryCode: string (nullable = true)\n",
      " |-- ActionGeo_ADM1Code: string (nullable = true)\n",
      " |-- SOURCEURL: string (nullable = true)\n",
      " |-- covid: boolean (nullable = true)"
     ]
    }
   ],
   "source": [
    "df_gdelt_reduced.printSchema()"
   ]
  },
  {
   "cell_type": "code",
   "execution_count": 12,
   "metadata": {},
   "outputs": [
    {
     "data": {
      "application/vnd.jupyter.widget-view+json": {
       "model_id": "e2bb7534f89642c982327788bb23b631",
       "version_major": 2,
       "version_minor": 0
      },
      "text/plain": [
       "VBox()"
      ]
     },
     "metadata": {},
     "output_type": "display_data"
    },
    {
     "data": {
      "application/vnd.jupyter.widget-view+json": {
       "model_id": "",
       "version_major": 2,
       "version_minor": 0
      },
      "text/plain": [
       "FloatProgress(value=0.0, bar_style='info', description='Progress:', layout=Layout(height='25px', width='50%'),…"
      ]
     },
     "metadata": {},
     "output_type": "display_data"
    }
   ],
   "source": [
    "#source: https://www.geodatasource.com/resources/tutorials/international-country-code-fips-versus-iso-3166/\n",
    "raw_data = 's3://dh-ud-dend-capstone/stage0_raw'\n",
    "mapping_file = '/mapping_fips_to_iso3166.csv'\n",
    "df_mapping = spark.read.option(\"delimiter\", \"\\t\").csv(raw_data + mapping_file,header=True)"
   ]
  },
  {
   "cell_type": "code",
   "execution_count": 13,
   "metadata": {},
   "outputs": [
    {
     "data": {
      "application/vnd.jupyter.widget-view+json": {
       "model_id": "5477acf486614096aba0fffff4652a25",
       "version_major": 2,
       "version_minor": 0
      },
      "text/plain": [
       "VBox()"
      ]
     },
     "metadata": {},
     "output_type": "display_data"
    },
    {
     "data": {
      "application/vnd.jupyter.widget-view+json": {
       "model_id": "",
       "version_major": 2,
       "version_minor": 0
      },
      "text/plain": [
       "FloatProgress(value=0.0, bar_style='info', description='Progress:', layout=Layout(height='25px', width='50%'),…"
      ]
     },
     "metadata": {},
     "output_type": "display_data"
    }
   ],
   "source": [
    "df_mapping = df_mapping.select('FIPS 10-4 ', 'ISO 3166-1') \n",
    "df_mapping = df_mapping.withColumnRenamed(\"FIPS 10-4 \",\"ActionGeo_CountryCode\") \\\n",
    "                       .withColumnRenamed(\"ISO 3166-1\",\"country_code\")"
   ]
  },
  {
   "cell_type": "code",
   "execution_count": 14,
   "metadata": {},
   "outputs": [
    {
     "data": {
      "application/vnd.jupyter.widget-view+json": {
       "model_id": "10bc0677b4c141f783dc8f6f06f8b1bc",
       "version_major": 2,
       "version_minor": 0
      },
      "text/plain": [
       "VBox()"
      ]
     },
     "metadata": {},
     "output_type": "display_data"
    },
    {
     "data": {
      "application/vnd.jupyter.widget-view+json": {
       "model_id": "",
       "version_major": 2,
       "version_minor": 0
      },
      "text/plain": [
       "FloatProgress(value=0.0, bar_style='info', description='Progress:', layout=Layout(height='25px', width='50%'),…"
      ]
     },
     "metadata": {},
     "output_type": "display_data"
    }
   ],
   "source": [
    "stripFunc = F.udf(lambda x: x.strip(),StringType())\n",
    "df_mapping = df_mapping.withColumn('ActionGeo_CountryCode', stripFunc(col('ActionGeo_CountryCode'))) \\\n",
    "                       .withColumn('country_code', stripFunc(col('country_code')))"
   ]
  },
  {
   "cell_type": "code",
   "execution_count": 15,
   "metadata": {},
   "outputs": [
    {
     "data": {
      "application/vnd.jupyter.widget-view+json": {
       "model_id": "8d74004fda3f401088b69893be1c8afd",
       "version_major": 2,
       "version_minor": 0
      },
      "text/plain": [
       "VBox()"
      ]
     },
     "metadata": {},
     "output_type": "display_data"
    },
    {
     "data": {
      "application/vnd.jupyter.widget-view+json": {
       "model_id": "",
       "version_major": 2,
       "version_minor": 0
      },
      "text/plain": [
       "FloatProgress(value=0.0, bar_style='info', description='Progress:', layout=Layout(height='25px', width='50%'),…"
      ]
     },
     "metadata": {},
     "output_type": "display_data"
    }
   ],
   "source": [
    "df_gdelt_reduced = df_gdelt_reduced.join(df_mapping, on=['ActionGeo_CountryCode'], how='left')"
   ]
  },
  {
   "cell_type": "code",
   "execution_count": 16,
   "metadata": {},
   "outputs": [
    {
     "data": {
      "application/vnd.jupyter.widget-view+json": {
       "model_id": "cf895c0966454deb887f8f5c1b264e21",
       "version_major": 2,
       "version_minor": 0
      },
      "text/plain": [
       "VBox()"
      ]
     },
     "metadata": {},
     "output_type": "display_data"
    },
    {
     "data": {
      "application/vnd.jupyter.widget-view+json": {
       "model_id": "",
       "version_major": 2,
       "version_minor": 0
      },
      "text/plain": [
       "FloatProgress(value=0.0, bar_style='info', description='Progress:', layout=Layout(height='25px', width='50%'),…"
      ]
     },
     "metadata": {},
     "output_type": "display_data"
    }
   ],
   "source": [
    "df_gdelt_reduced.write.mode('overwrite').partitionBy(\"country_code\").parquet(\"s3://dh-ud-dend-capstone/stage1_prepared_and_partitioned/gdelt/gdelt.parquet\")"
   ]
  },
  {
   "cell_type": "code",
   "execution_count": null,
   "metadata": {},
   "outputs": [],
   "source": []
  }
 ],
 "metadata": {
  "kernelspec": {
   "display_name": "PySpark",
   "language": "",
   "name": "pysparkkernel"
  },
  "language_info": {
   "codemirror_mode": {
    "name": "python",
    "version": 2
   },
   "mimetype": "text/x-python",
   "name": "pyspark",
   "pygments_lexer": "python2"
  }
 },
 "nbformat": 4,
 "nbformat_minor": 4
}
