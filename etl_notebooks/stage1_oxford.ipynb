{
 "cells": [
  {
   "cell_type": "markdown",
   "metadata": {},
   "source": [
    "## imports"
   ]
  },
  {
   "cell_type": "code",
   "execution_count": 1,
   "metadata": {},
   "outputs": [
    {
     "data": {
      "application/vnd.jupyter.widget-view+json": {
       "model_id": "3e64b6acb4b04cfb85c1e65b96a5af29",
       "version_major": 2,
       "version_minor": 0
      },
      "text/plain": [
       "VBox()"
      ]
     },
     "metadata": {},
     "output_type": "display_data"
    },
    {
     "name": "stdout",
     "output_type": "stream",
     "text": [
      "Starting Spark application\n"
     ]
    },
    {
     "data": {
      "text/html": [
       "<table>\n",
       "<tr><th>ID</th><th>YARN Application ID</th><th>Kind</th><th>State</th><th>Spark UI</th><th>Driver log</th><th>Current session?</th></tr><tr><td>3</td><td>application_1609235520050_0004</td><td>pyspark</td><td>idle</td><td><a target=\"_blank\" href=\"http://ip-172-31-46-197.us-west-2.compute.internal:20888/proxy/application_1609235520050_0004/\">Link</a></td><td><a target=\"_blank\" href=\"http://ip-172-31-41-123.us-west-2.compute.internal:8042/node/containerlogs/container_1609235520050_0004_01_000001/livy\">Link</a></td><td>✔</td></tr></table>"
      ],
      "text/plain": [
       "<IPython.core.display.HTML object>"
      ]
     },
     "metadata": {},
     "output_type": "display_data"
    },
    {
     "data": {
      "application/vnd.jupyter.widget-view+json": {
       "model_id": "",
       "version_major": 2,
       "version_minor": 0
      },
      "text/plain": [
       "FloatProgress(value=0.0, bar_style='info', description='Progress:', layout=Layout(height='25px', width='50%'),…"
      ]
     },
     "metadata": {},
     "output_type": "display_data"
    },
    {
     "name": "stdout",
     "output_type": "stream",
     "text": [
      "SparkSession available as 'spark'.\n"
     ]
    },
    {
     "data": {
      "application/vnd.jupyter.widget-view+json": {
       "model_id": "",
       "version_major": 2,
       "version_minor": 0
      },
      "text/plain": [
       "FloatProgress(value=0.0, bar_style='info', description='Progress:', layout=Layout(height='25px', width='50%'),…"
      ]
     },
     "metadata": {},
     "output_type": "display_data"
    }
   ],
   "source": [
    "from datetime import datetime\n",
    "from pyspark.sql import functions as F\n",
    "from pyspark.sql.types import StructType,StructField, StringType, DateType, IntegerType, DoubleType\n",
    "from pyspark.sql.functions import col, explode, array, struct, expr, sum, lit"
   ]
  },
  {
   "cell_type": "markdown",
   "metadata": {},
   "source": [
    "## define bucket"
   ]
  },
  {
   "cell_type": "code",
   "execution_count": 2,
   "metadata": {},
   "outputs": [
    {
     "data": {
      "application/vnd.jupyter.widget-view+json": {
       "model_id": "6d63c00df5294182a32eb9f98a16d831",
       "version_major": 2,
       "version_minor": 0
      },
      "text/plain": [
       "VBox()"
      ]
     },
     "metadata": {},
     "output_type": "display_data"
    },
    {
     "data": {
      "application/vnd.jupyter.widget-view+json": {
       "model_id": "",
       "version_major": 2,
       "version_minor": 0
      },
      "text/plain": [
       "FloatProgress(value=0.0, bar_style='info', description='Progress:', layout=Layout(height='25px', width='50%'),…"
      ]
     },
     "metadata": {},
     "output_type": "display_data"
    }
   ],
   "source": [
    "input_bucket = 's3://dh-ud-dend-capstone/stage0_raw/oxford-gov-response'"
   ]
  },
  {
   "cell_type": "markdown",
   "metadata": {},
   "source": [
    "# Oxford government response data"
   ]
  },
  {
   "cell_type": "code",
   "execution_count": 3,
   "metadata": {},
   "outputs": [
    {
     "data": {
      "application/vnd.jupyter.widget-view+json": {
       "model_id": "a38c8804323b45d4b9a0ee9997341e7c",
       "version_major": 2,
       "version_minor": 0
      },
      "text/plain": [
       "VBox()"
      ]
     },
     "metadata": {},
     "output_type": "display_data"
    },
    {
     "data": {
      "application/vnd.jupyter.widget-view+json": {
       "model_id": "",
       "version_major": 2,
       "version_minor": 0
      },
      "text/plain": [
       "FloatProgress(value=0.0, bar_style='info', description='Progress:', layout=Layout(height='25px', width='50%'),…"
      ]
     },
     "metadata": {},
     "output_type": "display_data"
    }
   ],
   "source": [
    "schema = StructType([ \\\n",
    "    StructField(\"CountryName\", StringType(), True), \\\n",
    "    StructField(\"CountryCode\", StringType(), True), \\\n",
    "    StructField(\"RegionName\", StringType(), True), \\\n",
    "    StructField(\"RegionCode\", StringType(), True), \\\n",
    "    StructField(\"Jurisdiction\", StringType(), True), \\\n",
    "    StructField(\"date\", StringType(), True), \\\n",
    "    StructField(\"C1_School_closing\", DoubleType(), True), \\\n",
    "    StructField(\"C1_Flag\", DoubleType(), True), \\\n",
    "    StructField(\"C2_Workplace_closing\", DoubleType(), True), \\\n",
    "    StructField(\"C2_Flag\", DoubleType(), True), \\\n",
    "    StructField(\"C3_Cancel_public_events\", DoubleType(), True), \\\n",
    "    StructField(\"C3_Flag\", DoubleType(), True), \\\n",
    "    StructField(\"C4_Restrictions_on_gatherings\", DoubleType(), True), \\\n",
    "    StructField(\"C4_Flag\", DoubleType(), True), \\\n",
    "    StructField(\"C5_Close_public_transport\", DoubleType(), True), \\\n",
    "    StructField(\"C5_Flag\", DoubleType(), True), \\\n",
    "    StructField(\"C6_Stay_at_home_requirements\", DoubleType(), True), \\\n",
    "    StructField(\"C6_Flag\", DoubleType(), True), \\\n",
    "    StructField(\"C7_Restrictions_on_internal_movement\", DoubleType(), True), \\\n",
    "    StructField(\"C7_Flag\", DoubleType(), True), \\\n",
    "    StructField(\"C8_International_travel_controls\", DoubleType(), True), \\\n",
    "    StructField(\"E1_Income_support\", DoubleType(), True), \\\n",
    "    StructField(\"E1_Flag\", DoubleType(), True), \\\n",
    "    StructField(\"E2_Debt_contract_relief\", DoubleType(), True), \\\n",
    "    StructField(\"E3_Fiscal_measures\", DoubleType(), True), \\\n",
    "    StructField(\"E4_International_support\", DoubleType(), True), \\\n",
    "    StructField(\"H1_Public_information_campaigns\", DoubleType(), True), \\\n",
    "    StructField(\"H1_Flag\", DoubleType(), True), \\\n",
    "    StructField(\"H2_Testing_policy\", DoubleType(), True), \\\n",
    "    StructField(\"H3_Contact_tracing\", DoubleType(), True), \\\n",
    "    StructField(\"H4_Emergency_investment_in_healthcare\", DoubleType(), True), \\\n",
    "    StructField(\"H5_Investment_in_vaccines\", DoubleType(), True), \\\n",
    "    StructField(\"H6_Facial_Coverings\", DoubleType(), True), \\\n",
    "    StructField(\"H6_Flag\", DoubleType(), True), \\\n",
    "    StructField(\"H7_Vaccination_policy\", DoubleType(), True), \\\n",
    "    StructField(\"H7_Flag\", DoubleType(), True), \\\n",
    "    StructField(\"M1_Wildcard\", DoubleType(), True), \\\n",
    "    StructField(\"ConfirmedCases\", DoubleType(), True), \\\n",
    "    StructField(\"ConfirmedDeaths\", DoubleType(), True), \\\n",
    "    StructField(\"StringencyIndex\", DoubleType(), True), \\\n",
    "    StructField(\"StringencyIndexForDisplay\", DoubleType(), True), \\\n",
    "    StructField(\"StringencyLegacyIndex\", DoubleType(), True), \\\n",
    "    StructField(\"StringencyLegacyIndexForDisplay\", DoubleType(), True), \\\n",
    "    StructField(\"GovernmentResponseIndex\", DoubleType(), True), \\\n",
    "    StructField(\"GovernmentResponseIndexForDisplay\", DoubleType(), True), \\\n",
    "    StructField(\"ContainmentHealthIndex\", DoubleType(), True), \\\n",
    "    StructField(\"ContainmentHealthIndexForDisplay\", DoubleType(), True), \\\n",
    "    StructField(\"EconomicSupportIndex\", DoubleType(), True), \\\n",
    "    StructField(\"EconomicSupportIndexForDisplay\", DoubleType(), True), \\\n",
    "  ])"
   ]
  },
  {
   "cell_type": "code",
   "execution_count": 4,
   "metadata": {},
   "outputs": [
    {
     "data": {
      "application/vnd.jupyter.widget-view+json": {
       "model_id": "9408da495d3e41a894c38f2abb3b4b86",
       "version_major": 2,
       "version_minor": 0
      },
      "text/plain": [
       "VBox()"
      ]
     },
     "metadata": {},
     "output_type": "display_data"
    },
    {
     "data": {
      "application/vnd.jupyter.widget-view+json": {
       "model_id": "",
       "version_major": 2,
       "version_minor": 0
      },
      "text/plain": [
       "FloatProgress(value=0.0, bar_style='info', description='Progress:', layout=Layout(height='25px', width='50%'),…"
      ]
     },
     "metadata": {},
     "output_type": "display_data"
    }
   ],
   "source": [
    "ox_file = '/OxCGRT_latest.csv'\n",
    "df_ox = spark.read.schema(schema).csv(input_bucket + ox_file,header=True)"
   ]
  },
  {
   "cell_type": "code",
   "execution_count": 5,
   "metadata": {},
   "outputs": [
    {
     "data": {
      "application/vnd.jupyter.widget-view+json": {
       "model_id": "a01c30ae7b8e4d249681887e80ae8056",
       "version_major": 2,
       "version_minor": 0
      },
      "text/plain": [
       "VBox()"
      ]
     },
     "metadata": {},
     "output_type": "display_data"
    },
    {
     "data": {
      "application/vnd.jupyter.widget-view+json": {
       "model_id": "",
       "version_major": 2,
       "version_minor": 0
      },
      "text/plain": [
       "FloatProgress(value=0.0, bar_style='info', description='Progress:', layout=Layout(height='25px', width='50%'),…"
      ]
     },
     "metadata": {},
     "output_type": "display_data"
    }
   ],
   "source": [
    "datefunc = F.udf(lambda x: datetime.strptime(x, '%Y%m%d'), DateType())\n",
    "df_ox = df_ox.withColumn('date', datefunc(col('date')))\n",
    "df_ox = df_ox.withColumn(\"month\",F.month(\"date\"))\n",
    "df_ox = df_ox.withColumn(\"year\",F.year(\"date\"))"
   ]
  },
  {
   "cell_type": "code",
   "execution_count": 6,
   "metadata": {},
   "outputs": [
    {
     "data": {
      "application/vnd.jupyter.widget-view+json": {
       "model_id": "e8f59fdaa09f493d81d1a9e3c117130d",
       "version_major": 2,
       "version_minor": 0
      },
      "text/plain": [
       "VBox()"
      ]
     },
     "metadata": {},
     "output_type": "display_data"
    },
    {
     "data": {
      "application/vnd.jupyter.widget-view+json": {
       "model_id": "",
       "version_major": 2,
       "version_minor": 0
      },
      "text/plain": [
       "FloatProgress(value=0.0, bar_style='info', description='Progress:', layout=Layout(height='25px', width='50%'),…"
      ]
     },
     "metadata": {},
     "output_type": "display_data"
    }
   ],
   "source": [
    "df_ox = df_ox.withColumn(\"C1_School_closing\", df_ox[\"C1_School_closing\"].cast(\"integer\")) \\\n",
    "         .withColumn(\"C1_Flag\", df_ox[\"C1_Flag\"].cast(\"integer\")) \\\n",
    "         .withColumn(\"C2_Workplace_closing\", df_ox[\"C2_Workplace_closing\"].cast(\"integer\")) \\\n",
    "         .withColumn(\"C2_Flag\", df_ox[\"C2_Flag\"].cast(\"integer\")) \\\n",
    "         .withColumn(\"C3_Cancel_public_events\", df_ox[\"C3_Cancel_public_events\"].cast(\"integer\")) \\\n",
    "         .withColumn(\"C3_Flag\", df_ox[\"C3_Flag\"].cast(\"integer\")) \\\n",
    "         .withColumn(\"C4_Restrictions_on_gatherings\", df_ox[\"C4_Restrictions_on_gatherings\"].cast(\"integer\")) \\\n",
    "         .withColumn(\"C4_Flag\", df_ox[\"C4_Flag\"].cast(\"integer\")) \\\n",
    "         .withColumn(\"C5_Close_public_transport\", df_ox[\"C5_Close_public_transport\"].cast(\"integer\")) \\\n",
    "         .withColumn(\"C5_Flag\", df_ox[\"C5_Flag\"].cast(\"integer\")) \\\n",
    "         .withColumn(\"C6_Stay_at_home_requirements\", df_ox[\"C6_Stay_at_home_requirements\"].cast(\"integer\")) \\\n",
    "         .withColumn(\"C6_Flag\", df_ox[\"C6_Flag\"].cast(\"integer\")) \\\n",
    "         .withColumn(\"C7_Restrictions_on_internal_movement\", df_ox[\"C7_Restrictions_on_internal_movement\"].cast(\"integer\")) \\\n",
    "         .withColumn(\"C7_Flag\", df_ox[\"C7_Flag\"].cast(\"integer\")) \\\n",
    "         .withColumn(\"C8_International_travel_controls\", df_ox[\"C8_International_travel_controls\"].cast(\"integer\")) \\\n",
    "         .withColumn(\"E1_Income_support\", df_ox[\"E1_Income_support\"].cast(\"integer\")) \\\n",
    "         .withColumn(\"E1_Flag\", df_ox[\"E1_Flag\"].cast(\"integer\")) \\\n",
    "         .withColumn(\"E2_Debt_contract_relief\", df_ox[\"E2_Debt_contract_relief\"].cast(\"integer\")) \\\n",
    "         .withColumn(\"H1_Public_information_campaigns\", df_ox[\"H1_Public_information_campaigns\"].cast(\"integer\")) \\\n",
    "         .withColumn(\"H1_Flag\", df_ox[\"H1_Flag\"].cast(\"integer\")) \\\n",
    "         .withColumn(\"H2_Testing_policy\", df_ox[\"H2_Testing_policy\"].cast(\"integer\")) \\\n",
    "         .withColumn(\"H3_Contact_tracing\", df_ox[\"H3_Contact_tracing\"].cast(\"integer\")) \\\n",
    "         .withColumn(\"H6_Facial_Coverings\", df_ox[\"H6_Facial_Coverings\"].cast(\"integer\")) \\\n",
    "         .withColumn(\"H6_Flag\", df_ox[\"H6_Flag\"].cast(\"integer\")) \\\n",
    "         .withColumn(\"H7_Vaccination_policy\", df_ox[\"H7_Vaccination_policy\"].cast(\"integer\")) \\\n",
    "         .withColumn(\"H7_Flag\", df_ox[\"H7_Flag\"].cast(\"integer\"))"
   ]
  },
  {
   "cell_type": "code",
   "execution_count": 7,
   "metadata": {},
   "outputs": [
    {
     "data": {
      "application/vnd.jupyter.widget-view+json": {
       "model_id": "fd2de81c480942b6a99287545a36c68b",
       "version_major": 2,
       "version_minor": 0
      },
      "text/plain": [
       "VBox()"
      ]
     },
     "metadata": {},
     "output_type": "display_data"
    },
    {
     "data": {
      "application/vnd.jupyter.widget-view+json": {
       "model_id": "",
       "version_major": 2,
       "version_minor": 0
      },
      "text/plain": [
       "FloatProgress(value=0.0, bar_style='info', description='Progress:', layout=Layout(height='25px', width='50%'),…"
      ]
     },
     "metadata": {},
     "output_type": "display_data"
    }
   ],
   "source": [
    "input_bucket = 's3://dh-ud-dend-capstone/stage0_raw/google/'\n",
    "df_gl_index = spark.read.format('csv').options(header='true').load(input_bucket + 'index.csv')\n",
    "\n",
    "google_cc = df_gl_index.select('3166-1-alpha-2', '3166-1-alpha-3').distinct()\n",
    "\n",
    "df_ox = df_ox.alias('o').join(google_cc.alias('g'), on=[col('o.CountryCode') == col('g.3166-1-alpha-3')], how='left')\n",
    "\n",
    "df_ox = df_ox.withColumnRenamed(\"3166-1-alpha-2\",\"country_code\")"
   ]
  },
  {
   "cell_type": "code",
   "execution_count": 8,
   "metadata": {},
   "outputs": [
    {
     "data": {
      "application/vnd.jupyter.widget-view+json": {
       "model_id": "fb0b8f6ec8fc400cad02378b1d09ca58",
       "version_major": 2,
       "version_minor": 0
      },
      "text/plain": [
       "VBox()"
      ]
     },
     "metadata": {},
     "output_type": "display_data"
    },
    {
     "data": {
      "application/vnd.jupyter.widget-view+json": {
       "model_id": "",
       "version_major": 2,
       "version_minor": 0
      },
      "text/plain": [
       "FloatProgress(value=0.0, bar_style='info', description='Progress:', layout=Layout(height='25px', width='50%'),…"
      ]
     },
     "metadata": {},
     "output_type": "display_data"
    }
   ],
   "source": [
    "df_ox_reduced = df_ox.select(\"country_code\", \\\n",
    "                 \"date\", \\\n",
    "                 \"month\", \\\n",
    "                 \"year\", \\\n",
    "                 \"RegionName\", \\\n",
    "                 \"RegionCode\", \\\n",
    "                 \"Jurisdiction\", \\\n",
    "                 \"C1_School_closing\", \\\n",
    "                 \"C1_Flag\", \\\n",
    "                 \"C2_Workplace_closing\", \\\n",
    "                 \"C2_Flag\", \\\n",
    "                 \"C3_Cancel_public_events\", \\\n",
    "                 \"C3_Flag\", \\\n",
    "                 \"C4_Restrictions_on_gatherings\", \\\n",
    "                 \"C4_Flag\", \\\n",
    "                 \"C5_Close_public_transport\", \\\n",
    "                 \"C5_Flag\", \\\n",
    "                 \"C6_Stay_at_home_requirements\", \\\n",
    "                 \"C6_Flag\", \\\n",
    "                 \"C7_Restrictions_on_internal_movement\", \\\n",
    "                 \"C7_Flag\", \\\n",
    "                 \"C8_International_travel_controls\", \\\n",
    "                 \"E1_Income_support\", \\\n",
    "                 \"E1_Flag\", \\\n",
    "                 \"E2_Debt_contract_relief\", \\\n",
    "                 \"E3_Fiscal_measures\", \\\n",
    "                 \"E4_International_support\", \\\n",
    "                 \"H1_Public_information_campaigns\", \\\n",
    "                 \"H1_Flag\", \\\n",
    "                 \"H2_Testing_policy\", \\\n",
    "                 \"H3_Contact_tracing\", \\\n",
    "                 \"H4_Emergency_investment_in_healthcare\", \\\n",
    "                 \"H5_Investment_in_vaccines\", \\\n",
    "                 \"H6_Facial_Coverings\", \\\n",
    "                 \"H6_Flag\", \\\n",
    "                 \"H7_Vaccination_policy\", \\\n",
    "                 \"H7_Flag\", \\\n",
    "                 \"StringencyIndex\", \\\n",
    "                 \"GovernmentResponseIndex\", \\\n",
    "                 \"ContainmentHealthIndex\", \\\n",
    "                 \"EconomicSupportIndex\")"
   ]
  },
  {
   "cell_type": "code",
   "execution_count": 9,
   "metadata": {},
   "outputs": [
    {
     "data": {
      "application/vnd.jupyter.widget-view+json": {
       "model_id": "e9dcfd05d54646039e37adc6d35a4971",
       "version_major": 2,
       "version_minor": 0
      },
      "text/plain": [
       "VBox()"
      ]
     },
     "metadata": {},
     "output_type": "display_data"
    },
    {
     "data": {
      "application/vnd.jupyter.widget-view+json": {
       "model_id": "",
       "version_major": 2,
       "version_minor": 0
      },
      "text/plain": [
       "FloatProgress(value=0.0, bar_style='info', description='Progress:', layout=Layout(height='25px', width='50%'),…"
      ]
     },
     "metadata": {},
     "output_type": "display_data"
    }
   ],
   "source": [
    "df_ox_reduced.write.mode('overwrite').partitionBy(\"country_code\").parquet(\"s3://dh-ud-dend-capstone/stage1_prepared_and_partitioned/oxford-gov-response/oxfgovresp.parquet\")"
   ]
  },
  {
   "cell_type": "code",
   "execution_count": null,
   "metadata": {},
   "outputs": [],
   "source": []
  }
 ],
 "metadata": {
  "kernelspec": {
   "display_name": "PySpark",
   "language": "",
   "name": "pysparkkernel"
  },
  "language_info": {
   "codemirror_mode": {
    "name": "python",
    "version": 2
   },
   "mimetype": "text/x-python",
   "name": "pyspark",
   "pygments_lexer": "python2"
  }
 },
 "nbformat": 4,
 "nbformat_minor": 4
}
