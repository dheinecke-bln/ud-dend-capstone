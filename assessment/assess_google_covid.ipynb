{
 "cells": [
  {
   "source": [
    "# Assessment of google covid datasets\n",
    "\n",
    "This notebook assesses the selected covid datasets of google.\n",
    "\n",
    "In detail the datasets are:\n",
    "\n",
    "* an index file containing information to the keys used in the datasets\n",
    "* the epidemiology dataset\n",
    "* the mobility dataset\n",
    "* the search trends dataset"
   ],
   "cell_type": "markdown",
   "metadata": {}
  },
  {
   "cell_type": "markdown",
   "metadata": {},
   "source": [
    "## imports"
   ]
  },
  {
   "cell_type": "code",
   "execution_count": 1,
   "metadata": {},
   "outputs": [
    {
     "data": {
      "application/vnd.jupyter.widget-view+json": {
       "model_id": "59db6a3ceae84486a4e2e0dcb46ceaab",
       "version_major": 2,
       "version_minor": 0
      },
      "text/plain": [
       "VBox()"
      ]
     },
     "metadata": {},
     "output_type": "display_data"
    },
    {
     "name": "stdout",
     "output_type": "stream",
     "text": [
      "Starting Spark application\n"
     ]
    },
    {
     "data": {
      "text/html": [
       "<table>\n",
       "<tr><th>ID</th><th>YARN Application ID</th><th>Kind</th><th>State</th><th>Spark UI</th><th>Driver log</th><th>Current session?</th></tr><tr><td>0</td><td>application_1609146570094_0001</td><td>pyspark</td><td>idle</td><td><a target=\"_blank\" href=\"http://ip-172-31-33-0.us-west-2.compute.internal:20888/proxy/application_1609146570094_0001/\">Link</a></td><td><a target=\"_blank\" href=\"http://ip-172-31-33-214.us-west-2.compute.internal:8042/node/containerlogs/container_1609146570094_0001_01_000001/livy\">Link</a></td><td>✔</td></tr></table>"
      ],
      "text/plain": [
       "<IPython.core.display.HTML object>"
      ]
     },
     "metadata": {},
     "output_type": "display_data"
    },
    {
     "data": {
      "application/vnd.jupyter.widget-view+json": {
       "model_id": "",
       "version_major": 2,
       "version_minor": 0
      },
      "text/plain": [
       "FloatProgress(value=0.0, bar_style='info', description='Progress:', layout=Layout(height='25px', width='50%'),…"
      ]
     },
     "metadata": {},
     "output_type": "display_data"
    },
    {
     "name": "stdout",
     "output_type": "stream",
     "text": [
      "SparkSession available as 'spark'.\n"
     ]
    },
    {
     "data": {
      "application/vnd.jupyter.widget-view+json": {
       "model_id": "",
       "version_major": 2,
       "version_minor": 0
      },
      "text/plain": [
       "FloatProgress(value=0.0, bar_style='info', description='Progress:', layout=Layout(height='25px', width='50%'),…"
      ]
     },
     "metadata": {},
     "output_type": "display_data"
    }
   ],
   "source": [
    "from pyspark.sql import functions as F"
   ]
  },
  {
   "cell_type": "markdown",
   "metadata": {},
   "source": [
    "## define bucket"
   ]
  },
  {
   "cell_type": "code",
   "execution_count": 1,
   "metadata": {},
   "outputs": [
    {
     "data": {
      "application/vnd.jupyter.widget-view+json": {
       "model_id": "4a4a619d289a45638b2c525d001c33bd",
       "version_major": 2,
       "version_minor": 0
      },
      "text/plain": [
       "VBox()"
      ]
     },
     "metadata": {},
     "output_type": "display_data"
    },
    {
     "name": "stdout",
     "output_type": "stream",
     "text": [
      "Starting Spark application\n"
     ]
    },
    {
     "data": {
      "text/html": [
       "<table>\n",
       "<tr><th>ID</th><th>YARN Application ID</th><th>Kind</th><th>State</th><th>Spark UI</th><th>Driver log</th><th>Current session?</th></tr><tr><td>4</td><td>application_1609146570094_0005</td><td>pyspark</td><td>idle</td><td><a target=\"_blank\" href=\"http://ip-172-31-33-0.us-west-2.compute.internal:20888/proxy/application_1609146570094_0005/\">Link</a></td><td><a target=\"_blank\" href=\"http://ip-172-31-33-214.us-west-2.compute.internal:8042/node/containerlogs/container_1609146570094_0005_01_000001/livy\">Link</a></td><td>✔</td></tr></table>"
      ],
      "text/plain": [
       "<IPython.core.display.HTML object>"
      ]
     },
     "metadata": {},
     "output_type": "display_data"
    },
    {
     "data": {
      "application/vnd.jupyter.widget-view+json": {
       "model_id": "",
       "version_major": 2,
       "version_minor": 0
      },
      "text/plain": [
       "FloatProgress(value=0.0, bar_style='info', description='Progress:', layout=Layout(height='25px', width='50%'),…"
      ]
     },
     "metadata": {},
     "output_type": "display_data"
    },
    {
     "name": "stdout",
     "output_type": "stream",
     "text": [
      "SparkSession available as 'spark'.\n"
     ]
    },
    {
     "data": {
      "application/vnd.jupyter.widget-view+json": {
       "model_id": "",
       "version_major": 2,
       "version_minor": 0
      },
      "text/plain": [
       "FloatProgress(value=0.0, bar_style='info', description='Progress:', layout=Layout(height='25px', width='50%'),…"
      ]
     },
     "metadata": {},
     "output_type": "display_data"
    }
   ],
   "source": [
    "#FIXME\n",
    "input_bucket = 's3://{YOUR_BUCKET}/stage0_raw'"
   ]
  },
  {
   "cell_type": "markdown",
   "metadata": {},
   "source": [
    "# Google open covid data"
   ]
  },
  {
   "cell_type": "markdown",
   "metadata": {},
   "source": [
    "## Index file"
   ]
  },
  {
   "cell_type": "code",
   "execution_count": 2,
   "metadata": {
    "scrolled": true
   },
   "outputs": [
    {
     "data": {
      "application/vnd.jupyter.widget-view+json": {
       "model_id": "94610d279cd74f98a04e7256379c1344",
       "version_major": 2,
       "version_minor": 0
      },
      "text/plain": [
       "VBox()"
      ]
     },
     "metadata": {},
     "output_type": "display_data"
    },
    {
     "data": {
      "application/vnd.jupyter.widget-view+json": {
       "model_id": "",
       "version_major": 2,
       "version_minor": 0
      },
      "text/plain": [
       "FloatProgress(value=0.0, bar_style='info', description='Progress:', layout=Layout(height='25px', width='50%'),…"
      ]
     },
     "metadata": {},
     "output_type": "display_data"
    }
   ],
   "source": [
    "#read in index file\n",
    "gl_index_file = '/google/index.csv'\n",
    "df_index = spark.read.format('csv').options(header='true').load(input_bucket + gl_index_file)"
   ]
  },
  {
   "cell_type": "code",
   "execution_count": 3,
   "metadata": {},
   "outputs": [
    {
     "data": {
      "application/vnd.jupyter.widget-view+json": {
       "model_id": "3a42e4b8302c46319ecf8bd3607aa390",
       "version_major": 2,
       "version_minor": 0
      },
      "text/plain": [
       "VBox()"
      ]
     },
     "metadata": {},
     "output_type": "display_data"
    },
    {
     "data": {
      "application/vnd.jupyter.widget-view+json": {
       "model_id": "",
       "version_major": 2,
       "version_minor": 0
      },
      "text/plain": [
       "FloatProgress(value=0.0, bar_style='info', description='Progress:', layout=Layout(height='25px', width='50%'),…"
      ]
     },
     "metadata": {},
     "output_type": "display_data"
    },
    {
     "name": "stdout",
     "output_type": "stream",
     "text": [
      "+------+--------+-----------+------------+--------------------+---------------+---------------+---------------+---------------+-------------+-------------+--------------+--------------+-----------------+\n",
      "|   key|wikidata|datacommons|country_code|        country_name|subregion1_code|subregion1_name|subregion2_code|subregion2_name|locality_code|locality_name|3166-1-alpha-2|3166-1-alpha-3|aggregation_level|\n",
      "+------+--------+-----------+------------+--------------------+---------------+---------------+---------------+---------------+-------------+-------------+--------------+--------------+-----------------+\n",
      "|    AD|    Q228|country/AND|          AD|             Andorra|           null|           null|           null|           null|         null|         null|            AD|           AND|                0|\n",
      "|    AE|    Q878|country/ARE|          AE|United Arab Emirates|           null|           null|           null|           null|         null|         null|            AE|           ARE|                0|\n",
      "|    AF|    Q889|country/AFG|          AF|         Afghanistan|           null|           null|           null|           null|         null|         null|            AF|           AFG|                0|\n",
      "|AF_BAL| Q121104|       null|          AF|         Afghanistan|            BAL|          Balkh|           null|           null|         null|         null|            AF|           AFG|                1|\n",
      "|AF_BAM| Q171382|       null|          AF|         Afghanistan|            BAM|         Bamyan|           null|           null|         null|         null|            AF|           AFG|                1|\n",
      "|AF_BDG| Q172052|       null|          AF|         Afghanistan|            BDG|        Badghis|           null|           null|         null|         null|            AF|           AFG|                1|\n",
      "|AF_BDS| Q165376|       null|          AF|         Afghanistan|            BDS|     Badakhshan|           null|           null|         null|         null|            AF|           AFG|                1|\n",
      "|AF_BGL| Q170309|       null|          AF|         Afghanistan|            BGL|        Baghlan|           null|           null|         null|         null|            AF|           AFG|                1|\n",
      "|AF_DAY| Q181220|       null|          AF|         Afghanistan|            DAY|       Daykundi|           null|           null|         null|         null|            AF|           AFG|                1|\n",
      "|AF_FRA| Q180330|       null|          AF|         Afghanistan|            FRA|          Farah|           null|           null|         null|         null|            AF|           AFG|                1|\n",
      "|AF_FYB| Q173830|       null|          AF|         Afghanistan|            FYB|         Faryab|           null|           null|         null|         null|            AF|           AFG|                1|\n",
      "|AF_GHA| Q180415|       null|          AF|         Afghanistan|            GHA|         Ghazni|           null|           null|         null|         null|            AF|           AFG|                1|\n",
      "|AF_GHO| Q186392|       null|          AF|         Afghanistan|            GHO|           Ghor|           null|           null|         null|         null|            AF|           AFG|                1|\n",
      "|AF_HEL| Q173821|       null|          AF|         Afghanistan|            HEL|        Helmand|           null|           null|         null|         null|            AF|           AFG|                1|\n",
      "|AF_HER| Q182844|       null|          AF|         Afghanistan|            HER|          Herat|           null|           null|         null|         null|            AF|           AFG|                1|\n",
      "|AF_JOW| Q183036|       null|          AF|         Afghanistan|            JOW|        Jowzjan|           null|           null|         null|         null|            AF|           AFG|                1|\n",
      "|AF_KAB| Q188933|       null|          AF|         Afghanistan|            KAB|          Kabul|           null|           null|         null|         null|            AF|           AFG|                1|\n",
      "|AF_KAN| Q173808|       null|          AF|         Afghanistan|            KAN|       Kandahar|           null|           null|         null|         null|            AF|           AFG|                1|\n",
      "|AF_KAP| Q173816|       null|          AF|         Afghanistan|            KAP|         Kapisa|           null|           null|         null|         null|            AF|           AFG|                1|\n",
      "|AF_KDZ| Q186418|       null|          AF|         Afghanistan|            KDZ|         Kunduz|           null|           null|         null|         null|            AF|           AFG|                1|\n",
      "+------+--------+-----------+------------+--------------------+---------------+---------------+---------------+---------------+-------------+-------------+--------------+--------------+-----------------+\n",
      "only showing top 20 rows"
     ]
    }
   ],
   "source": [
    "# show a few records\n",
    "df_index.show()"
   ]
  },
  {
   "cell_type": "code",
   "execution_count": 9,
   "metadata": {},
   "outputs": [
    {
     "data": {
      "application/vnd.jupyter.widget-view+json": {
       "model_id": "86fa4a8b8fd544e9bb8f895b66fb01cb",
       "version_major": 2,
       "version_minor": 0
      },
      "text/plain": [
       "VBox()"
      ]
     },
     "metadata": {},
     "output_type": "display_data"
    },
    {
     "data": {
      "application/vnd.jupyter.widget-view+json": {
       "model_id": "",
       "version_major": 2,
       "version_minor": 0
      },
      "text/plain": [
       "FloatProgress(value=0.0, bar_style='info', description='Progress:', layout=Layout(height='25px', width='50%'),…"
      ]
     },
     "metadata": {},
     "output_type": "display_data"
    },
    {
     "name": "stdout",
     "output_type": "stream",
     "text": [
      "21505"
     ]
    }
   ],
   "source": [
    "# count the records\n",
    "df_index.count()"
   ]
  },
  {
   "cell_type": "code",
   "execution_count": 10,
   "metadata": {},
   "outputs": [
    {
     "data": {
      "application/vnd.jupyter.widget-view+json": {
       "model_id": "531e58fd3116457699a50d37ce8385ce",
       "version_major": 2,
       "version_minor": 0
      },
      "text/plain": [
       "VBox()"
      ]
     },
     "metadata": {},
     "output_type": "display_data"
    },
    {
     "data": {
      "application/vnd.jupyter.widget-view+json": {
       "model_id": "",
       "version_major": 2,
       "version_minor": 0
      },
      "text/plain": [
       "FloatProgress(value=0.0, bar_style='info', description='Progress:', layout=Layout(height='25px', width='50%'),…"
      ]
     },
     "metadata": {},
     "output_type": "display_data"
    },
    {
     "name": "stdout",
     "output_type": "stream",
     "text": [
      "root\n",
      " |-- key: string (nullable = true)\n",
      " |-- wikidata: string (nullable = true)\n",
      " |-- datacommons: string (nullable = true)\n",
      " |-- country_code: string (nullable = true)\n",
      " |-- country_name: string (nullable = true)\n",
      " |-- subregion1_code: string (nullable = true)\n",
      " |-- subregion1_name: string (nullable = true)\n",
      " |-- subregion2_code: string (nullable = true)\n",
      " |-- subregion2_name: string (nullable = true)\n",
      " |-- locality_code: string (nullable = true)\n",
      " |-- locality_name: string (nullable = true)\n",
      " |-- 3166-1-alpha-2: string (nullable = true)\n",
      " |-- 3166-1-alpha-3: string (nullable = true)\n",
      " |-- aggregation_level: string (nullable = true)"
     ]
    }
   ],
   "source": [
    "# print schema\n",
    "df_index.printSchema()"
   ]
  },
  {
   "cell_type": "code",
   "execution_count": 11,
   "metadata": {},
   "outputs": [
    {
     "data": {
      "application/vnd.jupyter.widget-view+json": {
       "model_id": "017746b73e8745c588fb2ab2d00c48af",
       "version_major": 2,
       "version_minor": 0
      },
      "text/plain": [
       "VBox()"
      ]
     },
     "metadata": {},
     "output_type": "display_data"
    },
    {
     "data": {
      "application/vnd.jupyter.widget-view+json": {
       "model_id": "",
       "version_major": 2,
       "version_minor": 0
      },
      "text/plain": [
       "FloatProgress(value=0.0, bar_style='info', description='Progress:', layout=Layout(height='25px', width='50%'),…"
      ]
     },
     "metadata": {},
     "output_type": "display_data"
    },
    {
     "name": "stdout",
     "output_type": "stream",
     "text": [
      "+------------+-----+\n",
      "|country_code|count|\n",
      "+------------+-----+\n",
      "|          BR| 5616|\n",
      "|          US| 3285|\n",
      "|          MX| 2500|\n",
      "|          PE| 1901|\n",
      "|          IL| 1491|\n",
      "|          ES| 1398|\n",
      "|          CO| 1156|\n",
      "|          IN|  773|\n",
      "|          AR|  545|\n",
      "|          NL|  368|\n",
      "|          CL|  363|\n",
      "|          GB|  197|\n",
      "|          PH|  131|\n",
      "|          IT|  125|\n",
      "|          FR|  118|\n",
      "|          CA|  106|\n",
      "|          AT|  104|\n",
      "|          CZ|   92|\n",
      "|          RU|   86|\n",
      "|          BD|   73|\n",
      "+------------+-----+\n",
      "only showing top 20 rows"
     ]
    }
   ],
   "source": [
    "# show how detailed the area codes are for which country\n",
    "df_index.groupBy(\"country_code\").count().orderBy('count', ascending=False).show(20)"
   ]
  },
  {
   "cell_type": "code",
   "execution_count": 12,
   "metadata": {},
   "outputs": [
    {
     "data": {
      "application/vnd.jupyter.widget-view+json": {
       "model_id": "c96e738eb69b49fa8e031c84322284d8",
       "version_major": 2,
       "version_minor": 0
      },
      "text/plain": [
       "VBox()"
      ]
     },
     "metadata": {},
     "output_type": "display_data"
    },
    {
     "data": {
      "application/vnd.jupyter.widget-view+json": {
       "model_id": "",
       "version_major": 2,
       "version_minor": 0
      },
      "text/plain": [
       "FloatProgress(value=0.0, bar_style='info', description='Progress:', layout=Layout(height='25px', width='50%'),…"
      ]
     },
     "metadata": {},
     "output_type": "display_data"
    },
    {
     "name": "stdout",
     "output_type": "stream",
     "text": [
      "+-----------------+-----+\n",
      "|aggregation_level|count|\n",
      "+-----------------+-----+\n",
      "|                3|   32|\n",
      "|                0|  247|\n",
      "|                1| 1269|\n",
      "|                2|19957|\n",
      "+-----------------+-----+"
     ]
    }
   ],
   "source": [
    "# show the number of entries for the aggregation levels\n",
    "df_index.groupBy(\"aggregation_level\").count().show()"
   ]
  },
  {
   "cell_type": "markdown",
   "metadata": {},
   "source": [
    "## Epidemiology dataset"
   ]
  },
  {
   "cell_type": "code",
   "execution_count": 13,
   "metadata": {
    "scrolled": true
   },
   "outputs": [
    {
     "data": {
      "application/vnd.jupyter.widget-view+json": {
       "model_id": "414cdda385f04d62b0652be5385f9249",
       "version_major": 2,
       "version_minor": 0
      },
      "text/plain": [
       "VBox()"
      ]
     },
     "metadata": {},
     "output_type": "display_data"
    },
    {
     "data": {
      "application/vnd.jupyter.widget-view+json": {
       "model_id": "",
       "version_major": 2,
       "version_minor": 0
      },
      "text/plain": [
       "FloatProgress(value=0.0, bar_style='info', description='Progress:', layout=Layout(height='25px', width='50%'),…"
      ]
     },
     "metadata": {},
     "output_type": "display_data"
    }
   ],
   "source": [
    "#read in epidemiology dataset\n",
    "gl_epi_file = '/google/epidemiology.csv'\n",
    "df_epi = spark.read.format('csv').options(header='true').load(input_bucket + gl_epi_file)"
   ]
  },
  {
   "cell_type": "code",
   "execution_count": 18,
   "metadata": {},
   "outputs": [
    {
     "data": {
      "application/vnd.jupyter.widget-view+json": {
       "model_id": "6e997a1db5bc48cda6a49f4d301f1c56",
       "version_major": 2,
       "version_minor": 0
      },
      "text/plain": [
       "VBox()"
      ]
     },
     "metadata": {},
     "output_type": "display_data"
    },
    {
     "data": {
      "application/vnd.jupyter.widget-view+json": {
       "model_id": "",
       "version_major": 2,
       "version_minor": 0
      },
      "text/plain": [
       "FloatProgress(value=0.0, bar_style='info', description='Progress:', layout=Layout(height='25px', width='50%'),…"
      ]
     },
     "metadata": {},
     "output_type": "display_data"
    }
   ],
   "source": [
    "# create view to enable sql\n",
    "df_epi.createOrReplaceTempView(\"epi_data\")"
   ]
  },
  {
   "cell_type": "code",
   "execution_count": 19,
   "metadata": {},
   "outputs": [
    {
     "data": {
      "application/vnd.jupyter.widget-view+json": {
       "model_id": "600085eaa3fc434eb3e9a87f8d70da5d",
       "version_major": 2,
       "version_minor": 0
      },
      "text/plain": [
       "VBox()"
      ]
     },
     "metadata": {},
     "output_type": "display_data"
    },
    {
     "data": {
      "application/vnd.jupyter.widget-view+json": {
       "model_id": "",
       "version_major": 2,
       "version_minor": 0
      },
      "text/plain": [
       "FloatProgress(value=0.0, bar_style='info', description='Progress:', layout=Layout(height='25px', width='50%'),…"
      ]
     },
     "metadata": {},
     "output_type": "display_data"
    },
    {
     "name": "stdout",
     "output_type": "stream",
     "text": [
      "+----------+---------+-------------+------------+-------------+----------+---------------+--------------+---------------+------------+\n",
      "|      date|      key|new_confirmed|new_deceased|new_recovered|new_tested|total_confirmed|total_deceased|total_recovered|total_tested|\n",
      "+----------+---------+-------------+------------+-------------+----------+---------------+--------------+---------------+------------+\n",
      "|2019-10-23|       CZ|         null|        null|            1|      null|           null|          null|              1|        null|\n",
      "|2019-10-23|    CZ_32|         null|        null|            1|      null|           null|          null|              1|        null|\n",
      "|2019-10-23|CZ_32_325|         null|        null|            1|      null|           null|          null|              1|        null|\n",
      "|2019-12-30|       AE|            0|           0|         null|      null|              0|             0|           null|        null|\n",
      "|2019-12-30|       AF|            0|           0|         null|      null|              0|             0|           null|        null|\n",
      "+----------+---------+-------------+------------+-------------+----------+---------------+--------------+---------------+------------+\n",
      "only showing top 5 rows"
     ]
    }
   ],
   "source": [
    "# show a few records\n",
    "df_epi.show(5)"
   ]
  },
  {
   "cell_type": "code",
   "execution_count": 20,
   "metadata": {
    "scrolled": true
   },
   "outputs": [
    {
     "data": {
      "application/vnd.jupyter.widget-view+json": {
       "model_id": "196e9a9aec344a16991ad1a8124aeede",
       "version_major": 2,
       "version_minor": 0
      },
      "text/plain": [
       "VBox()"
      ]
     },
     "metadata": {},
     "output_type": "display_data"
    },
    {
     "data": {
      "application/vnd.jupyter.widget-view+json": {
       "model_id": "",
       "version_major": 2,
       "version_minor": 0
      },
      "text/plain": [
       "FloatProgress(value=0.0, bar_style='info', description='Progress:', layout=Layout(height='25px', width='50%'),…"
      ]
     },
     "metadata": {},
     "output_type": "display_data"
    },
    {
     "name": "stdout",
     "output_type": "stream",
     "text": [
      "3930988"
     ]
    }
   ],
   "source": [
    "# count the records\n",
    "df_epi.count()"
   ]
  },
  {
   "cell_type": "code",
   "execution_count": 21,
   "metadata": {},
   "outputs": [
    {
     "data": {
      "application/vnd.jupyter.widget-view+json": {
       "model_id": "3ac15b97f65847ed8fcc630784d4c486",
       "version_major": 2,
       "version_minor": 0
      },
      "text/plain": [
       "VBox()"
      ]
     },
     "metadata": {},
     "output_type": "display_data"
    },
    {
     "data": {
      "application/vnd.jupyter.widget-view+json": {
       "model_id": "",
       "version_major": 2,
       "version_minor": 0
      },
      "text/plain": [
       "FloatProgress(value=0.0, bar_style='info', description='Progress:', layout=Layout(height='25px', width='50%'),…"
      ]
     },
     "metadata": {},
     "output_type": "display_data"
    },
    {
     "name": "stdout",
     "output_type": "stream",
     "text": [
      "root\n",
      " |-- date: string (nullable = true)\n",
      " |-- key: string (nullable = true)\n",
      " |-- new_confirmed: string (nullable = true)\n",
      " |-- new_deceased: string (nullable = true)\n",
      " |-- new_recovered: string (nullable = true)\n",
      " |-- new_tested: string (nullable = true)\n",
      " |-- total_confirmed: string (nullable = true)\n",
      " |-- total_deceased: string (nullable = true)\n",
      " |-- total_recovered: string (nullable = true)\n",
      " |-- total_tested: string (nullable = true)"
     ]
    }
   ],
   "source": [
    "# print schema\n",
    "df_epi.printSchema()"
   ]
  },
  {
   "cell_type": "code",
   "execution_count": 22,
   "metadata": {},
   "outputs": [
    {
     "data": {
      "application/vnd.jupyter.widget-view+json": {
       "model_id": "68013086fa0b4e82b290b6400698efdb",
       "version_major": 2,
       "version_minor": 0
      },
      "text/plain": [
       "VBox()"
      ]
     },
     "metadata": {},
     "output_type": "display_data"
    },
    {
     "data": {
      "application/vnd.jupyter.widget-view+json": {
       "model_id": "",
       "version_major": 2,
       "version_minor": 0
      },
      "text/plain": [
       "FloatProgress(value=0.0, bar_style='info', description='Progress:', layout=Layout(height='25px', width='50%'),…"
      ]
     },
     "metadata": {},
     "output_type": "display_data"
    },
    {
     "name": "stdout",
     "output_type": "stream",
     "text": [
      "+--------------------+----------+----------+\n",
      "|count(DISTINCT date)| min(date)| max(date)|\n",
      "+--------------------+----------+----------+\n",
      "|                 354|2019-10-23|2020-12-16|\n",
      "+--------------------+----------+----------+"
     ]
    }
   ],
   "source": [
    "# check how many date entries we have and min and max date\n",
    "spark.sql(\"\"\"select count(distinct date), min(date), max(date) from epi_data\"\"\").show()"
   ]
  },
  {
   "cell_type": "markdown",
   "metadata": {},
   "source": [
    "### FINDINGS\n",
    "* convert date to date\n",
    "* convert metrics to int\n",
    "* date is not continous => check\n",
    "* null values in metrics\n",
    "* join with index"
   ]
  },
  {
   "cell_type": "markdown",
   "metadata": {},
   "source": [
    "## Mobility dataset"
   ]
  },
  {
   "cell_type": "code",
   "execution_count": 23,
   "metadata": {},
   "outputs": [
    {
     "data": {
      "application/vnd.jupyter.widget-view+json": {
       "model_id": "6531d2ecb98a4d57b84dedf3a48b276f",
       "version_major": 2,
       "version_minor": 0
      },
      "text/plain": [
       "VBox()"
      ]
     },
     "metadata": {},
     "output_type": "display_data"
    },
    {
     "data": {
      "application/vnd.jupyter.widget-view+json": {
       "model_id": "",
       "version_major": 2,
       "version_minor": 0
      },
      "text/plain": [
       "FloatProgress(value=0.0, bar_style='info', description='Progress:', layout=Layout(height='25px', width='50%'),…"
      ]
     },
     "metadata": {},
     "output_type": "display_data"
    }
   ],
   "source": [
    "#read in mobility dataset\n",
    "gl_mob_file = '/google/mobility.csv'\n",
    "df_mob = spark.read.format('csv').options(header='true').load(input_bucket + gl_mob_file)"
   ]
  },
  {
   "cell_type": "code",
   "execution_count": 43,
   "metadata": {},
   "outputs": [
    {
     "data": {
      "application/vnd.jupyter.widget-view+json": {
       "model_id": "50677600180b4dd9ac5f6a5d104a9919",
       "version_major": 2,
       "version_minor": 0
      },
      "text/plain": [
       "VBox()"
      ]
     },
     "metadata": {},
     "output_type": "display_data"
    },
    {
     "data": {
      "application/vnd.jupyter.widget-view+json": {
       "model_id": "",
       "version_major": 2,
       "version_minor": 0
      },
      "text/plain": [
       "FloatProgress(value=0.0, bar_style='info', description='Progress:', layout=Layout(height='25px', width='50%'),…"
      ]
     },
     "metadata": {},
     "output_type": "display_data"
    },
    {
     "name": "stdout",
     "output_type": "stream",
     "text": [
      "+----------+---+------------------------------+-----------------------------+--------------+-------------------------+-------------------+--------------------+\n",
      "|      date|key|mobility_retail_and_recreation|mobility_grocery_and_pharmacy|mobility_parks|mobility_transit_stations|mobility_workplaces|mobility_residential|\n",
      "+----------+---+------------------------------+-----------------------------+--------------+-------------------------+-------------------+--------------------+\n",
      "|2020-02-15| AE|                             0|                            4|             5|                        0|                  2|                   1|\n",
      "|2020-02-15| AF|                            -9|                          -10|             0|                       -2|                -28|                   5|\n",
      "|2020-02-15| AG|                            -6|                           -1|            -6|                       -1|                  0|                   3|\n",
      "|2020-02-15| AO|                             3|                           -2|             7|                        3|                  2|                   1|\n",
      "|2020-02-15| AR|                             1|                           -3|            -3|                        4|                 -1|                   0|\n",
      "+----------+---+------------------------------+-----------------------------+--------------+-------------------------+-------------------+--------------------+\n",
      "only showing top 5 rows"
     ]
    }
   ],
   "source": [
    "# show some records\n",
    "df_mob.show(5)"
   ]
  },
  {
   "cell_type": "code",
   "execution_count": 29,
   "metadata": {},
   "outputs": [
    {
     "data": {
      "application/vnd.jupyter.widget-view+json": {
       "model_id": "c8aba8c5a50245d0b55cc90cee410d65",
       "version_major": 2,
       "version_minor": 0
      },
      "text/plain": [
       "VBox()"
      ]
     },
     "metadata": {},
     "output_type": "display_data"
    },
    {
     "data": {
      "application/vnd.jupyter.widget-view+json": {
       "model_id": "",
       "version_major": 2,
       "version_minor": 0
      },
      "text/plain": [
       "FloatProgress(value=0.0, bar_style='info', description='Progress:', layout=Layout(height='25px', width='50%'),…"
      ]
     },
     "metadata": {},
     "output_type": "display_data"
    },
    {
     "name": "stdout",
     "output_type": "stream",
     "text": [
      "root\n",
      " |-- date: string (nullable = true)\n",
      " |-- key: string (nullable = true)\n",
      " |-- mobility_retail_and_recreation: string (nullable = true)\n",
      " |-- mobility_grocery_and_pharmacy: string (nullable = true)\n",
      " |-- mobility_parks: string (nullable = true)\n",
      " |-- mobility_transit_stations: string (nullable = true)\n",
      " |-- mobility_workplaces: string (nullable = true)\n",
      " |-- mobility_residential: string (nullable = true)"
     ]
    }
   ],
   "source": [
    "#print schema\n",
    "df_mob.printSchema()"
   ]
  },
  {
   "cell_type": "code",
   "execution_count": 47,
   "metadata": {},
   "outputs": [
    {
     "data": {
      "application/vnd.jupyter.widget-view+json": {
       "model_id": "0195d943b8734ebb81151bcf45cd26fe",
       "version_major": 2,
       "version_minor": 0
      },
      "text/plain": [
       "VBox()"
      ]
     },
     "metadata": {},
     "output_type": "display_data"
    },
    {
     "data": {
      "application/vnd.jupyter.widget-view+json": {
       "model_id": "",
       "version_major": 2,
       "version_minor": 0
      },
      "text/plain": [
       "FloatProgress(value=0.0, bar_style='info', description='Progress:', layout=Layout(height='25px', width='50%'),…"
      ]
     },
     "metadata": {},
     "output_type": "display_data"
    },
    {
     "name": "stdout",
     "output_type": "stream",
     "text": [
      "2052120"
     ]
    }
   ],
   "source": [
    "#count records\n",
    "df_mob.count()"
   ]
  },
  {
   "cell_type": "code",
   "execution_count": 46,
   "metadata": {},
   "outputs": [
    {
     "data": {
      "application/vnd.jupyter.widget-view+json": {
       "model_id": "745233ac9ae847b4a55446a8bd2ee47b",
       "version_major": 2,
       "version_minor": 0
      },
      "text/plain": [
       "VBox()"
      ]
     },
     "metadata": {},
     "output_type": "display_data"
    },
    {
     "data": {
      "application/vnd.jupyter.widget-view+json": {
       "model_id": "",
       "version_major": 2,
       "version_minor": 0
      },
      "text/plain": [
       "FloatProgress(value=0.0, bar_style='info', description='Progress:', layout=Layout(height='25px', width='50%'),…"
      ]
     },
     "metadata": {},
     "output_type": "display_data"
    },
    {
     "name": "stdout",
     "output_type": "stream",
     "text": [
      "+-------+----------+-------+------------------------------+-----------------------------+-------------------+-------------------------+-------------------+--------------------+\n",
      "|summary|      date|    key|mobility_retail_and_recreation|mobility_grocery_and_pharmacy|     mobility_parks|mobility_transit_stations|mobility_workplaces|mobility_residential|\n",
      "+-------+----------+-------+------------------------------+-----------------------------+-------------------+-------------------------+-------------------+--------------------+\n",
      "|  count|   2052120|2052120|                       1341979|                      1270369|             977820|                  1037377|            1963115|             1215295|\n",
      "|   mean|      null|   null|           -22.695039192118507|          -2.1622087755604866|-10.351330510727946|      -26.249076276030795|-18.636363636363637|   9.532744724531904|\n",
      "| stddev|      null|   null|            27.663889312490696|           23.357345155031435|  58.03008145922868|       30.625317615696673| 19.709431400991768|    7.67120614685978|\n",
      "|    min|2020-02-15|     AE|                            -1|                           -1|                 -1|                       -1|                 -1|                  -1|\n",
      "|    25%|      null|   null|                         -40.0|                        -12.0|              -47.0|                    -47.0|              -31.0|                 4.0|\n",
      "|    50%|      null|   null|                         -18.0|                         -1.0|              -20.0|                    -27.0|              -18.0|                 8.0|\n",
      "|    75%|      null|   null|                          -3.0|                          9.0|               10.0|                     -5.0|               -4.0|                14.0|\n",
      "|    max|2020-12-11|     ZW|                            99|                           99|                 99|                       99|                 99|                  99|\n",
      "+-------+----------+-------+------------------------------+-----------------------------+-------------------+-------------------------+-------------------+--------------------+"
     ]
    }
   ],
   "source": [
    "#show summary\n",
    "df_mob.summary().show()"
   ]
  },
  {
   "cell_type": "code",
   "execution_count": 44,
   "metadata": {
    "scrolled": false
   },
   "outputs": [
    {
     "data": {
      "application/vnd.jupyter.widget-view+json": {
       "model_id": "",
       "version_major": 2,
       "version_minor": 0
      },
      "text/plain": [
       "VBox()"
      ]
     },
     "metadata": {},
     "output_type": "display_data"
    },
    {
     "data": {
      "application/vnd.jupyter.widget-view+json": {
       "model_id": "",
       "version_major": 2,
       "version_minor": 0
      },
      "text/plain": [
       "FloatProgress(value=0.0, bar_style='info', description='Progress:', layout=Layout(height='25px', width='50%'),…"
      ]
     },
     "metadata": {},
     "output_type": "display_data"
    },
    {
     "name": "stdout",
     "output_type": "stream",
     "text": [
      "+------------+---+\n",
      "|         key|  c|\n",
      "+------------+---+\n",
      "|  NL_LI_0935|301|\n",
      "|   IN_TR_NTR|301|\n",
      "|       KE_31|301|\n",
      "|   IN_MH_SAT|301|\n",
      "|   IN_OR_ANU|301|\n",
      "|        AR_H|301|\n",
      "|          CI|301|\n",
      "|BR_RJ_330250|301|\n",
      "|   IN_MH_NNR|301|\n",
      "|   IN_MN_CHC|301|\n",
      "|       ZA_MP|301|\n",
      "|   IN_MP_KHA|301|\n",
      "|BR_SP_352680|301|\n",
      "|      MX_TAM|301|\n",
      "|BR_ES_320130|301|\n",
      "|       NL_LI|301|\n",
      "|   IN_KL_PTT|301|\n",
      "| US_LA_22005|301|\n",
      "|       BR_BA|301|\n",
      "| US_MT_30063|301|\n",
      "+------------+---+\n",
      "only showing top 20 rows"
     ]
    }
   ],
   "source": [
    "#create view to enable the use of sql on the dataset\n",
    "df_mob.createOrReplaceTempView(\"mob_data\")\n",
    "\n",
    "#check most present keys\n",
    "spark.sql(\"\"\"select key, count(*) as c from mob_data group by key order by c desc\"\"\").show()"
   ]
  },
  {
   "cell_type": "code",
   "execution_count": 36,
   "metadata": {},
   "outputs": [
    {
     "data": {
      "application/vnd.jupyter.widget-view+json": {
       "model_id": "",
       "version_major": 2,
       "version_minor": 0
      },
      "text/plain": [
       "VBox()"
      ]
     },
     "metadata": {},
     "output_type": "display_data"
    },
    {
     "data": {
      "application/vnd.jupyter.widget-view+json": {
       "model_id": "",
       "version_major": 2,
       "version_minor": 0
      },
      "text/plain": [
       "FloatProgress(value=0.0, bar_style='info', description='Progress:', layout=Layout(height='25px', width='50%'),…"
      ]
     },
     "metadata": {},
     "output_type": "display_data"
    },
    {
     "name": "stdout",
     "output_type": "stream",
     "text": [
      "+--------------------+----------+----------+\n",
      "|count(DISTINCT date)| min(date)| max(date)|\n",
      "+--------------------+----------+----------+\n",
      "|                 301|2020-02-15|2020-12-11|\n",
      "+--------------------+----------+----------+"
     ]
    }
   ],
   "source": [
    "#select number of present dates and their minimum and maximum\n",
    "spark.sql(\"\"\"select count(distinct date), min(date), max(date) from mob_data\"\"\").show()"
   ]
  },
  {
   "cell_type": "code",
   "execution_count": 42,
   "metadata": {},
   "outputs": [
    {
     "data": {
      "application/vnd.jupyter.widget-view+json": {
       "model_id": "",
       "version_major": 2,
       "version_minor": 0
      },
      "text/plain": [
       "VBox()"
      ]
     },
     "metadata": {},
     "output_type": "display_data"
    },
    {
     "data": {
      "application/vnd.jupyter.widget-view+json": {
       "model_id": "",
       "version_major": 2,
       "version_minor": 0
      },
      "text/plain": [
       "FloatProgress(value=0.0, bar_style='info', description='Progress:', layout=Layout(height='25px', width='50%'),…"
      ]
     },
     "metadata": {},
     "output_type": "display_data"
    },
    {
     "name": "stdout",
     "output_type": "stream",
     "text": [
      "+---------------+\n",
      "|cnt_key_is_null|\n",
      "+---------------+\n",
      "|              0|\n",
      "+---------------+"
     ]
    }
   ],
   "source": [
    "# check for null values in key columns\n",
    "spark.sql(\"\"\"select count(*) as cnt_key_is_null from mob_data where key is null\"\"\").show()"
   ]
  },
  {
   "cell_type": "code",
   "execution_count": 41,
   "metadata": {},
   "outputs": [
    {
     "data": {
      "application/vnd.jupyter.widget-view+json": {
       "model_id": "2fc11fde4b344816927036eada290169",
       "version_major": 2,
       "version_minor": 0
      },
      "text/plain": [
       "VBox()"
      ]
     },
     "metadata": {},
     "output_type": "display_data"
    },
    {
     "data": {
      "application/vnd.jupyter.widget-view+json": {
       "model_id": "",
       "version_major": 2,
       "version_minor": 0
      },
      "text/plain": [
       "FloatProgress(value=0.0, bar_style='info', description='Progress:', layout=Layout(height='25px', width='50%'),…"
      ]
     },
     "metadata": {},
     "output_type": "display_data"
    },
    {
     "name": "stdout",
     "output_type": "stream",
     "text": [
      "+----------------+\n",
      "|cnt_date_is_null|\n",
      "+----------------+\n",
      "|               0|\n",
      "+----------------+"
     ]
    }
   ],
   "source": [
    "# check for null values in date columns\n",
    "spark.sql(\"\"\"select count(*) as cnt_date_is_null from mob_data where date is null\"\"\").show()"
   ]
  },
  {
   "cell_type": "markdown",
   "metadata": {},
   "source": [
    "### FINDINGS\n",
    "* convert date to date\n",
    "* convert metrics to int or double?\n",
    "* date is not continous => check\n",
    "* null values in metrics\n",
    "* transpose metrics?"
   ]
  },
  {
   "cell_type": "markdown",
   "metadata": {},
   "source": [
    "## Search Trends dataset"
   ]
  },
  {
   "cell_type": "code",
   "execution_count": 48,
   "metadata": {},
   "outputs": [
    {
     "data": {
      "application/vnd.jupyter.widget-view+json": {
       "model_id": "3b52480dc086406592b1e1dbbe4f5735",
       "version_major": 2,
       "version_minor": 0
      },
      "text/plain": [
       "VBox()"
      ]
     },
     "metadata": {},
     "output_type": "display_data"
    },
    {
     "data": {
      "application/vnd.jupyter.widget-view+json": {
       "model_id": "",
       "version_major": 2,
       "version_minor": 0
      },
      "text/plain": [
       "FloatProgress(value=0.0, bar_style='info', description='Progress:', layout=Layout(height='25px', width='50%'),…"
      ]
     },
     "metadata": {},
     "output_type": "display_data"
    }
   ],
   "source": [
    "#read in search trends dataset\n",
    "gl_st_file = '/google/google-search-trends.csv'\n",
    "df_st = spark.read.format('csv').options(header='true').load(input_bucket + gl_st_file)"
   ]
  },
  {
   "cell_type": "code",
   "execution_count": 49,
   "metadata": {},
   "outputs": [
    {
     "data": {
      "application/vnd.jupyter.widget-view+json": {
       "model_id": "a6d76184a83f4b49bcfd6542b43f2f45",
       "version_major": 2,
       "version_minor": 0
      },
      "text/plain": [
       "VBox()"
      ]
     },
     "metadata": {},
     "output_type": "display_data"
    },
    {
     "data": {
      "application/vnd.jupyter.widget-view+json": {
       "model_id": "",
       "version_major": 2,
       "version_minor": 0
      },
      "text/plain": [
       "FloatProgress(value=0.0, bar_style='info', description='Progress:', layout=Layout(height='25px', width='50%'),…"
      ]
     },
     "metadata": {},
     "output_type": "display_data"
    },
    {
     "name": "stdout",
     "output_type": "stream",
     "text": [
      "957338"
     ]
    }
   ],
   "source": [
    "#count the records\n",
    "df_st.count()"
   ]
  },
  {
   "cell_type": "code",
   "execution_count": 50,
   "metadata": {},
   "outputs": [
    {
     "data": {
      "application/vnd.jupyter.widget-view+json": {
       "model_id": "c7692db8ee5e4b3b85f38ce932ceea6b",
       "version_major": 2,
       "version_minor": 0
      },
      "text/plain": [
       "VBox()"
      ]
     },
     "metadata": {},
     "output_type": "display_data"
    },
    {
     "data": {
      "application/vnd.jupyter.widget-view+json": {
       "model_id": "",
       "version_major": 2,
       "version_minor": 0
      },
      "text/plain": [
       "FloatProgress(value=0.0, bar_style='info', description='Progress:', layout=Layout(height='25px', width='50%'),…"
      ]
     },
     "metadata": {},
     "output_type": "display_data"
    },
    {
     "name": "stdout",
     "output_type": "stream",
     "text": [
      "root\n",
      " |-- date: string (nullable = true)\n",
      " |-- key: string (nullable = true)\n",
      " |-- search_trends_abdominal_obesity: string (nullable = true)\n",
      " |-- search_trends_abdominal_pain: string (nullable = true)\n",
      " |-- search_trends_acne: string (nullable = true)\n",
      " |-- search_trends_actinic_keratosis: string (nullable = true)\n",
      " |-- search_trends_acute_bronchitis: string (nullable = true)\n",
      " |-- search_trends_adrenal_crisis: string (nullable = true)\n",
      " |-- search_trends_ageusia: string (nullable = true)\n",
      " |-- search_trends_alcoholism: string (nullable = true)\n",
      " |-- search_trends_allergic_conjunctivitis: string (nullable = true)\n",
      " |-- search_trends_allergy: string (nullable = true)\n",
      " |-- search_trends_amblyopia: string (nullable = true)\n",
      " |-- search_trends_amenorrhea: string (nullable = true)\n",
      " |-- search_trends_amnesia: string (nullable = true)\n",
      " |-- search_trends_anal_fissure: string (nullable = true)\n",
      " |-- search_trends_anaphylaxis: string (nullable = true)\n",
      " |-- search_trends_anemia: string (nullable = true)\n",
      " |-- search_trends_angina_pectoris: string (nullable = true)\n",
      " |-- search_trends_angioedema: string (nullable = true)\n",
      " |-- search_trends_angular_cheilitis: string (nullable = true)\n",
      " |-- search_trends_anosmia: string (nullable = true)\n",
      " |-- search_trends_anxiety: string (nullable = true)\n",
      " |-- search_trends_aphasia: string (nullable = true)\n",
      " |-- search_trends_aphonia: string (nullable = true)\n",
      " |-- search_trends_apnea: string (nullable = true)\n",
      " |-- search_trends_arthralgia: string (nullable = true)\n",
      " |-- search_trends_arthritis: string (nullable = true)\n",
      " |-- search_trends_ascites: string (nullable = true)\n",
      " |-- search_trends_asperger_syndrome: string (nullable = true)\n",
      " |-- search_trends_asphyxia: string (nullable = true)\n",
      " |-- search_trends_asthma: string (nullable = true)\n",
      " |-- search_trends_astigmatism: string (nullable = true)\n",
      " |-- search_trends_ataxia: string (nullable = true)\n",
      " |-- search_trends_atheroma: string (nullable = true)\n",
      " |-- search_trends_attention_deficit_hyperactivity_disorder: string (nullable = true)\n",
      " |-- search_trends_auditory_hallucination: string (nullable = true)\n",
      " |-- search_trends_autoimmune_disease: string (nullable = true)\n",
      " |-- search_trends_avoidant_personality_disorder: string (nullable = true)\n",
      " |-- search_trends_back_pain: string (nullable = true)\n",
      " |-- search_trends_bacterial_vaginosis: string (nullable = true)\n",
      " |-- search_trends_balance_disorder: string (nullable = true)\n",
      " |-- search_trends_beaus_lines: string (nullable = true)\n",
      " |-- search_trends_bells_palsy: string (nullable = true)\n",
      " |-- search_trends_biliary_colic: string (nullable = true)\n",
      " |-- search_trends_binge_eating: string (nullable = true)\n",
      " |-- search_trends_bleeding: string (nullable = true)\n",
      " |-- search_trends_bleeding_on_probing: string (nullable = true)\n",
      " |-- search_trends_blepharospasm: string (nullable = true)\n",
      " |-- search_trends_bloating: string (nullable = true)\n",
      " |-- search_trends_blood_in_stool: string (nullable = true)\n",
      " |-- search_trends_blurred_vision: string (nullable = true)\n",
      " |-- search_trends_blushing: string (nullable = true)\n",
      " |-- search_trends_boil: string (nullable = true)\n",
      " |-- search_trends_bone_fracture: string (nullable = true)\n",
      " |-- search_trends_bone_tumor: string (nullable = true)\n",
      " |-- search_trends_bowel_obstruction: string (nullable = true)\n",
      " |-- search_trends_bradycardia: string (nullable = true)\n",
      " |-- search_trends_braxton_hicks_contractions: string (nullable = true)\n",
      " |-- search_trends_breakthrough_bleeding: string (nullable = true)\n",
      " |-- search_trends_breast_pain: string (nullable = true)\n",
      " |-- search_trends_bronchitis: string (nullable = true)\n",
      " |-- search_trends_bruise: string (nullable = true)\n",
      " |-- search_trends_bruxism: string (nullable = true)\n",
      " |-- search_trends_bunion: string (nullable = true)\n",
      " |-- search_trends_burn: string (nullable = true)\n",
      " |-- search_trends_burning_chest_pain: string (nullable = true)\n",
      " |-- search_trends_burning_mouth_syndrome: string (nullable = true)\n",
      " |-- search_trends_candidiasis: string (nullable = true)\n",
      " |-- search_trends_canker_sore: string (nullable = true)\n",
      " |-- search_trends_cardiac_arrest: string (nullable = true)\n",
      " |-- search_trends_carpal_tunnel_syndrome: string (nullable = true)\n",
      " |-- search_trends_cataplexy: string (nullable = true)\n",
      " |-- search_trends_cataract: string (nullable = true)\n",
      " |-- search_trends_chancre: string (nullable = true)\n",
      " |-- search_trends_cheilitis: string (nullable = true)\n",
      " |-- search_trends_chest_pain: string (nullable = true)\n",
      " |-- search_trends_chills: string (nullable = true)\n",
      " |-- search_trends_chorea: string (nullable = true)\n",
      " |-- search_trends_chronic_pain: string (nullable = true)\n",
      " |-- search_trends_cirrhosis: string (nullable = true)\n",
      " |-- search_trends_cleft_lip_and_cleft_palate: string (nullable = true)\n",
      " |-- search_trends_clouding_of_consciousness: string (nullable = true)\n",
      " |-- search_trends_cluster_headache: string (nullable = true)\n",
      " |-- search_trends_colitis: string (nullable = true)\n",
      " |-- search_trends_coma: string (nullable = true)\n",
      " |-- search_trends_common_cold: string (nullable = true)\n",
      " |-- search_trends_compulsive_behavior: string (nullable = true)\n",
      " |-- search_trends_compulsive_hoarding: string (nullable = true)\n",
      " |-- search_trends_confusion: string (nullable = true)\n",
      " |-- search_trends_congenital_heart_defect: string (nullable = true)\n",
      " |-- search_trends_conjunctivitis: string (nullable = true)\n",
      " |-- search_trends_constipation: string (nullable = true)\n",
      " |-- search_trends_convulsion: string (nullable = true)\n",
      " |-- search_trends_cough: string (nullable = true)\n",
      " |-- search_trends_crackles: string (nullable = true)\n",
      " |-- search_trends_cramp: string (nullable = true)\n",
      " |-- search_trends_crepitus: string (nullable = true)\n",
      " |-- search_trends_croup: string (nullable = true)\n",
      " |-- search_trends_cyanosis: string (nullable = true)\n",
      " |-- search_trends_dandruff: string (nullable = true)\n",
      " |-- search_trends_delayed_onset_muscle_soreness: string (nullable = true)\n",
      " |-- search_trends_dementia: string (nullable = true)\n",
      " |-- search_trends_dentin_hypersensitivity: string (nullable = true)\n",
      " |-- search_trends_depersonalization: string (nullable = true)\n",
      " |-- search_trends_depression: string (nullable = true)\n",
      " |-- search_trends_dermatitis: string (nullable = true)\n",
      " |-- search_trends_desquamation: string (nullable = true)\n",
      " |-- search_trends_developmental_disability: string (nullable = true)\n",
      " |-- search_trends_diabetes: string (nullable = true)\n",
      " |-- search_trends_diabetic_ketoacidosis: string (nullable = true)\n",
      " |-- search_trends_diarrhea: string (nullable = true)\n",
      " |-- search_trends_dizziness: string (nullable = true)\n",
      " |-- search_trends_dry_eye_syndrome: string (nullable = true)\n",
      " |-- search_trends_dysautonomia: string (nullable = true)\n",
      " |-- search_trends_dysgeusia: string (nullable = true)\n",
      " |-- search_trends_dysmenorrhea: string (nullable = true)\n",
      " |-- search_trends_dyspareunia: string (nullable = true)\n",
      " |-- search_trends_dysphagia: string (nullable = true)\n",
      " |-- search_trends_dysphoria: string (nullable = true)\n",
      " |-- search_trends_dystonia: string (nullable = true)\n",
      " |-- search_trends_dysuria: string (nullable = true)\n",
      " |-- search_trends_ear_pain: string (nullable = true)\n",
      " |-- search_trends_eczema: string (nullable = true)\n",
      " |-- search_trends_edema: string (nullable = true)\n",
      " |-- search_trends_encephalitis: string (nullable = true)\n",
      " |-- search_trends_encephalopathy: string (nullable = true)\n",
      " |-- search_trends_epidermoid_cyst: string (nullable = true)\n",
      " |-- search_trends_epilepsy: string (nullable = true)\n",
      " |-- search_trends_epiphora: string (nullable = true)\n",
      " |-- search_trends_erectile_dysfunction: string (nullable = true)\n",
      " |-- search_trends_erythema: string (nullable = true)\n",
      " |-- search_trends_erythema_chronicum_migrans: string (nullable = true)\n",
      " |-- search_trends_esophagitis: string (nullable = true)\n",
      " |-- search_trends_excessive_daytime_sleepiness: string (nullable = true)\n",
      " |-- search_trends_eye_pain: string (nullable = true)\n",
      " |-- search_trends_eye_strain: string (nullable = true)\n",
      " |-- search_trends_facial_nerve_paralysis: string (nullable = true)\n",
      " |-- search_trends_facial_swelling: string (nullable = true)\n",
      " |-- search_trends_fasciculation: string (nullable = true)\n",
      " |-- search_trends_fatigue: string (nullable = true)\n",
      " |-- search_trends_fatty_liver_disease: string (nullable = true)\n",
      " |-- search_trends_fecal_incontinence: string (nullable = true)\n",
      " |-- search_trends_fever: string (nullable = true)\n",
      " |-- search_trends_fibrillation: string (nullable = true)\n",
      " |-- search_trends_fibrocystic_breast_changes: string (nullable = true)\n",
      " |-- search_trends_fibromyalgia: string (nullable = true)\n",
      " |-- search_trends_flatulence: string (nullable = true)\n",
      " |-- search_trends_floater: string (nullable = true)\n",
      " |-- search_trends_focal_seizure: string (nullable = true)\n",
      " |-- search_trends_folate_deficiency: string (nullable = true)\n",
      " |-- search_trends_food_craving: string (nullable = true)\n",
      " |-- search_trends_food_intolerance: string (nullable = true)\n",
      " |-- search_trends_frequent_urination: string (nullable = true)\n",
      " |-- search_trends_gastroesophageal_reflux_disease: string (nullable = true)\n",
      " |-- search_trends_gastroparesis: string (nullable = true)\n",
      " |-- search_trends_generalized_anxiety_disorder: string (nullable = true)\n",
      " |-- search_trends_generalized_tonic–clonic_seizure: string (nullable = true)\n",
      " |-- search_trends_genital_wart: string (nullable = true)\n",
      " |-- search_trends_gingival_recession: string (nullable = true)\n",
      " |-- search_trends_gingivitis: string (nullable = true)\n",
      " |-- search_trends_globus_pharyngis: string (nullable = true)\n",
      " |-- search_trends_goitre: string (nullable = true)\n",
      " |-- search_trends_gout: string (nullable = true)\n",
      " |-- search_trends_grandiosity: string (nullable = true)\n",
      " |-- search_trends_granuloma: string (nullable = true)\n",
      " |-- search_trends_guilt: string (nullable = true)\n",
      " |-- search_trends_hair_loss: string (nullable = true)\n",
      " |-- search_trends_halitosis: string (nullable = true)\n",
      " |-- search_trends_hay_fever: string (nullable = true)\n",
      " |-- search_trends_headache: string (nullable = true)\n",
      " |-- search_trends_heart_arrhythmia: string (nullable = true)\n",
      " |-- search_trends_heart_murmur: string (nullable = true)\n",
      " |-- search_trends_heartburn: string (nullable = true)\n",
      " |-- search_trends_hematochezia: string (nullable = true)\n",
      " |-- search_trends_hematoma: string (nullable = true)\n",
      " |-- search_trends_hematuria: string (nullable = true)\n",
      " |-- search_trends_hemolysis: string (nullable = true)\n",
      " |-- search_trends_hemoptysis: string (nullable = true)\n",
      " |-- search_trends_hemorrhoids: string (nullable = true)\n",
      " |-- search_trends_hepatic_encephalopathy: string (nullable = true)\n",
      " |-- search_trends_hepatitis: string (nullable = true)\n",
      " |-- search_trends_hepatotoxicity: string (nullable = true)\n",
      " |-- search_trends_hiccup: string (nullable = true)\n",
      " |-- search_trends_hip_pain: string (nullable = true)\n",
      " |-- search_trends_hives: string (nullable = true)\n",
      " |-- search_trends_hot_flash: string (nullable = true)\n",
      " |-- search_trends_hydrocephalus: string (nullable = true)\n",
      " |-- search_trends_hypercalcaemia: string (nullable = true)\n",
      " |-- search_trends_hypercapnia: string (nullable = true)\n",
      " |-- search_trends_hypercholesterolemia: string (nullable = true)\n",
      " |-- search_trends_hyperemesis_gravidarum: string (nullable = true)\n",
      " |-- search_trends_hyperglycemia: string (nullable = true)\n",
      " |-- search_trends_hyperhidrosis: string (nullable = true)\n",
      " |-- search_trends_hyperkalemia: string (nullable = true)\n",
      " |-- search_trends_hyperlipidemia: string (nullable = true)\n",
      " |-- search_trends_hypermobility: string (nullable = true)\n",
      " |-- search_trends_hyperpigmentation: string (nullable = true)\n",
      " |-- search_trends_hypersomnia: string (nullable = true)\n",
      " |-- search_trends_hypertension: string (nullable = true)\n",
      " |-- search_trends_hyperthermia: string (nullable = true)\n",
      " |-- search_trends_hyperthyroidism: string (nullable = true)\n",
      " |-- search_trends_hypertriglyceridemia: string (nullable = true)\n",
      " |-- search_trends_hypertrophy: string (nullable = true)\n",
      " |-- search_trends_hyperventilation: string (nullable = true)\n",
      " |-- search_trends_hypocalcaemia: string (nullable = true)\n",
      " |-- search_trends_hypochondriasis: string (nullable = true)\n",
      " |-- search_trends_hypoglycemia: string (nullable = true)\n",
      " |-- search_trends_hypogonadism: string (nullable = true)\n",
      " |-- search_trends_hypokalemia: string (nullable = true)\n",
      " |-- search_trends_hypomania: string (nullable = true)\n",
      " |-- search_trends_hyponatremia: string (nullable = true)\n",
      " |-- search_trends_hypotension: string (nullable = true)\n",
      " |-- search_trends_hypothyroidism: string (nullable = true)\n",
      " |-- search_trends_hypoxemia: string (nullable = true)\n",
      " |-- search_trends_hypoxia: string (nullable = true)\n",
      " |-- search_trends_impetigo: string (nullable = true)\n",
      " |-- search_trends_implantation_bleeding: string (nullable = true)\n",
      " |-- search_trends_impulsivity: string (nullable = true)\n",
      " |-- search_trends_indigestion: string (nullable = true)\n",
      " |-- search_trends_infection: string (nullable = true)\n",
      " |-- search_trends_inflammation: string (nullable = true)\n",
      " |-- search_trends_inflammatory_bowel_disease: string (nullable = true)\n",
      " |-- search_trends_ingrown_hair: string (nullable = true)\n",
      " |-- search_trends_insomnia: string (nullable = true)\n",
      " |-- search_trends_insulin_resistance: string (nullable = true)\n",
      " |-- search_trends_intermenstrual_bleeding: string (nullable = true)\n",
      " |-- search_trends_intracranial_pressure: string (nullable = true)\n",
      " |-- search_trends_iron_deficiency: string (nullable = true)\n",
      " |-- search_trends_irregular_menstruation: string (nullable = true)\n",
      " |-- search_trends_itch: string (nullable = true)\n",
      " |-- search_trends_jaundice: string (nullable = true)\n",
      " |-- search_trends_kidney_failure: string (nullable = true)\n",
      " |-- search_trends_kidney_stone: string (nullable = true)\n",
      " |-- search_trends_knee_pain: string (nullable = true)\n",
      " |-- search_trends_kyphosis: string (nullable = true)\n",
      " |-- search_trends_lactose_intolerance: string (nullable = true)\n",
      " |-- search_trends_laryngitis: string (nullable = true)\n",
      " |-- search_trends_leg_cramps: string (nullable = true)\n",
      " |-- search_trends_lesion: string (nullable = true)\n",
      " |-- search_trends_leukorrhea: string (nullable = true)\n",
      " |-- search_trends_lightheadedness: string (nullable = true)\n",
      " |-- search_trends_low_back_pain: string (nullable = true)\n",
      " |-- search_trends_low_grade_fever: string (nullable = true)\n",
      " |-- search_trends_lymphedema: string (nullable = true)\n",
      " |-- search_trends_major_depressive_disorder: string (nullable = true)\n",
      " |-- search_trends_malabsorption: string (nullable = true)\n",
      " |-- search_trends_male_infertility: string (nullable = true)\n",
      " |-- search_trends_manic_disorder: string (nullable = true)\n",
      " |-- search_trends_melasma: string (nullable = true)\n",
      " |-- search_trends_melena: string (nullable = true)\n",
      " |-- search_trends_meningitis: string (nullable = true)\n",
      " |-- search_trends_menorrhagia: string (nullable = true)\n",
      " |-- search_trends_middle_back_pain: string (nullable = true)\n",
      " |-- search_trends_migraine: string (nullable = true)\n",
      " |-- search_trends_milium: string (nullable = true)\n",
      " |-- search_trends_mitral_insufficiency: string (nullable = true)\n",
      " |-- search_trends_mood_disorder: string (nullable = true)\n",
      " |-- search_trends_mood_swing: string (nullable = true)\n",
      " |-- search_trends_morning_sickness: string (nullable = true)\n",
      " |-- search_trends_motion_sickness: string (nullable = true)\n",
      " |-- search_trends_mouth_ulcer: string (nullable = true)\n",
      " |-- search_trends_muscle_atrophy: string (nullable = true)\n",
      " |-- search_trends_muscle_weakness: string (nullable = true)\n",
      " |-- search_trends_myalgia: string (nullable = true)\n",
      " |-- search_trends_mydriasis: string (nullable = true)\n",
      " |-- search_trends_myocardial_infarction: string (nullable = true)\n",
      " |-- search_trends_myoclonus: string (nullable = true)\n",
      " |-- search_trends_nasal_congestion: string (nullable = true)\n",
      " |-- search_trends_nasal_polyp: string (nullable = true)\n",
      " |-- search_trends_nausea: string (nullable = true)\n",
      " |-- search_trends_neck_mass: string (nullable = true)\n",
      " |-- search_trends_neck_pain: string (nullable = true)\n",
      " |-- search_trends_neonatal_jaundice: string (nullable = true)\n",
      " |-- search_trends_nerve_injury: string (nullable = true)\n",
      " |-- search_trends_neuralgia: string (nullable = true)\n",
      " |-- search_trends_neutropenia: string (nullable = true)\n",
      " |-- search_trends_night_sweats: string (nullable = true)\n",
      " |-- search_trends_night_terror: string (nullable = true)\n",
      " |-- search_trends_nocturnal_enuresis: string (nullable = true)\n",
      " |-- search_trends_nodule: string (nullable = true)\n",
      " |-- search_trends_nosebleed: string (nullable = true)\n",
      " |-- search_trends_nystagmus: string (nullable = true)\n",
      " |-- search_trends_obesity: string (nullable = true)\n",
      " |-- search_trends_onychorrhexis: string (nullable = true)\n",
      " |-- search_trends_oral_candidiasis: string (nullable = true)\n",
      " |-- search_trends_orthostatic_hypotension: string (nullable = true)\n",
      " |-- search_trends_osteopenia: string (nullable = true)\n",
      " |-- search_trends_osteophyte: string (nullable = true)\n",
      " |-- search_trends_osteoporosis: string (nullable = true)\n",
      " |-- search_trends_otitis: string (nullable = true)\n",
      " |-- search_trends_otitis_externa: string (nullable = true)\n",
      " |-- search_trends_otitis_media: string (nullable = true)\n",
      " |-- search_trends_pain: string (nullable = true)\n",
      " |-- search_trends_palpitations: string (nullable = true)\n",
      " |-- search_trends_pancreatitis: string (nullable = true)\n",
      " |-- search_trends_panic_attack: string (nullable = true)\n",
      " |-- search_trends_papule: string (nullable = true)\n",
      " |-- search_trends_paranoia: string (nullable = true)\n",
      " |-- search_trends_paresthesia: string (nullable = true)\n",
      " |-- search_trends_pelvic_inflammatory_disease: string (nullable = true)\n",
      " |-- search_trends_pericarditis: string (nullable = true)\n",
      " |-- search_trends_periodontal_disease: string (nullable = true)\n",
      " |-- search_trends_periorbital_puffiness: string (nullable = true)\n",
      " |-- search_trends_peripheral_neuropathy: string (nullable = true)\n",
      " |-- search_trends_perspiration: string (nullable = true)\n",
      " |-- search_trends_petechia: string (nullable = true)\n",
      " |-- search_trends_phlegm: string (nullable = true)\n",
      " |-- search_trends_photodermatitis: string (nullable = true)\n",
      " |-- search_trends_photophobia: string (nullable = true)\n",
      " |-- search_trends_photopsia: string (nullable = true)\n",
      " |-- search_trends_pleural_effusion: string (nullable = true)\n",
      " |-- search_trends_pleurisy: string (nullable = true)\n",
      " |-- search_trends_pneumonia: string (nullable = true)\n",
      " |-- search_trends_podalgia: string (nullable = true)\n",
      " |-- search_trends_polycythemia: string (nullable = true)\n",
      " |-- search_trends_polydipsia: string (nullable = true)\n",
      " |-- search_trends_polyneuropathy: string (nullable = true)\n",
      " |-- search_trends_polyuria: string (nullable = true)\n",
      " |-- search_trends_poor_posture: string (nullable = true)\n",
      " |-- search_trends_post_nasal_drip: string (nullable = true)\n",
      " |-- search_trends_postural_orthostatic_tachycardia_syndrome: string (nullable = true)\n",
      " |-- search_trends_prediabetes: string (nullable = true)\n",
      " |-- search_trends_proteinuria: string (nullable = true)\n",
      " |-- search_trends_pruritus_ani: string (nullable = true)\n",
      " |-- search_trends_psychosis: string (nullable = true)\n",
      " |-- search_trends_ptosis: string (nullable = true)\n",
      " |-- search_trends_pulmonary_edema: string (nullable = true)\n",
      " |-- search_trends_pulmonary_hypertension: string (nullable = true)\n",
      " |-- search_trends_purpura: string (nullable = true)\n",
      " |-- search_trends_pus: string (nullable = true)\n",
      " |-- search_trends_pyelonephritis: string (nullable = true)\n",
      " |-- search_trends_radiculopathy: string (nullable = true)\n",
      " |-- search_trends_rectal_pain: string (nullable = true)\n",
      " |-- search_trends_rectal_prolapse: string (nullable = true)\n",
      " |-- search_trends_red_eye: string (nullable = true)\n",
      " |-- search_trends_renal_colic: string (nullable = true)\n",
      " |-- search_trends_restless_legs_syndrome: string (nullable = true)\n",
      " |-- search_trends_rheum: string (nullable = true)\n",
      " |-- search_trends_rhinitis: string (nullable = true)\n",
      " |-- search_trends_rhinorrhea: string (nullable = true)\n",
      " |-- search_trends_rosacea: string (nullable = true)\n",
      " |-- search_trends_round_ligament_pain: string (nullable = true)\n",
      " |-- search_trends_rumination: string (nullable = true)\n",
      " |-- search_trends_scar: string (nullable = true)\n",
      " |-- search_trends_sciatica: string (nullable = true)\n",
      " |-- search_trends_scoliosis: string (nullable = true)\n",
      " |-- search_trends_seborrheic_dermatitis: string (nullable = true)\n",
      " |-- search_trends_self_harm: string (nullable = true)\n",
      " |-- search_trends_sensitivity_to_sound: string (nullable = true)\n",
      " |-- search_trends_sexual_dysfunction: string (nullable = true)\n",
      " |-- search_trends_shallow_breathing: string (nullable = true)\n",
      " |-- search_trends_sharp_pain: string (nullable = true)\n",
      " |-- search_trends_shivering: string (nullable = true)\n",
      " |-- search_trends_shortness_of_breath: string (nullable = true)\n",
      " |-- search_trends_shyness: string (nullable = true)\n",
      " |-- search_trends_sinusitis: string (nullable = true)\n",
      " |-- search_trends_skin_condition: string (nullable = true)\n",
      " |-- search_trends_skin_rash: string (nullable = true)\n",
      " |-- search_trends_skin_tag: string (nullable = true)\n",
      " |-- search_trends_skin_ulcer: string (nullable = true)\n",
      " |-- search_trends_sleep_apnea: string (nullable = true)\n",
      " |-- search_trends_sleep_deprivation: string (nullable = true)\n",
      " |-- search_trends_sleep_disorder: string (nullable = true)\n",
      " |-- search_trends_snoring: string (nullable = true)\n",
      " |-- search_trends_sore_throat: string (nullable = true)\n",
      " |-- search_trends_spasticity: string (nullable = true)\n",
      " |-- search_trends_splenomegaly: string (nullable = true)\n",
      " |-- search_trends_sputum: string (nullable = true)\n",
      " |-- search_trends_stomach_rumble: string (nullable = true)\n",
      " |-- search_trends_strabismus: string (nullable = true)\n",
      " |-- search_trends_stretch_marks: string (nullable = true)\n",
      " |-- search_trends_stridor: string (nullable = true)\n",
      " |-- search_trends_stroke: string (nullable = true)\n",
      " |-- search_trends_stuttering: string (nullable = true)\n",
      " |-- search_trends_subdural_hematoma: string (nullable = true)\n",
      " |-- search_trends_suicidal_ideation: string (nullable = true)\n",
      " |-- search_trends_swelling: string (nullable = true)\n",
      " |-- search_trends_swollen_feet: string (nullable = true)\n",
      " |-- search_trends_swollen_lymph_nodes: string (nullable = true)\n",
      " |-- search_trends_syncope: string (nullable = true)\n",
      " |-- search_trends_tachycardia: string (nullable = true)\n",
      " |-- search_trends_tachypnea: string (nullable = true)\n",
      " |-- search_trends_telangiectasia: string (nullable = true)\n",
      " |-- search_trends_tenderness: string (nullable = true)\n",
      " |-- search_trends_testicular_pain: string (nullable = true)\n",
      " |-- search_trends_throat_irritation: string (nullable = true)\n",
      " |-- search_trends_thrombocytopenia: string (nullable = true)\n",
      " |-- search_trends_thyroid_nodule: string (nullable = true)\n",
      " |-- search_trends_tic: string (nullable = true)\n",
      " |-- search_trends_tinnitus: string (nullable = true)\n",
      " |-- search_trends_tonsillitis: string (nullable = true)\n",
      " |-- search_trends_toothache: string (nullable = true)\n",
      " |-- search_trends_tremor: string (nullable = true)\n",
      " |-- search_trends_trichoptilosis: string (nullable = true)\n",
      " |-- search_trends_tumor: string (nullable = true)\n",
      " |-- search_trends_type_2_diabetes: string (nullable = true)\n",
      " |-- search_trends_unconsciousness: string (nullable = true)\n",
      " |-- search_trends_underweight: string (nullable = true)\n",
      " |-- search_trends_upper_respiratory_tract_infection: string (nullable = true)\n",
      " |-- search_trends_urethritis: string (nullable = true)\n",
      " |-- search_trends_urinary_incontinence: string (nullable = true)\n",
      " |-- search_trends_urinary_tract_infection: string (nullable = true)\n",
      " |-- search_trends_urinary_urgency: string (nullable = true)\n",
      " |-- search_trends_uterine_contraction: string (nullable = true)\n",
      " |-- search_trends_vaginal_bleeding: string (nullable = true)\n",
      " |-- search_trends_vaginal_discharge: string (nullable = true)\n",
      " |-- search_trends_vaginitis: string (nullable = true)\n",
      " |-- search_trends_varicose_veins: string (nullable = true)\n",
      " |-- search_trends_vasculitis: string (nullable = true)\n",
      " |-- search_trends_ventricular_fibrillation: string (nullable = true)\n",
      " |-- search_trends_ventricular_tachycardia: string (nullable = true)\n",
      " |-- search_trends_vertigo: string (nullable = true)\n",
      " |-- search_trends_viral_pneumonia: string (nullable = true)\n",
      " |-- search_trends_visual_acuity: string (nullable = true)\n",
      " |-- search_trends_vomiting: string (nullable = true)\n",
      " |-- search_trends_wart: string (nullable = true)\n",
      " |-- search_trends_water_retention: string (nullable = true)\n",
      " |-- search_trends_weakness: string (nullable = true)\n",
      " |-- search_trends_weight_gain: string (nullable = true)\n",
      " |-- search_trends_wheeze: string (nullable = true)\n",
      " |-- search_trends_xeroderma: string (nullable = true)\n",
      " |-- search_trends_xerostomia: string (nullable = true)\n",
      " |-- search_trends_yawn: string (nullable = true)"
     ]
    }
   ],
   "source": [
    "#print schema\n",
    "df_st.printSchema()"
   ]
  },
  {
   "cell_type": "code",
   "execution_count": 51,
   "metadata": {},
   "outputs": [
    {
     "data": {
      "application/vnd.jupyter.widget-view+json": {
       "model_id": "11f906be20e7426eb424855cbe6393c1",
       "version_major": 2,
       "version_minor": 0
      },
      "text/plain": [
       "VBox()"
      ]
     },
     "metadata": {},
     "output_type": "display_data"
    },
    {
     "data": {
      "application/vnd.jupyter.widget-view+json": {
       "model_id": "",
       "version_major": 2,
       "version_minor": 0
      },
      "text/plain": [
       "FloatProgress(value=0.0, bar_style='info', description='Progress:', layout=Layout(height='25px', width='50%'),…"
      ]
     },
     "metadata": {},
     "output_type": "display_data"
    },
    {
     "name": "stdout",
     "output_type": "stream",
     "text": [
      "+----------+------+-------------------------------+----------------------------+------------------+-------------------------------+------------------------------+----------------------------+---------------------+------------------------+-------------------------------------+---------------------+-----------------------+------------------------+---------------------+--------------------------+-------------------------+--------------------+-----------------------------+------------------------+-------------------------------+---------------------+---------------------+---------------------+---------------------+-------------------+------------------------+-----------------------+---------------------+-------------------------------+----------------------+--------------------+-------------------------+--------------------+----------------------+------------------------------------------------------+------------------------------------+--------------------------------+-------------------------------------------+-----------------------+---------------------------------+------------------------------+-------------------------+-------------------------+---------------------------+--------------------------+----------------------+---------------------------------+---------------------------+----------------------+----------------------------+----------------------------+----------------------+------------------+---------------------------+------------------------+-------------------------------+-------------------------+----------------------------------------+-----------------------------------+-------------------------+------------------------+--------------------+---------------------+--------------------+------------------+--------------------------------+------------------------------------+-------------------------+-------------------------+----------------------------+------------------------------------+-----------------------+----------------------+---------------------+-----------------------+------------------------+--------------------+--------------------+--------------------------+-----------------------+----------------------------------------+---------------------------------------+------------------------------+---------------------+------------------+-------------------------+---------------------------------+---------------------------------+-----------------------+-------------------------------------+----------------------------+--------------------------+------------------------+-------------------+----------------------+-------------------+----------------------+-------------------+----------------------+----------------------+-------------------------------------------+----------------------+-------------------------------------+-------------------------------+------------------------+------------------------+--------------------------+--------------------------------------+----------------------+-----------------------------------+----------------------+-----------------------+------------------------------+--------------------------+-----------------------+--------------------------+-------------------------+-----------------------+-----------------------+----------------------+---------------------+----------------------+--------------------+-------------------+--------------------------+----------------------------+-----------------------------+----------------------+----------------------+----------------------------------+----------------------+----------------------------------------+-------------------------+------------------------------------------+----------------------+------------------------+------------------------------------+-----------------------------+---------------------------+---------------------+---------------------------------+--------------------------------+-------------------+--------------------------+----------------------------------------+--------------------------+------------------------+---------------------+---------------------------+-------------------------------+--------------------------+------------------------------+--------------------------------+---------------------------------------------+---------------------------+------------------------------------------+----------------------------------------------+--------------------------+--------------------------------+------------------------+------------------------------+--------------------+------------------+-------------------------+-----------------------+-------------------+-----------------------+-----------------------+-----------------------+----------------------+------------------------------+--------------------------+-----------------------+--------------------------+----------------------+-----------------------+-----------------------+------------------------+-------------------------+------------------------------------+-----------------------+----------------------------+--------------------+----------------------+-------------------+-----------------------+---------------------------+----------------------------+-------------------------+----------------------------------+------------------------------------+---------------------------+---------------------------+--------------------------+----------------------------+---------------------------+-------------------------------+-------------------------+--------------------------+--------------------------+-----------------------------+----------------------------------+-------------------------+------------------------------+---------------------------+-----------------------------+--------------------------+--------------------------+-------------------------+-----------------------+--------------------------+-------------------------+----------------------------+-----------------------+---------------------+----------------------+-----------------------------------+-------------------------+-------------------------+-----------------------+--------------------------+----------------------------------------+--------------------------+----------------------+--------------------------------+-------------------------------------+-----------------------------------+-----------------------------+------------------------------------+------------------+----------------------+----------------------------+--------------------------+-----------------------+----------------------+---------------------------------+------------------------+------------------------+--------------------+------------------------+-----------------------------+---------------------------+-----------------------------+------------------------+---------------------------------------+---------------------------+------------------------------+----------------------------+---------------------+--------------------+------------------------+-------------------------+------------------------------+----------------------+--------------------+----------------------------------+---------------------------+------------------------+------------------------------+-----------------------------+-------------------------+----------------------------+-----------------------------+---------------------+-----------------------+-----------------------------------+-----------------------+------------------------------+-------------------------+--------------------+-----------------------+-----------------------+-------------------------------+--------------------------+-----------------------+-------------------------+--------------------------+--------------------------+--------------------------------+--------------------+-----------------------+-----------------------+---------------------+---------------------------+------------------------------+-------------------------------------+------------------------+------------------------+--------------------------+--------------------+----------------------------+--------------------------+------------------+--------------------------+--------------------------+--------------------------+--------------------+----------------------+-------------------------+-----------------------------------------+--------------------------+---------------------------------+-----------------------------------+-----------------------------------+--------------------------+----------------------+--------------------+-----------------------------+-------------------------+-----------------------+------------------------------+----------------------+-----------------------+----------------------+--------------------------+------------------------+----------------------------+----------------------+--------------------------+-----------------------------+-------------------------------------------------------+-------------------------+-------------------------+--------------------------+-----------------------+--------------------+-----------------------------+------------------------------------+---------------------+-----------------+----------------------------+---------------------------+-------------------------+-----------------------------+---------------------+-------------------------+------------------------------------+-------------------+----------------------+------------------------+---------------------+---------------------------------+------------------------+------------------+----------------------+-----------------------+-----------------------------------+-----------------------+----------------------------------+--------------------------------+-------------------------------+------------------------+-----------------------+---------------------------------+---------------------+-----------------------+----------------------------+-----------------------+----------------------+------------------------+-------------------------+-------------------------------+----------------------------+---------------------+-------------------------+------------------------+--------------------------+--------------------+----------------------------+------------------------+---------------------------+---------------------+--------------------+------------------------+-------------------------------+-------------------------------+----------------------+--------------------------+---------------------------------+---------------------+-------------------------+-----------------------+----------------------------+------------------------+-----------------------------+-------------------------------+------------------------------+----------------------------+-----------------+----------------------+-------------------------+-----------------------+--------------------+----------------------------+-------------------+-----------------------------+-----------------------------+-------------------------+-----------------------------------------------+------------------------+----------------------------------+-------------------------------------+-----------------------------+---------------------------------+------------------------------+-------------------------------+-----------------------+----------------------------+------------------------+--------------------------------------+-------------------------------------+---------------------+-----------------------------+---------------------------+----------------------+------------------+-----------------------------+----------------------+-------------------------+--------------------+-----------------------+------------------------+------------------+\n",
      "|      date|   key|search_trends_abdominal_obesity|search_trends_abdominal_pain|search_trends_acne|search_trends_actinic_keratosis|search_trends_acute_bronchitis|search_trends_adrenal_crisis|search_trends_ageusia|search_trends_alcoholism|search_trends_allergic_conjunctivitis|search_trends_allergy|search_trends_amblyopia|search_trends_amenorrhea|search_trends_amnesia|search_trends_anal_fissure|search_trends_anaphylaxis|search_trends_anemia|search_trends_angina_pectoris|search_trends_angioedema|search_trends_angular_cheilitis|search_trends_anosmia|search_trends_anxiety|search_trends_aphasia|search_trends_aphonia|search_trends_apnea|search_trends_arthralgia|search_trends_arthritis|search_trends_ascites|search_trends_asperger_syndrome|search_trends_asphyxia|search_trends_asthma|search_trends_astigmatism|search_trends_ataxia|search_trends_atheroma|search_trends_attention_deficit_hyperactivity_disorder|search_trends_auditory_hallucination|search_trends_autoimmune_disease|search_trends_avoidant_personality_disorder|search_trends_back_pain|search_trends_bacterial_vaginosis|search_trends_balance_disorder|search_trends_beaus_lines|search_trends_bells_palsy|search_trends_biliary_colic|search_trends_binge_eating|search_trends_bleeding|search_trends_bleeding_on_probing|search_trends_blepharospasm|search_trends_bloating|search_trends_blood_in_stool|search_trends_blurred_vision|search_trends_blushing|search_trends_boil|search_trends_bone_fracture|search_trends_bone_tumor|search_trends_bowel_obstruction|search_trends_bradycardia|search_trends_braxton_hicks_contractions|search_trends_breakthrough_bleeding|search_trends_breast_pain|search_trends_bronchitis|search_trends_bruise|search_trends_bruxism|search_trends_bunion|search_trends_burn|search_trends_burning_chest_pain|search_trends_burning_mouth_syndrome|search_trends_candidiasis|search_trends_canker_sore|search_trends_cardiac_arrest|search_trends_carpal_tunnel_syndrome|search_trends_cataplexy|search_trends_cataract|search_trends_chancre|search_trends_cheilitis|search_trends_chest_pain|search_trends_chills|search_trends_chorea|search_trends_chronic_pain|search_trends_cirrhosis|search_trends_cleft_lip_and_cleft_palate|search_trends_clouding_of_consciousness|search_trends_cluster_headache|search_trends_colitis|search_trends_coma|search_trends_common_cold|search_trends_compulsive_behavior|search_trends_compulsive_hoarding|search_trends_confusion|search_trends_congenital_heart_defect|search_trends_conjunctivitis|search_trends_constipation|search_trends_convulsion|search_trends_cough|search_trends_crackles|search_trends_cramp|search_trends_crepitus|search_trends_croup|search_trends_cyanosis|search_trends_dandruff|search_trends_delayed_onset_muscle_soreness|search_trends_dementia|search_trends_dentin_hypersensitivity|search_trends_depersonalization|search_trends_depression|search_trends_dermatitis|search_trends_desquamation|search_trends_developmental_disability|search_trends_diabetes|search_trends_diabetic_ketoacidosis|search_trends_diarrhea|search_trends_dizziness|search_trends_dry_eye_syndrome|search_trends_dysautonomia|search_trends_dysgeusia|search_trends_dysmenorrhea|search_trends_dyspareunia|search_trends_dysphagia|search_trends_dysphoria|search_trends_dystonia|search_trends_dysuria|search_trends_ear_pain|search_trends_eczema|search_trends_edema|search_trends_encephalitis|search_trends_encephalopathy|search_trends_epidermoid_cyst|search_trends_epilepsy|search_trends_epiphora|search_trends_erectile_dysfunction|search_trends_erythema|search_trends_erythema_chronicum_migrans|search_trends_esophagitis|search_trends_excessive_daytime_sleepiness|search_trends_eye_pain|search_trends_eye_strain|search_trends_facial_nerve_paralysis|search_trends_facial_swelling|search_trends_fasciculation|search_trends_fatigue|search_trends_fatty_liver_disease|search_trends_fecal_incontinence|search_trends_fever|search_trends_fibrillation|search_trends_fibrocystic_breast_changes|search_trends_fibromyalgia|search_trends_flatulence|search_trends_floater|search_trends_focal_seizure|search_trends_folate_deficiency|search_trends_food_craving|search_trends_food_intolerance|search_trends_frequent_urination|search_trends_gastroesophageal_reflux_disease|search_trends_gastroparesis|search_trends_generalized_anxiety_disorder|search_trends_generalized_tonic–clonic_seizure|search_trends_genital_wart|search_trends_gingival_recession|search_trends_gingivitis|search_trends_globus_pharyngis|search_trends_goitre|search_trends_gout|search_trends_grandiosity|search_trends_granuloma|search_trends_guilt|search_trends_hair_loss|search_trends_halitosis|search_trends_hay_fever|search_trends_headache|search_trends_heart_arrhythmia|search_trends_heart_murmur|search_trends_heartburn|search_trends_hematochezia|search_trends_hematoma|search_trends_hematuria|search_trends_hemolysis|search_trends_hemoptysis|search_trends_hemorrhoids|search_trends_hepatic_encephalopathy|search_trends_hepatitis|search_trends_hepatotoxicity|search_trends_hiccup|search_trends_hip_pain|search_trends_hives|search_trends_hot_flash|search_trends_hydrocephalus|search_trends_hypercalcaemia|search_trends_hypercapnia|search_trends_hypercholesterolemia|search_trends_hyperemesis_gravidarum|search_trends_hyperglycemia|search_trends_hyperhidrosis|search_trends_hyperkalemia|search_trends_hyperlipidemia|search_trends_hypermobility|search_trends_hyperpigmentation|search_trends_hypersomnia|search_trends_hypertension|search_trends_hyperthermia|search_trends_hyperthyroidism|search_trends_hypertriglyceridemia|search_trends_hypertrophy|search_trends_hyperventilation|search_trends_hypocalcaemia|search_trends_hypochondriasis|search_trends_hypoglycemia|search_trends_hypogonadism|search_trends_hypokalemia|search_trends_hypomania|search_trends_hyponatremia|search_trends_hypotension|search_trends_hypothyroidism|search_trends_hypoxemia|search_trends_hypoxia|search_trends_impetigo|search_trends_implantation_bleeding|search_trends_impulsivity|search_trends_indigestion|search_trends_infection|search_trends_inflammation|search_trends_inflammatory_bowel_disease|search_trends_ingrown_hair|search_trends_insomnia|search_trends_insulin_resistance|search_trends_intermenstrual_bleeding|search_trends_intracranial_pressure|search_trends_iron_deficiency|search_trends_irregular_menstruation|search_trends_itch|search_trends_jaundice|search_trends_kidney_failure|search_trends_kidney_stone|search_trends_knee_pain|search_trends_kyphosis|search_trends_lactose_intolerance|search_trends_laryngitis|search_trends_leg_cramps|search_trends_lesion|search_trends_leukorrhea|search_trends_lightheadedness|search_trends_low_back_pain|search_trends_low_grade_fever|search_trends_lymphedema|search_trends_major_depressive_disorder|search_trends_malabsorption|search_trends_male_infertility|search_trends_manic_disorder|search_trends_melasma|search_trends_melena|search_trends_meningitis|search_trends_menorrhagia|search_trends_middle_back_pain|search_trends_migraine|search_trends_milium|search_trends_mitral_insufficiency|search_trends_mood_disorder|search_trends_mood_swing|search_trends_morning_sickness|search_trends_motion_sickness|search_trends_mouth_ulcer|search_trends_muscle_atrophy|search_trends_muscle_weakness|search_trends_myalgia|search_trends_mydriasis|search_trends_myocardial_infarction|search_trends_myoclonus|search_trends_nasal_congestion|search_trends_nasal_polyp|search_trends_nausea|search_trends_neck_mass|search_trends_neck_pain|search_trends_neonatal_jaundice|search_trends_nerve_injury|search_trends_neuralgia|search_trends_neutropenia|search_trends_night_sweats|search_trends_night_terror|search_trends_nocturnal_enuresis|search_trends_nodule|search_trends_nosebleed|search_trends_nystagmus|search_trends_obesity|search_trends_onychorrhexis|search_trends_oral_candidiasis|search_trends_orthostatic_hypotension|search_trends_osteopenia|search_trends_osteophyte|search_trends_osteoporosis|search_trends_otitis|search_trends_otitis_externa|search_trends_otitis_media|search_trends_pain|search_trends_palpitations|search_trends_pancreatitis|search_trends_panic_attack|search_trends_papule|search_trends_paranoia|search_trends_paresthesia|search_trends_pelvic_inflammatory_disease|search_trends_pericarditis|search_trends_periodontal_disease|search_trends_periorbital_puffiness|search_trends_peripheral_neuropathy|search_trends_perspiration|search_trends_petechia|search_trends_phlegm|search_trends_photodermatitis|search_trends_photophobia|search_trends_photopsia|search_trends_pleural_effusion|search_trends_pleurisy|search_trends_pneumonia|search_trends_podalgia|search_trends_polycythemia|search_trends_polydipsia|search_trends_polyneuropathy|search_trends_polyuria|search_trends_poor_posture|search_trends_post_nasal_drip|search_trends_postural_orthostatic_tachycardia_syndrome|search_trends_prediabetes|search_trends_proteinuria|search_trends_pruritus_ani|search_trends_psychosis|search_trends_ptosis|search_trends_pulmonary_edema|search_trends_pulmonary_hypertension|search_trends_purpura|search_trends_pus|search_trends_pyelonephritis|search_trends_radiculopathy|search_trends_rectal_pain|search_trends_rectal_prolapse|search_trends_red_eye|search_trends_renal_colic|search_trends_restless_legs_syndrome|search_trends_rheum|search_trends_rhinitis|search_trends_rhinorrhea|search_trends_rosacea|search_trends_round_ligament_pain|search_trends_rumination|search_trends_scar|search_trends_sciatica|search_trends_scoliosis|search_trends_seborrheic_dermatitis|search_trends_self_harm|search_trends_sensitivity_to_sound|search_trends_sexual_dysfunction|search_trends_shallow_breathing|search_trends_sharp_pain|search_trends_shivering|search_trends_shortness_of_breath|search_trends_shyness|search_trends_sinusitis|search_trends_skin_condition|search_trends_skin_rash|search_trends_skin_tag|search_trends_skin_ulcer|search_trends_sleep_apnea|search_trends_sleep_deprivation|search_trends_sleep_disorder|search_trends_snoring|search_trends_sore_throat|search_trends_spasticity|search_trends_splenomegaly|search_trends_sputum|search_trends_stomach_rumble|search_trends_strabismus|search_trends_stretch_marks|search_trends_stridor|search_trends_stroke|search_trends_stuttering|search_trends_subdural_hematoma|search_trends_suicidal_ideation|search_trends_swelling|search_trends_swollen_feet|search_trends_swollen_lymph_nodes|search_trends_syncope|search_trends_tachycardia|search_trends_tachypnea|search_trends_telangiectasia|search_trends_tenderness|search_trends_testicular_pain|search_trends_throat_irritation|search_trends_thrombocytopenia|search_trends_thyroid_nodule|search_trends_tic|search_trends_tinnitus|search_trends_tonsillitis|search_trends_toothache|search_trends_tremor|search_trends_trichoptilosis|search_trends_tumor|search_trends_type_2_diabetes|search_trends_unconsciousness|search_trends_underweight|search_trends_upper_respiratory_tract_infection|search_trends_urethritis|search_trends_urinary_incontinence|search_trends_urinary_tract_infection|search_trends_urinary_urgency|search_trends_uterine_contraction|search_trends_vaginal_bleeding|search_trends_vaginal_discharge|search_trends_vaginitis|search_trends_varicose_veins|search_trends_vasculitis|search_trends_ventricular_fibrillation|search_trends_ventricular_tachycardia|search_trends_vertigo|search_trends_viral_pneumonia|search_trends_visual_acuity|search_trends_vomiting|search_trends_wart|search_trends_water_retention|search_trends_weakness|search_trends_weight_gain|search_trends_wheeze|search_trends_xeroderma|search_trends_xerostomia|search_trends_yawn|\n",
      "+----------+------+-------------------------------+----------------------------+------------------+-------------------------------+------------------------------+----------------------------+---------------------+------------------------+-------------------------------------+---------------------+-----------------------+------------------------+---------------------+--------------------------+-------------------------+--------------------+-----------------------------+------------------------+-------------------------------+---------------------+---------------------+---------------------+---------------------+-------------------+------------------------+-----------------------+---------------------+-------------------------------+----------------------+--------------------+-------------------------+--------------------+----------------------+------------------------------------------------------+------------------------------------+--------------------------------+-------------------------------------------+-----------------------+---------------------------------+------------------------------+-------------------------+-------------------------+---------------------------+--------------------------+----------------------+---------------------------------+---------------------------+----------------------+----------------------------+----------------------------+----------------------+------------------+---------------------------+------------------------+-------------------------------+-------------------------+----------------------------------------+-----------------------------------+-------------------------+------------------------+--------------------+---------------------+--------------------+------------------+--------------------------------+------------------------------------+-------------------------+-------------------------+----------------------------+------------------------------------+-----------------------+----------------------+---------------------+-----------------------+------------------------+--------------------+--------------------+--------------------------+-----------------------+----------------------------------------+---------------------------------------+------------------------------+---------------------+------------------+-------------------------+---------------------------------+---------------------------------+-----------------------+-------------------------------------+----------------------------+--------------------------+------------------------+-------------------+----------------------+-------------------+----------------------+-------------------+----------------------+----------------------+-------------------------------------------+----------------------+-------------------------------------+-------------------------------+------------------------+------------------------+--------------------------+--------------------------------------+----------------------+-----------------------------------+----------------------+-----------------------+------------------------------+--------------------------+-----------------------+--------------------------+-------------------------+-----------------------+-----------------------+----------------------+---------------------+----------------------+--------------------+-------------------+--------------------------+----------------------------+-----------------------------+----------------------+----------------------+----------------------------------+----------------------+----------------------------------------+-------------------------+------------------------------------------+----------------------+------------------------+------------------------------------+-----------------------------+---------------------------+---------------------+---------------------------------+--------------------------------+-------------------+--------------------------+----------------------------------------+--------------------------+------------------------+---------------------+---------------------------+-------------------------------+--------------------------+------------------------------+--------------------------------+---------------------------------------------+---------------------------+------------------------------------------+----------------------------------------------+--------------------------+--------------------------------+------------------------+------------------------------+--------------------+------------------+-------------------------+-----------------------+-------------------+-----------------------+-----------------------+-----------------------+----------------------+------------------------------+--------------------------+-----------------------+--------------------------+----------------------+-----------------------+-----------------------+------------------------+-------------------------+------------------------------------+-----------------------+----------------------------+--------------------+----------------------+-------------------+-----------------------+---------------------------+----------------------------+-------------------------+----------------------------------+------------------------------------+---------------------------+---------------------------+--------------------------+----------------------------+---------------------------+-------------------------------+-------------------------+--------------------------+--------------------------+-----------------------------+----------------------------------+-------------------------+------------------------------+---------------------------+-----------------------------+--------------------------+--------------------------+-------------------------+-----------------------+--------------------------+-------------------------+----------------------------+-----------------------+---------------------+----------------------+-----------------------------------+-------------------------+-------------------------+-----------------------+--------------------------+----------------------------------------+--------------------------+----------------------+--------------------------------+-------------------------------------+-----------------------------------+-----------------------------+------------------------------------+------------------+----------------------+----------------------------+--------------------------+-----------------------+----------------------+---------------------------------+------------------------+------------------------+--------------------+------------------------+-----------------------------+---------------------------+-----------------------------+------------------------+---------------------------------------+---------------------------+------------------------------+----------------------------+---------------------+--------------------+------------------------+-------------------------+------------------------------+----------------------+--------------------+----------------------------------+---------------------------+------------------------+------------------------------+-----------------------------+-------------------------+----------------------------+-----------------------------+---------------------+-----------------------+-----------------------------------+-----------------------+------------------------------+-------------------------+--------------------+-----------------------+-----------------------+-------------------------------+--------------------------+-----------------------+-------------------------+--------------------------+--------------------------+--------------------------------+--------------------+-----------------------+-----------------------+---------------------+---------------------------+------------------------------+-------------------------------------+------------------------+------------------------+--------------------------+--------------------+----------------------------+--------------------------+------------------+--------------------------+--------------------------+--------------------------+--------------------+----------------------+-------------------------+-----------------------------------------+--------------------------+---------------------------------+-----------------------------------+-----------------------------------+--------------------------+----------------------+--------------------+-----------------------------+-------------------------+-----------------------+------------------------------+----------------------+-----------------------+----------------------+--------------------------+------------------------+----------------------------+----------------------+--------------------------+-----------------------------+-------------------------------------------------------+-------------------------+-------------------------+--------------------------+-----------------------+--------------------+-----------------------------+------------------------------------+---------------------+-----------------+----------------------------+---------------------------+-------------------------+-----------------------------+---------------------+-------------------------+------------------------------------+-------------------+----------------------+------------------------+---------------------+---------------------------------+------------------------+------------------+----------------------+-----------------------+-----------------------------------+-----------------------+----------------------------------+--------------------------------+-------------------------------+------------------------+-----------------------+---------------------------------+---------------------+-----------------------+----------------------------+-----------------------+----------------------+------------------------+-------------------------+-------------------------------+----------------------------+---------------------+-------------------------+------------------------+--------------------------+--------------------+----------------------------+------------------------+---------------------------+---------------------+--------------------+------------------------+-------------------------------+-------------------------------+----------------------+--------------------------+---------------------------------+---------------------+-------------------------+-----------------------+----------------------------+------------------------+-----------------------------+-------------------------------+------------------------------+----------------------------+-----------------+----------------------+-------------------------+-----------------------+--------------------+----------------------------+-------------------+-----------------------------+-----------------------------+-------------------------+-----------------------------------------------+------------------------+----------------------------------+-------------------------------------+-----------------------------+---------------------------------+------------------------------+-------------------------------+-----------------------+----------------------------+------------------------+--------------------------------------+-------------------------------------+---------------------+-----------------------------+---------------------------+----------------------+------------------+-----------------------------+----------------------+-------------------------+--------------------+-----------------------+------------------------+------------------+\n",
      "|2020-01-01|    AU|                           3.56|                        5.38|             10.76|                           0.52|                          0.35|                        0.12|                 0.05|                    5.36|                                 0.06|                11.29|                   0.18|                    0.16|                 0.48|                      0.41|                     0.73|                2.69|                         0.61|                    0.26|                           0.08|                 0.06|                 9.71|                 0.15|                 0.13|               0.49|                    0.38|                   6.01|                 0.13|                            1.6|                  0.14|                2.44|                     0.22|                0.13|                   0.1|                                                  2.67|                                0.12|                            1.51|                                       0.22|                   6.91|                             0.93|                          0.16|                     0.11|                     0.27|                       0.21|                      0.32|                  4.31|                             0.31|                       0.31|                  3.12|                        0.43|                         0.4|                  0.19|              1.14|                       3.85|                    0.18|                           0.41|                     0.56|                                    0.58|                               0.73|                     0.72|                    0.63|                2.32|                 0.43|                0.53|              3.61|                            0.08|                                0.22|                     3.32|                     1.19|                        0.41|                                0.92|                    0.1|                   0.5|                 0.17|                   0.29|                    1.44|                0.23|                0.17|                      1.15|                   0.68|                                    0.16|                                   0.12|                          0.18|                 0.42|              0.36|                     8.29|                             0.75|                             0.15|                   0.27|                                 0.17|                        1.19|                      3.76|                    0.34|                5.7|                  0.06|               3.61|                   0.1|               0.26|                  0.08|                  1.15|                                       0.63|                  3.27|                                 0.27|                            0.1|                    5.82|                    3.56|                      0.61|                                  0.14|                  7.29|                               0.19|                  5.42|                   2.13|                          0.64|                      0.05|                    0.1|                       1.5|                     0.14|                    0.3|                   0.17|                  0.13|                 0.13|                  0.85|                0.29|                1.1|                      0.24|                        0.14|                         0.31|                  4.02|                  0.12|                              2.52|                  0.62|                                    0.15|                     0.12|                                      0.41|                  0.15|                    0.32|                                0.24|                         0.14|                       0.68|                 8.13|                             0.46|                            0.22|               3.89|                       0.3|                                    0.12|                       0.8|                    2.35|                 0.23|                       0.14|                           0.29|                       0.6|                          0.92|                             0.5|                                         4.21|                       0.12|                                       1.2|                                          0.18|                      1.02|                            0.12|                    0.53|                          0.14|                0.16|              1.49|                     0.23|                   0.16|               0.45|                   5.32|                   0.53|                   1.74|                  4.14|                          1.59|                      0.12|                   3.17|                      0.18|                  0.39|                   0.35|                   0.06|                    0.13|                      1.9|                                0.09|                   0.88|                        0.12|                0.54|                  1.14|               1.25|                   0.81|                       0.12|                        0.09|                     0.06|                              0.92|                                0.18|                       0.87|                       0.61|                      0.36|                        0.09|                       0.23|                           1.29|                     0.16|                      5.07|                      0.42|                         1.05|                               0.1|                     0.41|                          0.11|                        0.1|                         0.15|                      0.61|                      0.57|                     0.52|                   0.12|                      0.23|                     1.17|                        1.62|                   0.16|                 0.16|                  0.28|                               1.23|                     0.45|                      1.9|                   24.9|                      6.32|                                    1.14|                      0.84|                  3.56|                            0.43|                                  0.2|                               0.23|                         2.64|                                0.54|              9.52|                  0.45|                        1.07|                      1.12|                   1.98|                  0.23|                             1.18|                    0.23|                    0.47|                1.19|                    0.17|                         0.65|                       3.67|                         0.07|                    0.25|                                   3.99|                       0.24|                          0.15|                        0.74|                 0.35|                0.26|                     1.1|                     0.85|                          0.39|                  3.83|                0.34|                              0.08|                       0.98|                     0.3|                          1.26|                         0.84|                     1.14|                        0.15|                         0.22|                 2.37|                   0.22|                               2.25|                   0.11|                          1.51|                     0.12|                2.78|                   0.17|                   1.83|                           0.21|                      0.26|                   0.18|                     0.13|                      0.26|                      0.16|                            0.26|                0.35|                    0.6|                   0.13|                 7.39|                       0.16|                          0.88|                                 0.31|                    0.21|                    0.14|                      0.86|                1.36|                         0.6|                      0.79|             43.32|                      0.44|                      0.43|                      1.64|                0.14|                  0.22|                     2.22|                                     0.47|                      0.14|                             0.84|                               1.21|                               0.76|                      2.69|                  0.21|                0.81|                         0.15|                      0.1|                   0.14|                           0.2|                  0.14|                   1.07|                  1.39|                      0.09|                    0.06|                        0.11|                  0.11|                      1.31|                         0.15|                                                   0.18|                     0.55|                     0.22|                      0.36|                   1.81|                0.13|                          0.1|                                 0.3|                 0.38|             0.72|                        0.47|                       0.42|                      0.1|                         0.21|                 0.46|                     0.18|                                0.56|               0.12|                  0.28|                    0.35|                 0.48|                             0.21|                    0.16|              4.05|                  1.36|                   0.38|                                0.4|                   0.37|                              0.12|                            0.78|                           0.08|                     0.9|                   0.19|                             0.76|                 0.44|                   1.65|                        5.34|                   8.93|                  0.72|                    2.13|                     1.45|                           0.49|                        2.99|                 1.36|                      2.4|                     0.1|                      0.13|                0.18|                        0.13|                     0.4|                       0.92|                 0.09|                2.46|                    0.34|                           0.14|                           0.51|                  7.48|                      0.89|                             1.28|                 0.75|                     0.76|                   0.11|                        0.53|                     0.2|                         0.28|                           0.21|                          0.27|                        0.14|             0.36|                  0.98|                     1.12|                   0.98|                0.69|                        0.14|               1.01|                         3.49|                         0.28|                      1.1|                                           0.14|                    0.11|                              1.75|                                 4.06|                         0.08|                             1.07|                          0.67|                           2.78|                   0.67|                        0.84|                    0.18|                                  0.06|                                  0.2|                 1.36|                         0.05|                        0.7|                  4.23|              1.87|                         0.39|                  0.47|                     4.47|                 0.3|                   3.52|                    0.43|              0.21|\n",
      "|2020-01-01|AU_ACT|                           2.89|                        4.48|              8.18|                           null|                          null|                        null|                 null|                    3.92|                                 null|                16.25|                   null|                    null|                 null|                      null|                     null|                3.19|                         null|                    null|                           null|                 null|                 7.56|                 null|                 null|               null|                    null|                   4.97|                 null|                           1.69|                  null|                9.57|                     null|                null|                  null|                                                  2.53|                                null|                            1.36|                                       null|                   5.82|                             null|                          null|                     null|                     null|                       null|                      null|                  3.58|                             null|                       null|                  1.82|                        null|                        null|                  null|              0.86|                       2.81|                    null|                           null|                     0.74|                                    null|                               null|                     null|                    null|                1.34|                 null|                null|              3.31|                            null|                                null|                     2.46|                     0.74|                        null|                                null|                   null|                  null|                 null|                   null|                    1.21|                null|                null|                      1.22|                   null|                                    null|                                   null|                          null|                 null|              null|                     7.25|                             0.81|                             null|                   null|                                 null|                        1.05|                      2.93|                    null|               5.87|                  null|                3.2|                  null|               null|                  null|                  0.84|                                       null|                  2.69|                                 null|                           null|                    4.82|                    2.12|                      null|                                  null|                  6.35|                               null|                  4.46|                   2.55|                          null|                      null|                   null|                      1.29|                     null|                   null|                   null|                  null|                 null|                  null|                null|               null|                      null|                        null|                         null|                 10.04|                  null|                              1.67|                  null|                                    null|                     null|                                      null|                  null|                    null|                                null|                         null|                       null|                 5.42|                             0.71|                            null|               3.06|                      null|                                    null|                      null|                    1.67|                 0.72|                       null|                           null|                      null|                          null|                            null|                                         3.15|                       null|                                      0.78|                                          null|                      1.08|                            null|                    null|                          null|                null|              1.67|                     null|                   null|               null|                   4.13|                   null|                    3.2|                  4.41|                          1.67|                      null|                   2.13|                      null|                  null|                   null|                   null|                    null|                     1.74|                                null|                   0.78|                        null|                null|                  0.79|               0.83|                   null|                       null|                        null|                     null|                              null|                                null|                       0.72|                       null|                      null|                        null|                       null|                           1.39|                     null|                      4.51|                      null|                         0.72|                              null|                     null|                          null|                       null|                         null|                      null|                      null|                     null|                   null|                      null|                     1.48|                        1.46|                   null|                 null|                  null|                               1.12|                     null|                     1.29|                  20.02|                      5.04|                                    0.83|                      0.84|                  3.12|                            null|                                 null|                               null|                          2.7|                                null|              7.45|                  null|                         0.9|                      0.95|                   1.48|                  null|                             1.03|                    null|                    null|                0.93|                    null|                         null|                       2.27|                         null|                    null|                                    3.2|                       null|                          null|                        0.95|                 null|                null|                    null|                     null|                          null|                   3.8|                null|                              null|                       1.21|                    null|                          1.24|                         0.84|                     0.88|                        null|                         null|                 0.79|                   null|                               1.98|                   null|                          1.51|                     null|                2.39|                   null|                   1.86|                           null|                      null|                   null|                     null|                      null|                      null|                            null|                null|                   0.78|                   null|                 6.13|                       null|                          0.71|                                 null|                    null|                    null|                      null|                0.84|                        null|                      null|             35.46|                      null|                      null|                      1.24|                null|                  null|                     1.82|                                     null|                      null|                             null|                               1.22|                               null|                      2.07|                  null|                null|                         null|                     null|                   null|                          null|                  null|                   1.02|                  1.48|                      null|                    null|                        null|                  null|                      1.27|                         null|                                                   null|                     null|                     null|                      null|                    1.6|                null|                         null|                                null|                 null|             0.86|                        null|                       null|                     null|                         null|                 null|                     null|                                0.79|               null|                  null|                    null|                 null|                             null|                    null|              3.12|                  1.53|                   null|                               null|                   null|                              null|                            null|                           null|                    0.91|                   null|                             1.39|                 null|                   1.21|                         4.2|                   6.54|                  null|                    1.58|                     1.91|                           null|                        2.39|                 2.17|                     1.72|                    null|                      null|                null|                        null|                    null|                       null|                 null|                2.36|                    null|                           null|                           null|                  5.49|                      0.71|                             1.08|                 null|                     null|                   null|                        null|                    null|                         null|                           null|                          null|                        null|             null|                  null|                     0.91|                   1.07|                null|                        null|               0.98|                         2.84|                         null|                     1.19|                                           null|                    null|                              1.41|                                 3.05|                         null|                             0.96|                          null|                           1.82|                   null|                        null|                    null|                                  null|                                 null|                 1.29|                         null|                       null|                  4.08|              1.86|                         null|                  null|                     3.34|                null|                   3.62|                    null|              null|\n",
      "|2020-01-01|AU_NSW|                           4.56|                        3.85|             11.82|                            0.3|                          0.44|                        0.07|                 null|                    6.55|                                 0.06|                 8.12|                   0.19|                    0.21|                 0.34|                      0.44|                     1.19|                1.99|                         0.83|                    0.27|                           0.05|                 null|                 8.26|                 0.17|                 0.13|               0.32|                    0.41|                   3.42|                 0.13|                           2.51|                  0.14|                1.99|                     0.34|                0.13|                   0.1|                                                  3.04|                                0.12|                            1.47|                                       0.21|                   6.12|                             0.93|                          0.38|                     0.09|                     0.38|                       0.16|                      0.34|                  4.27|                             0.31|                       0.27|                  2.42|                        0.27|                        0.76|                  0.19|              1.14|                       2.71|                    0.17|                           0.42|                     0.78|                                    0.69|                               0.67|                     0.72|                    0.76|                2.85|                 0.42|                 0.4|              2.85|                            0.06|                                0.16|                     2.28|                     1.35|                        0.51|                                0.69|                   0.14|                  0.86|                 0.26|                   0.35|                    1.55|                0.25|                0.17|                      1.03|                   0.51|                                    0.18|                                   0.14|                          0.29|                 0.42|              0.32|                     6.27|                             0.63|                             0.16|                   0.27|                                 0.23|                        1.66|                      1.78|                    0.21|                5.7|                  0.05|               3.42|                  0.11|               0.29|                  0.08|                  0.78|                                       0.46|                  4.84|                                 0.26|                           0.09|                    5.84|                    2.71|                      0.46|                                  0.57|                  5.98|                               0.32|                  6.81|                   1.57|                          0.38|                      0.08|                   0.08|                      1.81|                     0.16|                   0.23|                   0.14|                   0.1|                 0.13|                  0.82|                0.42|               0.83|                      0.21|                        0.15|                         0.29|                  4.56|                  0.09|                              3.56|                  0.46|                                     0.2|                     0.09|                                      0.57|                  0.18|                    0.46|                                 0.3|                         0.15|                       0.51|                 5.13|                             0.46|                            0.19|               1.99|                      0.23|                                    0.13|                      0.36|                    3.35|                 0.44|                       0.16|                           0.37|                      0.88|                          1.09|                            0.36|                                         2.85|                       0.12|                                      1.24|                                          0.21|                      1.03|                            0.14|                     0.3|                          0.14|                0.15|              1.88|                      0.3|                   0.44|               1.09|                   5.84|                   0.55|                   1.81|                  2.85|                          1.99|                      0.11|                   3.14|                      0.51|                  0.36|                    0.3|                   0.05|                    0.14|                     2.28|                                0.06|                   0.83|                        0.14|                0.53|                  1.24|               0.88|                   1.14|                       0.12|                        0.08|                     null|                              0.88|                                0.17|                       0.74|                       0.72|                      0.87|                        0.11|                       0.25|                           0.88|                     0.15|                      5.98|                      0.32|                         0.83|                              0.11|                     0.34|                          0.12|                       0.09|                         0.14|                      0.48|                      0.72|                     0.46|                   0.12|                      0.34|                     0.72|                        1.57|                   0.16|                 0.29|                  0.48|                               1.35|                     0.34|                     1.35|                  12.64|                      5.27|                                    0.88|                      0.88|                  3.13|                            0.48|                                 0.29|                               0.44|                         1.57|                                0.61|              7.97|                  0.46|                        0.98|                      1.29|                   1.99|                   0.2|                             1.29|                    0.34|                    0.38|                1.14|                    0.17|                         0.48|                       2.56|                         0.06|                    0.26|                                   2.28|                       0.18|                          0.16|                        1.03|                 0.46|                0.21|                    0.72|                     0.69|                          0.34|                  2.71|                 0.3|                              0.06|                       1.14|                    0.31|                           1.4|                          0.8|                     1.09|                        0.15|                          0.2|                 0.36|                    0.2|                               1.67|                   0.08|                           1.5|                     0.07|                2.14|                   0.19|                   1.35|                            0.2|                      0.23|                   0.22|                     0.51|                      0.29|                      0.14|                            0.24|                 0.3|                   0.84|                    0.1|                 5.98|                       0.14|                          1.35|                                 0.46|                    0.29|                    0.12|                      1.35|                1.24|                        0.27|                      0.44|             19.45|                      0.48|                      0.42|                      1.67|                0.16|                  0.21|                     2.28|                                      0.3|                      0.11|                             0.86|                               0.83|                               0.78|                      1.67|                  0.16|                0.69|                          0.1|                     0.13|                   0.21|                          0.19|                   0.1|                   1.24|                  1.14|                      0.48|                    0.07|                        0.12|                  0.11|                      1.45|                         0.16|                                                   0.17|                     0.72|                     0.34|                       0.3|                   1.92|                 0.1|                         0.11|                                0.36|                  0.3|             0.59|                        0.36|                       0.67|                     0.76|                          0.2|                 0.29|                     0.12|                                0.34|               0.15|                  0.86|                    0.32|                 0.93|                             0.23|                    0.26|              3.13|                  1.47|                    0.4|                               0.32|                    0.3|                               0.1|                            0.65|                           null|                    0.78|                    0.2|                             1.03|                 0.49|                   1.86|                        4.56|                   7.83|                  1.14|                    1.99|                     1.67|                            0.3|                        2.85|                 1.55|                     2.38|                    0.08|                      0.54|                0.34|                        0.12|                    1.11|                       0.93|                 0.06|                2.71|                    0.34|                           0.14|                            0.3|                  8.26|                      0.76|                             1.81|                  0.7|                     0.93|                   0.29|                        0.32|                    0.23|                         0.36|                           0.27|                          0.34|                        0.16|             0.45|                  0.78|                     1.03|                   1.03|                1.14|                        0.16|               1.35|                          3.7|                         0.27|                     0.83|                                           0.29|                    0.06|                              2.09|                                 3.35|                         0.07|                             1.35|                          0.48|                           3.13|                   0.83|                        1.14|                    0.23|                                  0.08|                                 0.18|                 0.98|                          0.1|                       0.61|                  2.42|              2.33|                         0.34|                  0.27|                      3.7|                0.42|                   3.42|                    0.51|              0.25|\n",
      "|2020-01-01| AU_NT|                           2.86|                        4.91|              9.83|                           null|                          null|                        null|                 null|                    8.19|                                 null|                12.45|                   null|                    null|                 null|                      null|                     null|                3.73|                         null|                    null|                           null|                 null|                12.12|                 null|                 null|               null|                    null|                   7.51|                 null|                           null|                  null|                2.86|                     null|                null|                  null|                                                  5.57|                                null|                            1.86|                                       null|                   8.52|                             null|                          null|                     null|                     null|                       null|                      null|                   5.9|                             null|                       null|                  null|                        null|                        null|                  null|              null|                        5.9|                    null|                           null|                     null|                                    null|                               null|                     null|                    null|                1.99|                 null|                null|              2.36|                            null|                                null|                     6.22|                     null|                        null|                                null|                   null|                  null|                 null|                   null|                    null|                null|                null|                      null|                   null|                                    null|                                   null|                          null|                 null|              null|                    11.79|                             null|                             null|                   null|                                 null|                        null|                      3.35|                    null|               6.88|                  null|               2.98|                  null|               null|                  null|                  null|                                       null|                  2.98|                                 null|                           null|                     5.9|                    3.85|                      null|                                  null|                  8.19|                               null|                  6.88|                   null|                          null|                      null|                   null|                      null|                     null|                   null|                   null|                  null|                 null|                  null|                null|               null|                      null|                        null|                         null|                  4.35|                  null|                              3.11|                  null|                                    null|                     null|                                      null|                  null|                    null|                                null|                         null|                       null|                 8.52|                             null|                            null|               7.54|                      null|                                    null|                      null|                    2.48|                 null|                       null|                           null|                      null|                          null|                            null|                                         8.52|                       null|                                      null|                                          null|                      null|                            null|                    null|                          null|                null|              null|                     null|                   null|               null|                   8.19|                   null|                   2.24|                  4.47|                          2.11|                      null|                   3.11|                      null|                  null|                   null|                   null|                    null|                     2.86|                                null|                   2.85|                        null|                null|                  null|               null|                   null|                       null|                        null|                     null|                              null|                                null|                       null|                       null|                      2.85|                        null|                       null|                           null|                     null|                      5.96|                      null|                         null|                              null|                     null|                          null|                       null|                         null|                      null|                      null|                     null|                   null|                      null|                     null|                        null|                   null|                 null|                  null|                               1.99|                     null|                     null|                  29.58|                     10.01|                                    null|                      null|                  4.59|                            null|                                 null|                               null|                         2.98|                                null|               9.5|                  null|                        2.61|                      null|                   null|                  null|                             null|                    null|                    null|                null|                    null|                         null|                       3.48|                         null|                    null|                                   7.86|                       null|                          null|                        null|                 null|                null|                    null|                     null|                          null|                  4.22|                null|                              null|                       null|                    null|                          null|                         null|                     null|                        null|                         null|                 null|                   null|                               2.61|                   null|                          null|                     null|                3.23|                   null|                   2.11|                           null|                      null|                   null|                     null|                      null|                      null|                            null|                null|                   null|                   null|                 9.17|                       null|                          null|                                 null|                    null|                    null|                      null|                null|                        null|                      null|             51.27|                      null|                      null|                      1.86|                null|                  null|                     2.73|                                     null|                      null|                             null|                               1.86|                               null|                      2.48|                  null|                null|                         null|                     null|                   null|                          null|                  null|                   2.24|                  null|                      null|                    null|                        null|                  null|                      null|                         null|                                                   null|                     null|                     null|                      null|                   1.74|                null|                         null|                                null|                 null|             null|                        null|                       null|                     null|                         null|                 null|                     null|                                null|               null|                  null|                    null|                 null|                             null|                    null|              2.98|                  null|                   null|                               null|                   null|                              null|                            null|                           null|                    null|                   null|                             null|                 null|                   null|                        6.22|                   8.52|                  null|                    2.48|                     null|                           null|                        3.48|                 null|                     null|                    null|                      null|                null|                        null|                    null|                       null|                 null|                2.98|                    null|                           null|                           null|                  5.24|                      null|                             null|                 null|                     null|                   null|                        null|                    null|                         null|                           null|                          null|                        null|             null|                  null|                     null|                   null|                null|                        null|               null|                         4.97|                         null|                     null|                                           null|                    null|                              2.48|                                 5.47|                         null|                             null|                          null|                           2.11|                   null|                        null|                    null|                                  null|                                 null|                 null|                         null|                       null|                  5.47|              2.36|                         2.72|                  null|                     4.47|                null|                   2.11|                    null|              null|\n",
      "|2020-01-01|AU_QLD|                            4.2|                        5.49|              6.14|                           0.46|                           0.3|                        0.18|                 0.09|                    5.65|                                 0.08|                10.82|                   0.15|                     0.3|                 0.56|                      0.38|                     0.85|                2.35|                         0.63|                    0.46|                           0.13|                 null|                 9.37|                 0.16|                  0.1|               0.67|                    0.26|                   6.46|                 0.24|                           1.24|                  0.17|                1.76|                     0.18|                0.15|                  0.17|                                                  2.26|                                0.35|                            1.48|                                       0.24|                   6.78|                             1.05|                          0.27|                     0.19|                     0.28|                       0.24|                      0.28|                  3.71|                             0.27|                       0.29|                  2.58|                        0.46|                        0.37|                  0.22|              1.24|                       3.23|                     0.3|                           0.46|                     0.59|                                    0.54|                               0.68|                      0.8|                    0.41|                2.26|                 0.49|                0.52|              3.07|                            0.08|                                0.21|                     4.04|                     1.24|                        0.31|                                0.83|                   0.13|                  0.46|                 0.24|                   0.29|                    1.57|                0.36|                0.17|                      1.22|                   0.74|                                    0.28|                                   0.12|                          0.28|                 0.28|              0.33|                     5.33|                             0.65|                             0.14|                   0.31|                                 0.19|                        1.18|                      3.07|                    0.27|               3.55|                  null|               3.55|                  0.19|                0.3|                  null|                  0.67|                                       0.68|                  3.48|                                 0.57|                            0.1|                    5.81|                    2.26|                      0.41|                                  0.11|                  7.75|                               0.31|                  5.65|                   2.22|                           0.7|                      0.09|                   0.19|                      1.61|                     0.17|                   0.26|                    0.4|                  0.13|                  0.2|                  1.13|                0.32|               1.24|                      0.22|                        0.19|                         0.31|                  3.23|                  0.13|                              2.07|                  0.42|                                    0.13|                     0.16|                                      0.33|                  0.14|                    0.26|                                0.33|                         0.18|                       0.57|                 6.78|                              0.5|                             0.3|               3.71|                      0.39|                                    0.24|                      0.87|                    2.58|                 0.26|                       0.14|                           0.48|                      0.63|                          1.03|                            0.48|                                          4.2|                       0.16|                                      1.22|                                           0.2|                      1.17|                            0.14|                    0.59|                          0.09|                 0.2|              1.15|                      0.2|                   0.18|               0.59|                   5.01|                   0.46|                   1.35|                  5.33|                          1.59|                      0.18|                    3.2|                      0.16|                  0.61|                    0.5|                   null|                    0.18|                     1.79|                                null|                    0.8|                         0.2|                0.48|                  1.11|               0.98|                    1.0|                       0.12|                        0.49|                     0.07|                              0.87|                                 0.2|                        0.7|                       0.52|                      0.28|                        0.17|                       0.22|                           1.07|                     0.12|                      5.65|                       0.5|                         0.89|                               0.1|                     0.31|                          0.15|                       0.17|                          0.2|                      0.68|                      0.57|                     0.39|                    0.1|                      0.22|                     1.07|                        1.61|                    0.2|                 0.18|                  0.37|                               1.22|                     0.33|                     1.68|                  22.45|                      5.01|                                     1.2|                      0.87|                  3.71|                            0.54|                                 0.26|                               0.23|                         3.55|                                0.54|              9.53|                  0.59|                        1.37|                      1.37|                   2.91|                  0.35|                             1.26|                    0.52|                    0.52|                 1.0|                    0.28|                         0.65|                       3.39|                         0.08|                    0.22|                                   3.23|                        0.3|                          0.14|                        0.63|                 0.35|                0.28|                     0.8|                     0.74|                          0.37|                  2.26|                0.35|                              0.11|                       0.87|                    0.42|                          1.17|                         0.83|                     1.07|                         0.2|                         0.25|                 0.63|                   0.22|                               3.39|                   0.14|                          1.35|                     0.14|                3.55|                    0.2|                   1.53|                           0.26|                      0.26|                   0.22|                     0.11|                      0.33|                      0.24|                            0.29|                0.33|                    0.3|                   0.14|                10.17|                       0.15|                          0.89|                                 0.44|                     0.4|                     0.2|                      0.68|                1.55|                         0.7|                      0.85|             42.15|                      0.57|                      0.63|                      1.53|                0.28|                  0.32|                      2.5|                                     0.48|                      0.33|                             0.67|                               0.74|                               0.65|                      2.59|                  0.19|                0.89|                          0.4|                     0.18|                   0.14|                          0.22|                  0.46|                   1.07|                  1.42|                      0.09|                    0.09|                        0.26|                  0.26|                      1.79|                         0.31|                                                   0.32|                     0.85|                     0.31|                      0.45|                   1.42|                0.18|                          0.2|                                0.37|                 0.37|             0.76|                        0.56|                       0.42|                     0.26|                         0.31|                 0.44|                     0.31|                                 0.5|               0.09|                  0.37|                    0.42|                 0.26|                             0.37|                    0.21|              2.42|                  1.13|                   0.46|                                0.3|                   0.41|                              0.19|                            0.85|                           null|                    1.24|                   0.19|                             0.67|                  0.4|                    1.2|                        6.62|                   8.72|                  0.56|                    2.05|                     1.65|                           0.56|                        3.23|                 1.18|                     2.18|                    0.19|                      0.13|                0.28|                        0.37|                    0.44|                       0.92|                  0.1|                 1.9|                     0.3|                           0.17|                           0.61|                  7.43|                      0.98|                             1.39|                 0.85|                      0.7|                   0.13|                        0.46|                    0.19|                         0.26|                           0.19|                          0.35|                        0.09|              0.5|                  1.05|                     1.29|                   1.11|                0.63|                        0.12|               1.02|                         2.91|                         0.24|                     1.29|                                           0.23|                    0.08|                              2.91|                                 5.01|                         null|                             0.92|                          1.02|                           3.11|                   0.67|                         0.8|                    0.28|                                  0.19|                                 0.37|                 1.46|                         0.22|                       0.68|                  3.23|              1.94|                         0.31|                  0.48|                     5.49|                 0.2|                   2.58|                    0.52|              0.19|\n",
      "+----------+------+-------------------------------+----------------------------+------------------+-------------------------------+------------------------------+----------------------------+---------------------+------------------------+-------------------------------------+---------------------+-----------------------+------------------------+---------------------+--------------------------+-------------------------+--------------------+-----------------------------+------------------------+-------------------------------+---------------------+---------------------+---------------------+---------------------+-------------------+------------------------+-----------------------+---------------------+-------------------------------+----------------------+--------------------+-------------------------+--------------------+----------------------+------------------------------------------------------+------------------------------------+--------------------------------+-------------------------------------------+-----------------------+---------------------------------+------------------------------+-------------------------+-------------------------+---------------------------+--------------------------+----------------------+---------------------------------+---------------------------+----------------------+----------------------------+----------------------------+----------------------+------------------+---------------------------+------------------------+-------------------------------+-------------------------+----------------------------------------+-----------------------------------+-------------------------+------------------------+--------------------+---------------------+--------------------+------------------+--------------------------------+------------------------------------+-------------------------+-------------------------+----------------------------+------------------------------------+-----------------------+----------------------+---------------------+-----------------------+------------------------+--------------------+--------------------+--------------------------+-----------------------+----------------------------------------+---------------------------------------+------------------------------+---------------------+------------------+-------------------------+---------------------------------+---------------------------------+-----------------------+-------------------------------------+----------------------------+--------------------------+------------------------+-------------------+----------------------+-------------------+----------------------+-------------------+----------------------+----------------------+-------------------------------------------+----------------------+-------------------------------------+-------------------------------+------------------------+------------------------+--------------------------+--------------------------------------+----------------------+-----------------------------------+----------------------+-----------------------+------------------------------+--------------------------+-----------------------+--------------------------+-------------------------+-----------------------+-----------------------+----------------------+---------------------+----------------------+--------------------+-------------------+--------------------------+----------------------------+-----------------------------+----------------------+----------------------+----------------------------------+----------------------+----------------------------------------+-------------------------+------------------------------------------+----------------------+------------------------+------------------------------------+-----------------------------+---------------------------+---------------------+---------------------------------+--------------------------------+-------------------+--------------------------+----------------------------------------+--------------------------+------------------------+---------------------+---------------------------+-------------------------------+--------------------------+------------------------------+--------------------------------+---------------------------------------------+---------------------------+------------------------------------------+----------------------------------------------+--------------------------+--------------------------------+------------------------+------------------------------+--------------------+------------------+-------------------------+-----------------------+-------------------+-----------------------+-----------------------+-----------------------+----------------------+------------------------------+--------------------------+-----------------------+--------------------------+----------------------+-----------------------+-----------------------+------------------------+-------------------------+------------------------------------+-----------------------+----------------------------+--------------------+----------------------+-------------------+-----------------------+---------------------------+----------------------------+-------------------------+----------------------------------+------------------------------------+---------------------------+---------------------------+--------------------------+----------------------------+---------------------------+-------------------------------+-------------------------+--------------------------+--------------------------+-----------------------------+----------------------------------+-------------------------+------------------------------+---------------------------+-----------------------------+--------------------------+--------------------------+-------------------------+-----------------------+--------------------------+-------------------------+----------------------------+-----------------------+---------------------+----------------------+-----------------------------------+-------------------------+-------------------------+-----------------------+--------------------------+----------------------------------------+--------------------------+----------------------+--------------------------------+-------------------------------------+-----------------------------------+-----------------------------+------------------------------------+------------------+----------------------+----------------------------+--------------------------+-----------------------+----------------------+---------------------------------+------------------------+------------------------+--------------------+------------------------+-----------------------------+---------------------------+-----------------------------+------------------------+---------------------------------------+---------------------------+------------------------------+----------------------------+---------------------+--------------------+------------------------+-------------------------+------------------------------+----------------------+--------------------+----------------------------------+---------------------------+------------------------+------------------------------+-----------------------------+-------------------------+----------------------------+-----------------------------+---------------------+-----------------------+-----------------------------------+-----------------------+------------------------------+-------------------------+--------------------+-----------------------+-----------------------+-------------------------------+--------------------------+-----------------------+-------------------------+--------------------------+--------------------------+--------------------------------+--------------------+-----------------------+-----------------------+---------------------+---------------------------+------------------------------+-------------------------------------+------------------------+------------------------+--------------------------+--------------------+----------------------------+--------------------------+------------------+--------------------------+--------------------------+--------------------------+--------------------+----------------------+-------------------------+-----------------------------------------+--------------------------+---------------------------------+-----------------------------------+-----------------------------------+--------------------------+----------------------+--------------------+-----------------------------+-------------------------+-----------------------+------------------------------+----------------------+-----------------------+----------------------+--------------------------+------------------------+----------------------------+----------------------+--------------------------+-----------------------------+-------------------------------------------------------+-------------------------+-------------------------+--------------------------+-----------------------+--------------------+-----------------------------+------------------------------------+---------------------+-----------------+----------------------------+---------------------------+-------------------------+-----------------------------+---------------------+-------------------------+------------------------------------+-------------------+----------------------+------------------------+---------------------+---------------------------------+------------------------+------------------+----------------------+-----------------------+-----------------------------------+-----------------------+----------------------------------+--------------------------------+-------------------------------+------------------------+-----------------------+---------------------------------+---------------------+-----------------------+----------------------------+-----------------------+----------------------+------------------------+-------------------------+-------------------------------+----------------------------+---------------------+-------------------------+------------------------+--------------------------+--------------------+----------------------------+------------------------+---------------------------+---------------------+--------------------+------------------------+-------------------------------+-------------------------------+----------------------+--------------------------+---------------------------------+---------------------+-------------------------+-----------------------+----------------------------+------------------------+-----------------------------+-------------------------------+------------------------------+----------------------------+-----------------+----------------------+-------------------------+-----------------------+--------------------+----------------------------+-------------------+-----------------------------+-----------------------------+-------------------------+-----------------------------------------------+------------------------+----------------------------------+-------------------------------------+-----------------------------+---------------------------------+------------------------------+-------------------------------+-----------------------+----------------------------+------------------------+--------------------------------------+-------------------------------------+---------------------+-----------------------------+---------------------------+----------------------+------------------+-----------------------------+----------------------+-------------------------+--------------------+-----------------------+------------------------+------------------+\n",
      "only showing top 5 rows"
     ]
    }
   ],
   "source": [
    "# show some records\n",
    "df_st.show(5)"
   ]
  },
  {
   "cell_type": "code",
   "execution_count": 52,
   "metadata": {
    "scrolled": false
   },
   "outputs": [
    {
     "data": {
      "application/vnd.jupyter.widget-view+json": {
       "model_id": "045f2d2c76f04f12a22cf4b2c3a67fc7",
       "version_major": 2,
       "version_minor": 0
      },
      "text/plain": [
       "VBox()"
      ]
     },
     "metadata": {},
     "output_type": "display_data"
    },
    {
     "data": {
      "application/vnd.jupyter.widget-view+json": {
       "model_id": "",
       "version_major": 2,
       "version_minor": 0
      },
      "text/plain": [
       "FloatProgress(value=0.0, bar_style='info', description='Progress:', layout=Layout(height='25px', width='50%'),…"
      ]
     },
     "metadata": {},
     "output_type": "display_data"
    },
    {
     "name": "stdout",
     "output_type": "stream",
     "text": [
      "+-----------+---+\n",
      "|        key|  c|\n",
      "+-----------+---+\n",
      "|US_MA_25017|348|\n",
      "|US_TX_48241|348|\n",
      "|US_IA_19121|348|\n",
      "|US_FL_12005|348|\n",
      "|US_GA_13229|348|\n",
      "|US_CA_06071|348|\n",
      "|US_LA_22041|348|\n",
      "|US_FL_12133|348|\n",
      "|US_PA_42075|348|\n",
      "|US_TN_47115|348|\n",
      "|US_VA_51820|348|\n",
      "|US_GA_13237|348|\n",
      "|US_FL_12013|348|\n",
      "|US_MT_30067|348|\n",
      "|US_VA_51610|348|\n",
      "|US_PA_42019|348|\n",
      "|US_KY_21211|348|\n",
      "|US_AR_05001|348|\n",
      "|US_KY_21205|348|\n",
      "|US_OR_41001|348|\n",
      "+-----------+---+\n",
      "only showing top 20 rows"
     ]
    }
   ],
   "source": [
    "#create temp view to enable the use of sql\n",
    "df_st.createOrReplaceTempView(\"st_data\")\n",
    "\n",
    "#check most present keys\n",
    "spark.sql(\"\"\"select key, count(*) as c from st_data group by key order by c desc\"\"\").show()"
   ]
  },
  {
   "cell_type": "code",
   "execution_count": 53,
   "metadata": {},
   "outputs": [
    {
     "data": {
      "application/vnd.jupyter.widget-view+json": {
       "model_id": "9a8f6a64c1984efc8e35f46d4fffab50",
       "version_major": 2,
       "version_minor": 0
      },
      "text/plain": [
       "VBox()"
      ]
     },
     "metadata": {},
     "output_type": "display_data"
    },
    {
     "data": {
      "application/vnd.jupyter.widget-view+json": {
       "model_id": "",
       "version_major": 2,
       "version_minor": 0
      },
      "text/plain": [
       "FloatProgress(value=0.0, bar_style='info', description='Progress:', layout=Layout(height='25px', width='50%'),…"
      ]
     },
     "metadata": {},
     "output_type": "display_data"
    },
    {
     "name": "stdout",
     "output_type": "stream",
     "text": [
      "+--------------------+----------+----------+\n",
      "|count(DISTINCT date)| min(date)| max(date)|\n",
      "+--------------------+----------+----------+\n",
      "|                 348|2020-01-01|2020-12-13|\n",
      "+--------------------+----------+----------+"
     ]
    }
   ],
   "source": [
    "#select number of present dates and their minimum and maximum\n",
    "spark.sql(\"\"\"select count(distinct date), min(date), max(date) from st_data\"\"\").show()"
   ]
  },
  {
   "cell_type": "code",
   "execution_count": 54,
   "metadata": {},
   "outputs": [
    {
     "data": {
      "application/vnd.jupyter.widget-view+json": {
       "model_id": "936bf4a44bbe499797bbeff3c31628d6",
       "version_major": 2,
       "version_minor": 0
      },
      "text/plain": [
       "VBox()"
      ]
     },
     "metadata": {},
     "output_type": "display_data"
    },
    {
     "data": {
      "application/vnd.jupyter.widget-view+json": {
       "model_id": "",
       "version_major": 2,
       "version_minor": 0
      },
      "text/plain": [
       "FloatProgress(value=0.0, bar_style='info', description='Progress:', layout=Layout(height='25px', width='50%'),…"
      ]
     },
     "metadata": {},
     "output_type": "display_data"
    },
    {
     "name": "stdout",
     "output_type": "stream",
     "text": [
      "+---------------+\n",
      "|cnt_key_is_null|\n",
      "+---------------+\n",
      "|              0|\n",
      "+---------------+\n",
      "\n",
      "+----------------+\n",
      "|cnt_date_is_null|\n",
      "+----------------+\n",
      "|               0|\n",
      "+----------------+"
     ]
    }
   ],
   "source": [
    "# check for null values in key columns\n",
    "spark.sql(\"\"\"select count(*) as cnt_key_is_null from mob_data where key is null\"\"\").show()\n",
    "spark.sql(\"\"\"select count(*) as cnt_date_is_null from mob_data where date is null\"\"\").show()"
   ]
  },
  {
   "cell_type": "markdown",
   "metadata": {},
   "source": [
    "### FINDINGS\n",
    "* convert date to date\n",
    "* convert metrics to double\n",
    "* date is not continous => check\n",
    "* null values in metrics\n",
    "* transpose metrics"
   ]
  },
  {
   "cell_type": "code",
   "execution_count": null,
   "metadata": {},
   "outputs": [],
   "source": []
  }
 ],
 "metadata": {
  "kernelspec": {
   "display_name": "PySpark",
   "language": "",
   "name": "pysparkkernel"
  },
  "language_info": {
   "codemirror_mode": {
    "name": "python",
    "version": 2
   },
   "mimetype": "text/x-python",
   "name": "pyspark",
   "pygments_lexer": "python2"
  }
 },
 "nbformat": 4,
 "nbformat_minor": 4
}