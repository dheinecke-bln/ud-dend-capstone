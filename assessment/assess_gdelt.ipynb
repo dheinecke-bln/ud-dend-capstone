{
 "cells": [
  {
   "source": [
    "# Assessment of gdelt dataset\n",
    "\n",
    "This notebook assesses the gdelt dataset. Only a dataset for one specific day (2020-12-15) is assessed.\n"
   ],
   "cell_type": "markdown",
   "metadata": {}
  },
  {
   "cell_type": "markdown",
   "metadata": {},
   "source": [
    "## imports"
   ]
  },
  {
   "cell_type": "code",
   "execution_count": 9,
   "metadata": {},
   "outputs": [
    {
     "data": {
      "application/vnd.jupyter.widget-view+json": {
       "model_id": "819dd7cdffc54b13bb093baae5f3b203",
       "version_major": 2,
       "version_minor": 0
      },
      "text/plain": [
       "VBox()"
      ]
     },
     "metadata": {},
     "output_type": "display_data"
    },
    {
     "data": {
      "application/vnd.jupyter.widget-view+json": {
       "model_id": "",
       "version_major": 2,
       "version_minor": 0
      },
      "text/plain": [
       "FloatProgress(value=0.0, bar_style='info', description='Progress:', layout=Layout(height='25px', width='50%'),…"
      ]
     },
     "metadata": {},
     "output_type": "display_data"
    }
   ],
   "source": [
    "from pyspark.sql import functions as F\n",
    "from pyspark.sql.types import StructType, StructField, StringType"
   ]
  },
  {
   "cell_type": "markdown",
   "metadata": {},
   "source": [
    "## define bucket"
   ]
  },
  {
   "cell_type": "code",
   "execution_count": 3,
   "metadata": {},
   "outputs": [
    {
     "data": {
      "application/vnd.jupyter.widget-view+json": {
       "model_id": "02a9950371784d43b228d4b828ce15db",
       "version_major": 2,
       "version_minor": 0
      },
      "text/plain": [
       "VBox()"
      ]
     },
     "metadata": {},
     "output_type": "display_data"
    },
    {
     "data": {
      "application/vnd.jupyter.widget-view+json": {
       "model_id": "",
       "version_major": 2,
       "version_minor": 0
      },
      "text/plain": [
       "FloatProgress(value=0.0, bar_style='info', description='Progress:', layout=Layout(height='25px', width='50%'),…"
      ]
     },
     "metadata": {},
     "output_type": "display_data"
    }
   ],
   "source": [
    "input_bucket = 's3://{YOUR_BUCKET}/'"
   ]
  },
  {
   "cell_type": "markdown",
   "metadata": {},
   "source": [
    "# Gdelt data"
   ]
  },
  {
   "cell_type": "code",
   "execution_count": 10,
   "metadata": {},
   "outputs": [
    {
     "data": {
      "application/vnd.jupyter.widget-view+json": {
       "model_id": "20f65dd7b95d4190bbbce5c0120b2e86",
       "version_major": 2,
       "version_minor": 0
      },
      "text/plain": [
       "VBox()"
      ]
     },
     "metadata": {},
     "output_type": "display_data"
    },
    {
     "data": {
      "application/vnd.jupyter.widget-view+json": {
       "model_id": "",
       "version_major": 2,
       "version_minor": 0
      },
      "text/plain": [
       "FloatProgress(value=0.0, bar_style='info', description='Progress:', layout=Layout(height='25px', width='50%'),…"
      ]
     },
     "metadata": {},
     "output_type": "display_data"
    }
   ],
   "source": [
    "#create schema according to the gdelt documentation\n",
    "schema = StructType() \\\n",
    "            .add(\"GLOBALEVENTID\",StringType(),True) \\\n",
    "            .add(\"SQLDATE\",StringType(),True) \\\n",
    "            .add(\"MonthYear\",StringType(),True) \\\n",
    "            .add(\"Year\",StringType(),True) \\\n",
    "            .add(\"FractionDate\",StringType(),True) \\\n",
    "            .add(\"Actor1Code\",StringType(),True) \\\n",
    "            .add(\"Actor1Name\",StringType(),True) \\\n",
    "            .add(\"Actor1CountryCode\",StringType(),True) \\\n",
    "            .add(\"Actor1KnownGroupCode\",StringType(),True) \\\n",
    "            .add(\"Actor1EthnicCode\",StringType(),True) \\\n",
    "            .add(\"Actor1Religion1Code\",StringType(),True) \\\n",
    "            .add(\"Actor1Religion2Code\",StringType(),True) \\\n",
    "            .add(\"Actor1Type1Code\",StringType(),True) \\\n",
    "            .add(\"Actor1Type2Code\",StringType(),True) \\\n",
    "            .add(\"Actor1Type3Code\",StringType(),True) \\\n",
    "            .add(\"Actor2Code\",StringType(),True) \\\n",
    "            .add(\"Actor2Name\",StringType(),True) \\\n",
    "            .add(\"Actor2CountryCode\",StringType(),True) \\\n",
    "            .add(\"Actor2KnownGroupCode\",StringType(),True) \\\n",
    "            .add(\"Actor2EthnicCode\",StringType(),True) \\\n",
    "            .add(\"Actor2Religion1Code\",StringType(),True) \\\n",
    "            .add(\"Actor2Religion2Code\",StringType(),True) \\\n",
    "            .add(\"Actor2Type1Code\",StringType(),True) \\\n",
    "            .add(\"Actor2Type2Code\",StringType(),True) \\\n",
    "            .add(\"Actor2Type3Code\",StringType(),True) \\\n",
    "            .add(\"IsRootEvent\",StringType(),True) \\\n",
    "            .add(\"EventCode\",StringType(),True) \\\n",
    "            .add(\"EventBaseCode\",StringType(),True) \\\n",
    "            .add(\"EventRootCode\",StringType(),True) \\\n",
    "            .add(\"QuadClass\",StringType(),True) \\\n",
    "            .add(\"GoldsteinScale\",StringType(),True) \\\n",
    "            .add(\"NumMentions\",StringType(),True) \\\n",
    "            .add(\"NumSources\",StringType(),True) \\\n",
    "            .add(\"NumArticles\",StringType(),True) \\\n",
    "            .add(\"AvgTone\",StringType(),True) \\\n",
    "            .add(\"Actor1Geo_Type\",StringType(),True) \\\n",
    "            .add(\"Actor1Geo_FullName\",StringType(),True) \\\n",
    "            .add(\"Actor1Geo_CountryCode\",StringType(),True) \\\n",
    "            .add(\"Actor1Geo_ADM1Code\",StringType(),True) \\\n",
    "            .add(\"Actor1Geo_Lat\",StringType(),True) \\\n",
    "            .add(\"Actor1Geo_Long\",StringType(),True) \\\n",
    "            .add(\"Actor1Geo_FeatureID\",StringType(),True) \\\n",
    "            .add(\"Actor2Geo_Type\",StringType(),True) \\\n",
    "            .add(\"Actor2Geo_FullName\",StringType(),True) \\\n",
    "            .add(\"Actor2Geo_CountryCode\",StringType(),True) \\\n",
    "            .add(\"Actor2Geo_ADM1Code\",StringType(),True) \\\n",
    "            .add(\"Actor2Geo_Lat\",StringType(),True) \\\n",
    "            .add(\"Actor2Geo_Long\",StringType(),True) \\\n",
    "            .add(\"Actor2Geo_FeatureID\",StringType(),True) \\\n",
    "            .add(\"ActionGeo_Type\",StringType(),True) \\\n",
    "            .add(\"ActionGeo_FullName\",StringType(),True) \\\n",
    "            .add(\"ActionGeo_CountryCode\",StringType(),True) \\\n",
    "            .add(\"ActionGeo_ADM1Code\",StringType(),True) \\\n",
    "            .add(\"ActionGeo_Lat\",StringType(),True) \\\n",
    "            .add(\"ActionGeo_Long\",StringType(),True) \\\n",
    "            .add(\"ActionGeo_FeatureID\",StringType(),True) \\\n",
    "            .add(\"DATEADDED\",StringType(),True) \\\n",
    "            .add(\"SOURCEURL\",StringType(),True)"
   ]
  },
  {
   "cell_type": "code",
   "execution_count": 57,
   "metadata": {
    "scrolled": true
   },
   "outputs": [
    {
     "data": {
      "application/vnd.jupyter.widget-view+json": {
       "model_id": "fbeb529198094da29158a783e62609e2",
       "version_major": 2,
       "version_minor": 0
      },
      "text/plain": [
       "VBox()"
      ]
     },
     "metadata": {},
     "output_type": "display_data"
    },
    {
     "data": {
      "application/vnd.jupyter.widget-view+json": {
       "model_id": "",
       "version_major": 2,
       "version_minor": 0
      },
      "text/plain": [
       "FloatProgress(value=0.0, bar_style='info', description='Progress:', layout=Layout(height='25px', width='50%'),…"
      ]
     },
     "metadata": {},
     "output_type": "display_data"
    }
   ],
   "source": [
    "#read in example day of gdelt data\n",
    "gdelt_file = '/gdelt/20201215.export.CSV'\n",
    "df_gdelt = spark.read.option(\"delimiter\", \"\\t\").csv(input_bucket + gdelt_file,header=False,schema=schema)"
   ]
  },
  {
   "cell_type": "code",
   "execution_count": 58,
   "metadata": {},
   "outputs": [
    {
     "data": {
      "application/vnd.jupyter.widget-view+json": {
       "model_id": "8b1f0344167c4893b2f8821edfe16c1c",
       "version_major": 2,
       "version_minor": 0
      },
      "text/plain": [
       "VBox()"
      ]
     },
     "metadata": {},
     "output_type": "display_data"
    },
    {
     "data": {
      "application/vnd.jupyter.widget-view+json": {
       "model_id": "",
       "version_major": 2,
       "version_minor": 0
      },
      "text/plain": [
       "FloatProgress(value=0.0, bar_style='info', description='Progress:', layout=Layout(height='25px', width='50%'),…"
      ]
     },
     "metadata": {},
     "output_type": "display_data"
    },
    {
     "name": "stdout",
     "output_type": "stream",
     "text": [
      "+-------------+--------+---------+----+------------+----------+--------------+-----------------+--------------------+----------------+-------------------+-------------------+---------------+---------------+---------------+----------+--------------+-----------------+--------------------+----------------+-------------------+-------------------+---------------+---------------+---------------+-----------+---------+-------------+-------------+---------+--------------+-----------+----------+-----------+-----------------+--------------+--------------------+---------------------+------------------+-------------+--------------+-------------------+--------------+--------------------+---------------------+------------------+-------------+--------------+-------------------+--------------+--------------------+---------------------+------------------+-------------+--------------+-------------------+---------+--------------------+\n",
      "|GLOBALEVENTID| SQLDATE|MonthYear|Year|FractionDate|Actor1Code|    Actor1Name|Actor1CountryCode|Actor1KnownGroupCode|Actor1EthnicCode|Actor1Religion1Code|Actor1Religion2Code|Actor1Type1Code|Actor1Type2Code|Actor1Type3Code|Actor2Code|    Actor2Name|Actor2CountryCode|Actor2KnownGroupCode|Actor2EthnicCode|Actor2Religion1Code|Actor2Religion2Code|Actor2Type1Code|Actor2Type2Code|Actor2Type3Code|IsRootEvent|EventCode|EventBaseCode|EventRootCode|QuadClass|GoldsteinScale|NumMentions|NumSources|NumArticles|          AvgTone|Actor1Geo_Type|  Actor1Geo_FullName|Actor1Geo_CountryCode|Actor1Geo_ADM1Code|Actor1Geo_Lat|Actor1Geo_Long|Actor1Geo_FeatureID|Actor2Geo_Type|  Actor2Geo_FullName|Actor2Geo_CountryCode|Actor2Geo_ADM1Code|Actor2Geo_Lat|Actor2Geo_Long|Actor2Geo_FeatureID|ActionGeo_Type|  ActionGeo_FullName|ActionGeo_CountryCode|ActionGeo_ADM1Code|ActionGeo_Lat|ActionGeo_Long|ActionGeo_FeatureID|DATEADDED|           SOURCEURL|\n",
      "+-------------+--------+---------+----+------------+----------+--------------+-----------------+--------------------+----------------+-------------------+-------------------+---------------+---------------+---------------+----------+--------------+-----------------+--------------------+----------------+-------------------+-------------------+---------------+---------------+---------------+-----------+---------+-------------+-------------+---------+--------------+-----------+----------+-----------+-----------------+--------------+--------------------+---------------------+------------------+-------------+--------------+-------------------+--------------+--------------------+---------------------+------------------+-------------+--------------+-------------------+--------------+--------------------+---------------------+------------------+-------------+--------------+-------------------+---------+--------------------+\n",
      "|    959618180|20191216|   201912|2019|   2019.9479|       AUS|      VICTORIA|              AUS|                null|            null|               null|               null|           null|           null|           null|       GOV|CHIEF OF STAFF|             null|                null|            null|               null|               null|            GOV|           null|           null|          0|      043|          043|           04|        1|           2.8|         30|         3|         30|-3.89972816631123|             4|Melbourne, Victor...|                   AS|              AS07|     -37.8167|       144.967|           -1586844|             4|Melbourne, Victor...|                   AS|              AS07|     -37.8167|       144.967|           -1586844|             4|Melbourne, Victor...|                   AS|              AS07|     -37.8167|       144.967|           -1586844| 20201215|https://www.gympi...|\n",
      "|    959618181|20191216|   201912|2019|   2019.9479|       COL|      COLOMBIA|              COL|                null|            null|               null|               null|           null|           null|           null|       BUS|       COMPANY|             null|                null|            null|               null|               null|            BUS|           null|           null|          1|      010|          010|           01|        1|           0.0|          6|         1|          6| 0.68259385665529|             4|Ecopetrol, Tolima...|                   CO|              CO28|      5.20187|      -74.9301|           10837637|             4|Ecopetrol, Tolima...|                   CO|              CO28|      5.20187|      -74.9301|           10837637|             4|Ecopetrol, Tolima...|                   CO|              CO28|      5.20187|      -74.9301|           10837637| 20201215|https://www.harte...|\n",
      "|    959618182|20191216|   201912|2019|   2019.9479|       COL|      COLOMBIA|              COL|                null|            null|               null|               null|           null|           null|           null|    COLBUS|      COLOMBIA|              COL|                null|            null|               null|               null|            BUS|           null|           null|          1|      010|          010|           01|        1|           0.0|          4|         1|          4| 0.68259385665529|             4|Ecopetrol, Tolima...|                   CO|              CO28|      5.20187|      -74.9301|           10837637|             4|Ecopetrol, Tolima...|                   CO|              CO28|      5.20187|      -74.9301|           10837637|             4|Ecopetrol, Tolima...|                   CO|              CO28|      5.20187|      -74.9301|           10837637| 20201215|https://www.harte...|\n",
      "|    959618183|20191216|   201912|2019|   2019.9479|       GOV|PRIME MINISTER|             null|                null|            null|               null|               null|            GOV|           null|           null|      null|          null|             null|                null|            null|               null|               null|           null|           null|           null|          0|      032|          032|           03|        1|           4.5|          6|         1|          6|-2.18767990788716|             4| Tokyo, Tokyo, Japan|                   JA|              JA40|       35.685|       139.751|            -246227|             0|                null|                 null|              null|         null|          null|               null|             4|Ottawa, Ontario, ...|                   CA|              CA08|      45.4167|         -75.7|            -570760| 20201215|https://ipolitics...|\n",
      "|    959618184|20191216|   201912|2019|   2019.9479|       GOV|PRIME MINISTER|             null|                null|            null|               null|               null|            GOV|           null|           null|      null|          null|             null|                null|            null|               null|               null|           null|           null|           null|          0|      032|          032|           03|        1|           4.5|          4|         1|          4|-2.18767990788716|             4|Ottawa, Ontario, ...|                   CA|              CA08|      45.4167|         -75.7|            -570760|             0|                null|                 null|              null|         null|          null|               null|             4|Ottawa, Ontario, ...|                   CA|              CA08|      45.4167|         -75.7|            -570760| 20201215|https://ipolitics...|\n",
      "+-------------+--------+---------+----+------------+----------+--------------+-----------------+--------------------+----------------+-------------------+-------------------+---------------+---------------+---------------+----------+--------------+-----------------+--------------------+----------------+-------------------+-------------------+---------------+---------------+---------------+-----------+---------+-------------+-------------+---------+--------------+-----------+----------+-----------+-----------------+--------------+--------------------+---------------------+------------------+-------------+--------------+-------------------+--------------+--------------------+---------------------+------------------+-------------+--------------+-------------------+--------------+--------------------+---------------------+------------------+-------------+--------------+-------------------+---------+--------------------+\n",
      "only showing top 5 rows"
     ]
    }
   ],
   "source": [
    "# show a few records\n",
    "df_gdelt.show(5)"
   ]
  },
  {
   "cell_type": "code",
   "execution_count": 59,
   "metadata": {},
   "outputs": [
    {
     "data": {
      "application/vnd.jupyter.widget-view+json": {
       "model_id": "8493b26fad6746328ea92325dc3dbe70",
       "version_major": 2,
       "version_minor": 0
      },
      "text/plain": [
       "VBox()"
      ]
     },
     "metadata": {},
     "output_type": "display_data"
    },
    {
     "data": {
      "application/vnd.jupyter.widget-view+json": {
       "model_id": "",
       "version_major": 2,
       "version_minor": 0
      },
      "text/plain": [
       "FloatProgress(value=0.0, bar_style='info', description='Progress:', layout=Layout(height='25px', width='50%'),…"
      ]
     },
     "metadata": {},
     "output_type": "display_data"
    },
    {
     "name": "stdout",
     "output_type": "stream",
     "text": [
      "135118"
     ]
    }
   ],
   "source": [
    "# count the records\n",
    "df_gdelt.count()"
   ]
  },
  {
   "cell_type": "code",
   "execution_count": 24,
   "metadata": {},
   "outputs": [
    {
     "data": {
      "application/vnd.jupyter.widget-view+json": {
       "model_id": "12c2685be35143d69c598a03d897f51f",
       "version_major": 2,
       "version_minor": 0
      },
      "text/plain": [
       "VBox()"
      ]
     },
     "metadata": {},
     "output_type": "display_data"
    },
    {
     "data": {
      "application/vnd.jupyter.widget-view+json": {
       "model_id": "",
       "version_major": 2,
       "version_minor": 0
      },
      "text/plain": [
       "FloatProgress(value=0.0, bar_style='info', description='Progress:', layout=Layout(height='25px', width='50%'),…"
      ]
     },
     "metadata": {},
     "output_type": "display_data"
    },
    {
     "name": "stdout",
     "output_type": "stream",
     "text": [
      "root\n",
      " |-- GLOBALEVENTID: string (nullable = true)\n",
      " |-- SQLDATE: string (nullable = true)\n",
      " |-- MonthYear: string (nullable = true)\n",
      " |-- Year: string (nullable = true)\n",
      " |-- FractionDate: string (nullable = true)\n",
      " |-- Actor1Code: string (nullable = true)\n",
      " |-- Actor1Name: string (nullable = true)\n",
      " |-- Actor1CountryCode: string (nullable = true)\n",
      " |-- Actor1KnownGroupCode: string (nullable = true)\n",
      " |-- Actor1EthnicCode: string (nullable = true)\n",
      " |-- Actor1Religion1Code: string (nullable = true)\n",
      " |-- Actor1Religion2Code: string (nullable = true)\n",
      " |-- Actor1Type1Code: string (nullable = true)\n",
      " |-- Actor1Type2Code: string (nullable = true)\n",
      " |-- Actor1Type3Code: string (nullable = true)\n",
      " |-- Actor2Code: string (nullable = true)\n",
      " |-- Actor2Name: string (nullable = true)\n",
      " |-- Actor2CountryCode: string (nullable = true)\n",
      " |-- Actor2KnownGroupCode: string (nullable = true)\n",
      " |-- Actor2EthnicCode: string (nullable = true)\n",
      " |-- Actor2Religion1Code: string (nullable = true)\n",
      " |-- Actor2Religion2Code: string (nullable = true)\n",
      " |-- Actor2Type1Code: string (nullable = true)\n",
      " |-- Actor2Type2Code: string (nullable = true)\n",
      " |-- Actor2Type3Code: string (nullable = true)\n",
      " |-- IsRootEvent: string (nullable = true)\n",
      " |-- EventCode: string (nullable = true)\n",
      " |-- EventBaseCode: string (nullable = true)\n",
      " |-- EventRootCode: string (nullable = true)\n",
      " |-- QuadClass: string (nullable = true)\n",
      " |-- GoldsteinScale: string (nullable = true)\n",
      " |-- NumMentions: string (nullable = true)\n",
      " |-- NumSources: string (nullable = true)\n",
      " |-- NumArticles: string (nullable = true)\n",
      " |-- AvgTone: string (nullable = true)\n",
      " |-- Actor1Geo_Type: string (nullable = true)\n",
      " |-- Actor1Geo_FullName: string (nullable = true)\n",
      " |-- Actor1Geo_CountryCode: string (nullable = true)\n",
      " |-- Actor1Geo_ADM1Code: string (nullable = true)\n",
      " |-- Actor1Geo_Lat: string (nullable = true)\n",
      " |-- Actor1Geo_Long: string (nullable = true)\n",
      " |-- Actor1Geo_FeatureID: string (nullable = true)\n",
      " |-- Actor2Geo_Type: string (nullable = true)\n",
      " |-- Actor2Geo_FullName: string (nullable = true)\n",
      " |-- Actor2Geo_CountryCode: string (nullable = true)\n",
      " |-- Actor2Geo_ADM1Code: string (nullable = true)\n",
      " |-- Actor2Geo_Lat: string (nullable = true)\n",
      " |-- Actor2Geo_Long: string (nullable = true)\n",
      " |-- Actor2Geo_FeatureID: string (nullable = true)\n",
      " |-- ActionGeo_Type: string (nullable = true)\n",
      " |-- ActionGeo_FullName: string (nullable = true)\n",
      " |-- ActionGeo_CountryCode: string (nullable = true)\n",
      " |-- ActionGeo_ADM1Code: string (nullable = true)\n",
      " |-- ActionGeo_Lat: string (nullable = true)\n",
      " |-- ActionGeo_Long: string (nullable = true)\n",
      " |-- ActionGeo_FeatureID: string (nullable = true)\n",
      " |-- DATEADDED: string (nullable = true)\n",
      " |-- SOURCEURL: string (nullable = true)"
     ]
    }
   ],
   "source": [
    "# print schema\n",
    "df_gdelt.printSchema()"
   ]
  },
  {
   "cell_type": "code",
   "execution_count": 26,
   "metadata": {
    "scrolled": false
   },
   "outputs": [
    {
     "data": {
      "application/vnd.jupyter.widget-view+json": {
       "model_id": "070701539419438292d8cc8cb112cd93",
       "version_major": 2,
       "version_minor": 0
      },
      "text/plain": [
       "VBox()"
      ]
     },
     "metadata": {},
     "output_type": "display_data"
    },
    {
     "data": {
      "application/vnd.jupyter.widget-view+json": {
       "model_id": "",
       "version_major": 2,
       "version_minor": 0
      },
      "text/plain": [
       "FloatProgress(value=0.0, bar_style='info', description='Progress:', layout=Layout(height='25px', width='50%'),…"
      ]
     },
     "metadata": {},
     "output_type": "display_data"
    },
    {
     "name": "stdout",
     "output_type": "stream",
     "text": [
      "+-------------+--------+---------+----+------------+\n",
      "|GLOBALEVENTID| SQLDATE|MonthYear|Year|FractionDate|\n",
      "+-------------+--------+---------+----+------------+\n",
      "|    959618180|20191216|   201912|2019|   2019.9479|\n",
      "|    959618181|20191216|   201912|2019|   2019.9479|\n",
      "|    959618182|20191216|   201912|2019|   2019.9479|\n",
      "|    959618183|20191216|   201912|2019|   2019.9479|\n",
      "|    959618184|20191216|   201912|2019|   2019.9479|\n",
      "|    959618185|20191216|   201912|2019|   2019.9479|\n",
      "|    959618186|20191216|   201912|2019|   2019.9479|\n",
      "|    959618187|20191216|   201912|2019|   2019.9479|\n",
      "|    959618188|20191216|   201912|2019|   2019.9479|\n",
      "|    959618189|20201115|   202011|2020|   2020.8630|\n",
      "|    959618190|20201115|   202011|2020|   2020.8630|\n",
      "|    959618191|20201115|   202011|2020|   2020.8630|\n",
      "|    959618192|20201115|   202011|2020|   2020.8630|\n",
      "|    959618193|20201115|   202011|2020|   2020.8630|\n",
      "|    959618194|20201115|   202011|2020|   2020.8630|\n",
      "|    959618195|20201115|   202011|2020|   2020.8630|\n",
      "|    959618196|20201115|   202011|2020|   2020.8630|\n",
      "|    959618197|20201115|   202011|2020|   2020.8630|\n",
      "|    959618198|20201115|   202011|2020|   2020.8630|\n",
      "|    959618199|20201115|   202011|2020|   2020.8630|\n",
      "+-------------+--------+---------+----+------------+\n",
      "only showing top 20 rows"
     ]
    }
   ],
   "source": [
    "#create temp view to enable the use of sql\n",
    "df_gdelt.createOrReplaceTempView(\"gdelt_data\")\n",
    "\n",
    "#select time related columns and show them\n",
    "spark.sql(\"\"\"select GLOBALEVENTID, SQLDATE, MonthYear, Year, FractionDate from gdelt_data\"\"\").show()"
   ]
  },
  {
   "cell_type": "code",
   "execution_count": 47,
   "metadata": {},
   "outputs": [
    {
     "data": {
      "application/vnd.jupyter.widget-view+json": {
       "model_id": "",
       "version_major": 2,
       "version_minor": 0
      },
      "text/plain": [
       "VBox()"
      ]
     },
     "metadata": {},
     "output_type": "display_data"
    },
    {
     "data": {
      "application/vnd.jupyter.widget-view+json": {
       "model_id": "",
       "version_major": 2,
       "version_minor": 0
      },
      "text/plain": [
       "FloatProgress(value=0.0, bar_style='info', description='Progress:', layout=Layout(height='25px', width='50%'),…"
      ]
     },
     "metadata": {},
     "output_type": "display_data"
    },
    {
     "name": "stdout",
     "output_type": "stream",
     "text": [
      "+------+--------------+------+--------------+-----+------+---+---+---+---+---+-----+---+---+---+------------------+\n",
      "|    1c|            1n|    2c|            2n|actgt|actgcc| re| ec|ebc|erc| qc|gstsc| nm| ns| na|                at|\n",
      "+------+--------------+------+--------------+-----+------+---+---+---+---+---+-----+---+---+---+------------------+\n",
      "|   AUS|      VICTORIA|   GOV|CHIEF OF STAFF|    4|    AS|  0|043|043| 04|  1|  2.8| 30|  3| 30| -3.89972816631123|\n",
      "|   COL|      COLOMBIA|   BUS|       COMPANY|    4|    CO|  1|010|010| 01|  1|  0.0|  6|  1|  6|  0.68259385665529|\n",
      "|   COL|      COLOMBIA|COLBUS|      COLOMBIA|    4|    CO|  1|010|010| 01|  1|  0.0|  4|  1|  4|  0.68259385665529|\n",
      "|   GOV|PRIME MINISTER|  null|          null|    4|    CA|  0|032|032| 03|  1|  4.5|  6|  1|  6| -2.18767990788716|\n",
      "|   GOV|PRIME MINISTER|  null|          null|    4|    CA|  0|032|032| 03|  1|  4.5|  4|  1|  4| -2.18767990788716|\n",
      "|   GOV|CHIEF OF STAFF|   AUS|      VICTORIA|    4|    AS|  0|042|042| 04|  1|  1.9| 30|  3| 30| -3.89972816631123|\n",
      "|   IRN|          IRAN|   FRA|         PARIS|    4|    FR|  1|173|173| 17|  4| -5.0| 18|  3| 18| -8.32787348464133|\n",
      "|   IRN|          IRAN|   FRA|        FRANCE|    4|    IR|  1|173|173| 17|  4| -5.0|  4|  3|  4| -8.32787348464133|\n",
      "|   RUS|        RUSSIA|   USA| UNITED STATES|    1|    RS|  0|120|120| 12|  3| -4.0|124| 39|124| -3.06484010207173|\n",
      "|  null|          null|   USA|      COLORADO|    3|    US|  1|020|020| 02|  1|  3.0| 27|  9| 27| -6.49095466689922|\n",
      "|CANGOV|        CANADA|   CAN|      CANADIAN|    4|    CA|  0|014|014| 01|  1|  0.0| 64| 32| 64|-0.775193798449621|\n",
      "|   EDU|     PROFESSOR|   GBR|UNITED KINGDOM|    1|    UK|  0|051|051| 05|  1|  3.4|  4|  1|  4| -3.35120643431636|\n",
      "|   EDU|     PROFESSOR|   GBR|UNITED KINGDOM|    1|    UK|  0|130|130| 13|  3| -4.4|  4|  1|  4| -3.35120643431636|\n",
      "|GBREDU|UNITED KINGDOM|   GBR|UNITED KINGDOM|    1|    UK|  0|051|051| 05|  1|  3.4|  1|  1|  1| -3.35120643431636|\n",
      "|GBREDU|UNITED KINGDOM|   GBR|UNITED KINGDOM|    1|    UK|  0|130|130| 13|  3| -4.4|  1|  1|  1| -3.35120643431636|\n",
      "|   GOV|PRIME MINISTER|   CAN|      CANADIAN|    4|    CA|  0|014|014| 01|  1|  0.0|200| 33|200|-0.766930730703089|\n",
      "|   GOV|PRIME MINISTER|   CAN|      CANADIAN|    4|    CA|  0|014|014| 01|  1|  0.0| 64| 32| 64|-0.775193798449621|\n",
      "|   GRC|         GREEK|   YEM|         YEMEN|    4|    YM|  1|112|112| 11|  3| -2.0|  8|  1|  8| -8.33333333333333|\n",
      "|   GRC|         GREEK|   YEM|         YEMEN|    4|    YM|  1|112|112| 11|  3| -2.0|  2|  1|  2| -8.33333333333333|\n",
      "|   LEG|        SENATE|  null|          null|    2|    US|  1|014|014| 01|  1|  0.0|  6|  3|  6| -2.78115938182612|\n",
      "+------+--------------+------+--------------+-----+------+---+---+---+---+---+-----+---+---+---+------------------+\n",
      "only showing top 20 rows"
     ]
    }
   ],
   "source": [
    "#select actor and action related columns and also the metrics \n",
    "spark.sql(\"\"\"select \n",
    "            Actor1Code as 1c ,Actor1Name as 1n,\n",
    "            Actor2Code as 2c ,Actor2Name as 2n,\n",
    "            ActionGeo_Type as actgt, ActionGeo_CountryCode as actgcc,\n",
    "            IsRootEvent as re, EventCode as ec, EventBaseCode as ebc, EventRootCode as erc,\n",
    "            QuadClass as qc, GoldsteinScale as gstsc, NumMentions as nm,NumSources as ns, NumArticles as na,AvgTone as at\n",
    "            from gdelt_data\"\"\").show()"
   ]
  },
  {
   "cell_type": "code",
   "execution_count": 56,
   "metadata": {},
   "outputs": [
    {
     "data": {
      "application/vnd.jupyter.widget-view+json": {
       "model_id": "aeca3843e66a4babb40397d6feff94ef",
       "version_major": 2,
       "version_minor": 0
      },
      "text/plain": [
       "VBox()"
      ]
     },
     "metadata": {},
     "output_type": "display_data"
    },
    {
     "data": {
      "application/vnd.jupyter.widget-view+json": {
       "model_id": "",
       "version_major": 2,
       "version_minor": 0
      },
      "text/plain": [
       "FloatProgress(value=0.0, bar_style='info', description='Progress:', layout=Layout(height='25px', width='50%'),…"
      ]
     },
     "metadata": {},
     "output_type": "display_data"
    },
    {
     "name": "stdout",
     "output_type": "stream",
     "text": [
      "+---------+--------------+---------+-------------+-----+------+-------+---+--------------------+\n",
      "|       1c|            1n|       2c|           2n|actgt|actgcc|actgadm| ec|           SourceUrl|\n",
      "+---------+--------------+---------+-------------+-----+------+-------+---+--------------------+\n",
      "|      GOV|PRIME MINISTER|     null|         null|    4|    CA|   CA08|032|https://ipolitics...|\n",
      "|      GOV|PRIME MINISTER|     null|         null|    4|    CA|   CA08|032|https://ipolitics...|\n",
      "|   CANGOV|        CANADA|      CAN|     CANADIAN|    4|    CA|   CA08|014|https://www.weaa....|\n",
      "|      GOV|PRIME MINISTER|      CAN|     CANADIAN|    4|    CA|   CA10|014|https://www.weaa....|\n",
      "|      GOV|PRIME MINISTER|      CAN|     CANADIAN|    4|    CA|   CA08|014|https://www.weaa....|\n",
      "|     null|          null|      HLH|     HOSPITAL|    2|    US|   USNE|036|https://www.lmton...|\n",
      "|      CAN|      EDMONTON|CANGOVHLH|       CANADA|    1|    CA|     CA|036|https://edmonton....|\n",
      "|      CAN|      EDMONTON|   GOVHLH|HEALTH MINIST|    1|    CA|     CA|036|https://edmonton....|\n",
      "|      GOV|     PRESIDENT|      USA|UNITED STATES|    3|    US|   USDC|071|https://www.abc10...|\n",
      "|      GOV|     PRESIDENT|      USA|UNITED STATES|    2|    US|   USKY|071|https://www.nbcwa...|\n",
      "|   GOVHLH| HEALTH MINIST|      LAB|       WORKER|    1|    CA|     CA|036|https://edmonton....|\n",
      "|      HLH|      HOSPITAL|     null|         null|    2|    US|   USNE|036|https://www.lmton...|\n",
      "|      HLH|      HOSPITAL|      IND|        SURAT|    4|    IN|   IN09|043|https://timesofin...|\n",
      "|      HLH|      HOSPITAL|MNCUSAHLH|       PFIZER|    2|    US|   USOR|036|http://mybasin.co...|\n",
      "|      HLH|      HOSPITAL|      USA|       OREGON|    2|    US|   USOR|036|http://mybasin.co...|\n",
      "|      IND|         SURAT|      HLH|     HOSPITAL|    4|    IN|   IN09|042|https://timesofin...|\n",
      "|      IND|         SURAT|      HLH|     HOSPITAL|    4|    IN|   IN09|090|https://timesofin...|\n",
      "|      ISR|        ISRAEL|MNCUSAHLH|       PFIZER|    4|    IS|   IS02|051|https://www.al-mo...|\n",
      "|      LAB|        WORKER|   GOVHLH|HEALTH MINIST|    1|    CA|     CA|036|https://edmonton....|\n",
      "|MNCUSAHLH|        PFIZER|     null|         null|    2|    US|   USOH|013|https://radio.wos...|\n",
      "+---------+--------------+---------+-------------+-----+------+-------+---+--------------------+\n",
      "only showing top 20 rows"
     ]
    }
   ],
   "source": [
    "#select reduced actor related columns and filter the sourceurl for covid related keywords\n",
    "spark.sql(\"\"\"select \n",
    "            Actor1Code as 1c ,Actor1Name as 1n,\n",
    "            Actor2Code as 2c ,Actor2Name as 2n,\n",
    "            ActionGeo_Type as actgt, ActionGeo_CountryCode as actgcc, ActionGeo_ADM1Code as actgadm,\n",
    "            EventCode as ec, SourceUrl \n",
    "            from gdelt_data\n",
    "            where sourceUrl like '%covid%' \n",
    "                    or sourceUrl like '%corona%' \n",
    "                    or sourceUrl like '%virus%'\"\"\").show()"
   ]
  },
  {
   "cell_type": "code",
   "execution_count": 39,
   "metadata": {},
   "outputs": [
    {
     "data": {
      "application/vnd.jupyter.widget-view+json": {
       "model_id": "",
       "version_major": 2,
       "version_minor": 0
      },
      "text/plain": [
       "VBox()"
      ]
     },
     "metadata": {},
     "output_type": "display_data"
    },
    {
     "data": {
      "application/vnd.jupyter.widget-view+json": {
       "model_id": "",
       "version_major": 2,
       "version_minor": 0
      },
      "text/plain": [
       "FloatProgress(value=0.0, bar_style='info', description='Progress:', layout=Layout(height='25px', width='50%'),…"
      ]
     },
     "metadata": {},
     "output_type": "display_data"
    },
    {
     "name": "stdout",
     "output_type": "stream",
     "text": [
      "+------+--------------+----+----+------+--------------+----+----+---+----+-----+---+----+-----+-----+------+-------+\n",
      "|    1c|            1n| 1cc|1grc|    2c|            2n| 2cc|2grc|1gt|1gcc|1gadm|2gt|2gcc|2gadm|actgt|actgcc|actgadm|\n",
      "+------+--------------+----+----+------+--------------+----+----+---+----+-----+---+----+-----+-----+------+-------+\n",
      "|   AUS|      VICTORIA| AUS|null|   GOV|CHIEF OF STAFF|null|null|  4|  AS| AS07|  4|  AS| AS07|    4|    AS|   AS07|\n",
      "|   COL|      COLOMBIA| COL|null|   BUS|       COMPANY|null|null|  4|  CO| CO28|  4|  CO| CO28|    4|    CO|   CO28|\n",
      "|   COL|      COLOMBIA| COL|null|COLBUS|      COLOMBIA| COL|null|  4|  CO| CO28|  4|  CO| CO28|    4|    CO|   CO28|\n",
      "|   GOV|PRIME MINISTER|null|null|  null|          null|null|null|  4|  JA| JA40|  0|null| null|    4|    CA|   CA08|\n",
      "|   GOV|PRIME MINISTER|null|null|  null|          null|null|null|  4|  CA| CA08|  0|null| null|    4|    CA|   CA08|\n",
      "|   GOV|CHIEF OF STAFF|null|null|   AUS|      VICTORIA| AUS|null|  4|  AS| AS07|  4|  AS| AS07|    4|    AS|   AS07|\n",
      "|   IRN|          IRAN| IRN|null|   FRA|         PARIS| FRA|null|  4|  IR| IR26|  4|  FR| FR00|    4|    FR|   FR00|\n",
      "|   IRN|          IRAN| IRN|null|   FRA|        FRANCE| FRA|null|  4|  IR| IR26|  4|  FR| FR00|    4|    IR|   IR26|\n",
      "|   RUS|        RUSSIA| RUS|null|   USA| UNITED STATES| USA|null|  1|  RS|   RS|  3|  US| USDC|    1|    RS|     RS|\n",
      "|  null|          null|null|null|   USA|      COLORADO| USA|null|  0|null| null|  3|  US| USCO|    3|    US|   USCO|\n",
      "|CANGOV|        CANADA| CAN|null|   CAN|      CANADIAN| CAN|null|  4|  CA| CA08|  4|  CA| CA08|    4|    CA|   CA08|\n",
      "|   EDU|     PROFESSOR|null|null|   GBR|UNITED KINGDOM| GBR|null|  1|  UK|   UK|  1|  UK|   UK|    1|    UK|     UK|\n",
      "|   EDU|     PROFESSOR|null|null|   GBR|UNITED KINGDOM| GBR|null|  1|  UK|   UK|  1|  UK|   UK|    1|    UK|     UK|\n",
      "|GBREDU|UNITED KINGDOM| GBR|null|   GBR|UNITED KINGDOM| GBR|null|  1|  UK|   UK|  1|  UK|   UK|    1|    UK|     UK|\n",
      "|GBREDU|UNITED KINGDOM| GBR|null|   GBR|UNITED KINGDOM| GBR|null|  1|  UK|   UK|  1|  UK|   UK|    1|    UK|     UK|\n",
      "|   GOV|PRIME MINISTER|null|null|   CAN|      CANADIAN| CAN|null|  4|  CA| CA10|  4|  CA| CA10|    4|    CA|   CA10|\n",
      "|   GOV|PRIME MINISTER|null|null|   CAN|      CANADIAN| CAN|null|  4|  CA| CA08|  4|  CA| CA08|    4|    CA|   CA08|\n",
      "|   GRC|         GREEK| GRC|null|   YEM|         YEMEN| YEM|null|  4|  YM| YM16|  4|  YM| YM16|    4|    YM|   YM16|\n",
      "|   GRC|         GREEK| GRC|null|   YEM|         YEMEN| YEM|null|  4|  IR| IR26|  4|  YM| YM16|    4|    YM|   YM16|\n",
      "|   LEG|        SENATE|null|null|  null|          null|null|null|  2|  US| USGA|  0|null| null|    2|    US|   USGA|\n",
      "+------+--------------+----+----+------+--------------+----+----+---+----+-----+---+----+-----+-----+------+-------+\n",
      "only showing top 20 rows"
     ]
    }
   ],
   "source": [
    "#select relevant actor and action columns\n",
    "spark.sql(\"\"\"select \n",
    "            Actor1Code as 1c ,Actor1Name as 1n , Actor1CountryCode as 1cc, Actor1KnownGroupCode as 1grc,\n",
    "            Actor2Code as 2c ,Actor2Name as 2n , Actor2CountryCode as 2cc, Actor2KnownGroupCode as 2grc,\n",
    "            Actor1Geo_Type as 1gt, Actor1Geo_CountryCode as 1gcc, Actor1Geo_ADM1Code as 1gadm,\n",
    "            Actor2Geo_Type as 2gt, Actor2Geo_CountryCode as 2gcc, Actor2Geo_ADM1Code as 2gadm,\n",
    "            ActionGeo_Type as actgt, ActionGeo_CountryCode as actgcc, ActionGeo_ADM1Code as actgadm\n",
    "            \n",
    "            from gdelt_data\"\"\").show()"
   ]
  },
  {
   "cell_type": "markdown",
   "metadata": {},
   "source": [
    "### FINDINGS\n",
    "* reduce columns\n",
    "* add attribute \"covid\"\n",
    "* check for duplicates\n",
    "* read code tables\n",
    "* add month column\n",
    "* map Country Codes to ISO"
   ]
  },
  {
   "cell_type": "code",
   "execution_count": null,
   "metadata": {},
   "outputs": [],
   "source": []
  }
 ],
 "metadata": {
  "kernelspec": {
   "display_name": "PySpark",
   "language": "",
   "name": "pysparkkernel"
  },
  "language_info": {
   "codemirror_mode": {
    "name": "python",
    "version": 2
   },
   "mimetype": "text/x-python",
   "name": "pyspark",
   "pygments_lexer": "python2"
  }
 },
 "nbformat": 4,
 "nbformat_minor": 4
}