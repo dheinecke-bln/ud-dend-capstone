{
 "cells": [
  {
   "source": [
    "# Assessment of oxford government response dataset\n",
    "\n",
    "This notebook assesses the oxford government response dataset."
   ],
   "cell_type": "markdown",
   "metadata": {}
  },
  {
   "cell_type": "markdown",
   "metadata": {},
   "source": [
    "## imports"
   ]
  },
  {
   "cell_type": "code",
   "execution_count": 19,
   "metadata": {},
   "outputs": [
    {
     "data": {
      "application/vnd.jupyter.widget-view+json": {
       "model_id": "ccc5e33d7e3943c1b3374c875604cba3",
       "version_major": 2,
       "version_minor": 0
      },
      "text/plain": [
       "VBox()"
      ]
     },
     "metadata": {},
     "output_type": "display_data"
    },
    {
     "data": {
      "application/vnd.jupyter.widget-view+json": {
       "model_id": "",
       "version_major": 2,
       "version_minor": 0
      },
      "text/plain": [
       "FloatProgress(value=0.0, bar_style='info', description='Progress:', layout=Layout(height='25px', width='50%'),…"
      ]
     },
     "metadata": {},
     "output_type": "display_data"
    }
   ],
   "source": [
    "from pyspark.sql import functions as F\n",
    "from pyspark.sql.types import StructType, StructField, StringType\n",
    "from pyspark.sql.functions import col"
   ]
  },
  {
   "cell_type": "markdown",
   "metadata": {},
   "source": [
    "## define bucket"
   ]
  },
  {
   "cell_type": "code",
   "execution_count": 5,
   "metadata": {},
   "outputs": [
    {
     "data": {
      "application/vnd.jupyter.widget-view+json": {
       "model_id": "f1aa666ff7b8473f81d2ec402e238281",
       "version_major": 2,
       "version_minor": 0
      },
      "text/plain": [
       "VBox()"
      ]
     },
     "metadata": {},
     "output_type": "display_data"
    },
    {
     "data": {
      "application/vnd.jupyter.widget-view+json": {
       "model_id": "",
       "version_major": 2,
       "version_minor": 0
      },
      "text/plain": [
       "FloatProgress(value=0.0, bar_style='info', description='Progress:', layout=Layout(height='25px', width='50%'),…"
      ]
     },
     "metadata": {},
     "output_type": "display_data"
    }
   ],
   "source": [
    "#FIXME\n",
    "input_bucket = 's3://dh-ud-dend-capstone/stage0_raw'"
   ]
  },
  {
   "cell_type": "markdown",
   "metadata": {},
   "source": [
    "# Oxford data"
   ]
  },
  {
   "cell_type": "code",
   "execution_count": 6,
   "metadata": {
    "scrolled": true
   },
   "outputs": [
    {
     "data": {
      "application/vnd.jupyter.widget-view+json": {
       "model_id": "89216aab1ba647b3bbf1601cf7b107ae",
       "version_major": 2,
       "version_minor": 0
      },
      "text/plain": [
       "VBox()"
      ]
     },
     "metadata": {},
     "output_type": "display_data"
    },
    {
     "data": {
      "application/vnd.jupyter.widget-view+json": {
       "model_id": "",
       "version_major": 2,
       "version_minor": 0
      },
      "text/plain": [
       "FloatProgress(value=0.0, bar_style='info', description='Progress:', layout=Layout(height='25px', width='50%'),…"
      ]
     },
     "metadata": {},
     "output_type": "display_data"
    }
   ],
   "source": [
    "#read in dataset\n",
    "ox_file = '/oxford-gov-response/OxCGRT_latest.csv'\n",
    "df_ox = spark.read.csv(input_bucket + ox_file,header=True)"
   ]
  },
  {
   "cell_type": "code",
   "execution_count": 7,
   "metadata": {},
   "outputs": [
    {
     "data": {
      "application/vnd.jupyter.widget-view+json": {
       "model_id": "c7703ae238de42caa316d91985ada14e",
       "version_major": 2,
       "version_minor": 0
      },
      "text/plain": [
       "VBox()"
      ]
     },
     "metadata": {},
     "output_type": "display_data"
    },
    {
     "data": {
      "application/vnd.jupyter.widget-view+json": {
       "model_id": "",
       "version_major": 2,
       "version_minor": 0
      },
      "text/plain": [
       "FloatProgress(value=0.0, bar_style='info', description='Progress:', layout=Layout(height='25px', width='50%'),…"
      ]
     },
     "metadata": {},
     "output_type": "display_data"
    },
    {
     "name": "stdout",
     "output_type": "stream",
     "text": [
      "+-----------+-----------+----------+----------+------------+--------+-----------------+-------+--------------------+-------+-----------------------+-------+-----------------------------+-------+-------------------------+-------+----------------------------+-------+------------------------------------+-------+--------------------------------+-----------------+-------+-----------------------+------------------+------------------------+-------------------------------+-------+-----------------+------------------+-------------------------------------+-------------------------+-------------------+-------+---------------------+-------+-----------+--------------+---------------+---------------+-------------------------+---------------------+-------------------------------+-----------------------+---------------------------------+----------------------+--------------------------------+--------------------+------------------------------+\n",
      "|CountryName|CountryCode|RegionName|RegionCode|Jurisdiction|    Date|C1_School closing|C1_Flag|C2_Workplace closing|C2_Flag|C3_Cancel public events|C3_Flag|C4_Restrictions on gatherings|C4_Flag|C5_Close public transport|C5_Flag|C6_Stay at home requirements|C6_Flag|C7_Restrictions on internal movement|C7_Flag|C8_International travel controls|E1_Income support|E1_Flag|E2_Debt/contract relief|E3_Fiscal measures|E4_International support|H1_Public information campaigns|H1_Flag|H2_Testing policy|H3_Contact tracing|H4_Emergency investment in healthcare|H5_Investment in vaccines|H6_Facial Coverings|H6_Flag|H7_Vaccination policy|H7_Flag|M1_Wildcard|ConfirmedCases|ConfirmedDeaths|StringencyIndex|StringencyIndexForDisplay|StringencyLegacyIndex|StringencyLegacyIndexForDisplay|GovernmentResponseIndex|GovernmentResponseIndexForDisplay|ContainmentHealthIndex|ContainmentHealthIndexForDisplay|EconomicSupportIndex|EconomicSupportIndexForDisplay|\n",
      "+-----------+-----------+----------+----------+------------+--------+-----------------+-------+--------------------+-------+-----------------------+-------+-----------------------------+-------+-------------------------+-------+----------------------------+-------+------------------------------------+-------+--------------------------------+-----------------+-------+-----------------------+------------------+------------------------+-------------------------------+-------+-----------------+------------------+-------------------------------------+-------------------------+-------------------+-------+---------------------+-------+-----------+--------------+---------------+---------------+-------------------------+---------------------+-------------------------------+-----------------------+---------------------------------+----------------------+--------------------------------+--------------------+------------------------------+\n",
      "|      Aruba|        ABW|      null|      null|   NAT_TOTAL|20200101|             0.00|   null|                0.00|   null|                   0.00|   null|                         0.00|   null|                     0.00|   null|                        0.00|   null|                                0.00|   null|                            0.00|             0.00|   null|                   0.00|              0.00|                    0.00|                           0.00|   null|             0.00|              0.00|                                 0.00|                     0.00|               0.00|   null|                 0.00|   null|       null|          null|           null|           0.00|                     0.00|                 0.00|                           0.00|                   0.00|                             0.00|                  0.00|                            0.00|                0.00|                          0.00|\n",
      "|      Aruba|        ABW|      null|      null|   NAT_TOTAL|20200102|             0.00|   null|                0.00|   null|                   0.00|   null|                         0.00|   null|                     0.00|   null|                        0.00|   null|                                0.00|   null|                            0.00|             0.00|   null|                   0.00|              0.00|                    0.00|                           0.00|   null|             0.00|              0.00|                                 0.00|                     0.00|               0.00|   null|                 0.00|   null|       null|          null|           null|           0.00|                     0.00|                 0.00|                           0.00|                   0.00|                             0.00|                  0.00|                            0.00|                0.00|                          0.00|\n",
      "|      Aruba|        ABW|      null|      null|   NAT_TOTAL|20200103|             0.00|   null|                0.00|   null|                   0.00|   null|                         0.00|   null|                     0.00|   null|                        0.00|   null|                                0.00|   null|                            0.00|             0.00|   null|                   0.00|              0.00|                    0.00|                           0.00|   null|             0.00|              0.00|                                 0.00|                     0.00|               0.00|   null|                 0.00|   null|       null|          null|           null|           0.00|                     0.00|                 0.00|                           0.00|                   0.00|                             0.00|                  0.00|                            0.00|                0.00|                          0.00|\n",
      "|      Aruba|        ABW|      null|      null|   NAT_TOTAL|20200104|             0.00|   null|                0.00|   null|                   0.00|   null|                         0.00|   null|                     0.00|   null|                        0.00|   null|                                0.00|   null|                            0.00|             0.00|   null|                   0.00|              0.00|                    0.00|                           0.00|   null|             0.00|              0.00|                                 0.00|                     0.00|               0.00|   null|                 0.00|   null|       null|          null|           null|           0.00|                     0.00|                 0.00|                           0.00|                   0.00|                             0.00|                  0.00|                            0.00|                0.00|                          0.00|\n",
      "|      Aruba|        ABW|      null|      null|   NAT_TOTAL|20200105|             0.00|   null|                0.00|   null|                   0.00|   null|                         0.00|   null|                     0.00|   null|                        0.00|   null|                                0.00|   null|                            0.00|             0.00|   null|                   0.00|              0.00|                    0.00|                           0.00|   null|             0.00|              0.00|                                 0.00|                     0.00|               0.00|   null|                 0.00|   null|       null|          null|           null|           0.00|                     0.00|                 0.00|                           0.00|                   0.00|                             0.00|                  0.00|                            0.00|                0.00|                          0.00|\n",
      "+-----------+-----------+----------+----------+------------+--------+-----------------+-------+--------------------+-------+-----------------------+-------+-----------------------------+-------+-------------------------+-------+----------------------------+-------+------------------------------------+-------+--------------------------------+-----------------+-------+-----------------------+------------------+------------------------+-------------------------------+-------+-----------------+------------------+-------------------------------------+-------------------------+-------------------+-------+---------------------+-------+-----------+--------------+---------------+---------------+-------------------------+---------------------+-------------------------------+-----------------------+---------------------------------+----------------------+--------------------------------+--------------------+------------------------------+\n",
      "only showing top 5 rows"
     ]
    }
   ],
   "source": [
    "# show a few records\n",
    "df_ox.show(5)"
   ]
  },
  {
   "cell_type": "code",
   "execution_count": 8,
   "metadata": {},
   "outputs": [
    {
     "data": {
      "application/vnd.jupyter.widget-view+json": {
       "model_id": "7572ad10f9f04bf49e5aac68892f3db1",
       "version_major": 2,
       "version_minor": 0
      },
      "text/plain": [
       "VBox()"
      ]
     },
     "metadata": {},
     "output_type": "display_data"
    },
    {
     "data": {
      "application/vnd.jupyter.widget-view+json": {
       "model_id": "",
       "version_major": 2,
       "version_minor": 0
      },
      "text/plain": [
       "FloatProgress(value=0.0, bar_style='info', description='Progress:', layout=Layout(height='25px', width='50%'),…"
      ]
     },
     "metadata": {},
     "output_type": "display_data"
    },
    {
     "name": "stdout",
     "output_type": "stream",
     "text": [
      "99680"
     ]
    }
   ],
   "source": [
    "# count the records\n",
    "df_ox.count()"
   ]
  },
  {
   "cell_type": "code",
   "execution_count": 9,
   "metadata": {},
   "outputs": [
    {
     "data": {
      "application/vnd.jupyter.widget-view+json": {
       "model_id": "89f762eedd46400aa1da0f10ecef03b6",
       "version_major": 2,
       "version_minor": 0
      },
      "text/plain": [
       "VBox()"
      ]
     },
     "metadata": {},
     "output_type": "display_data"
    },
    {
     "data": {
      "application/vnd.jupyter.widget-view+json": {
       "model_id": "",
       "version_major": 2,
       "version_minor": 0
      },
      "text/plain": [
       "FloatProgress(value=0.0, bar_style='info', description='Progress:', layout=Layout(height='25px', width='50%'),…"
      ]
     },
     "metadata": {},
     "output_type": "display_data"
    },
    {
     "name": "stdout",
     "output_type": "stream",
     "text": [
      "root\n",
      " |-- CountryName: string (nullable = true)\n",
      " |-- CountryCode: string (nullable = true)\n",
      " |-- RegionName: string (nullable = true)\n",
      " |-- RegionCode: string (nullable = true)\n",
      " |-- Jurisdiction: string (nullable = true)\n",
      " |-- Date: string (nullable = true)\n",
      " |-- C1_School closing: string (nullable = true)\n",
      " |-- C1_Flag: string (nullable = true)\n",
      " |-- C2_Workplace closing: string (nullable = true)\n",
      " |-- C2_Flag: string (nullable = true)\n",
      " |-- C3_Cancel public events: string (nullable = true)\n",
      " |-- C3_Flag: string (nullable = true)\n",
      " |-- C4_Restrictions on gatherings: string (nullable = true)\n",
      " |-- C4_Flag: string (nullable = true)\n",
      " |-- C5_Close public transport: string (nullable = true)\n",
      " |-- C5_Flag: string (nullable = true)\n",
      " |-- C6_Stay at home requirements: string (nullable = true)\n",
      " |-- C6_Flag: string (nullable = true)\n",
      " |-- C7_Restrictions on internal movement: string (nullable = true)\n",
      " |-- C7_Flag: string (nullable = true)\n",
      " |-- C8_International travel controls: string (nullable = true)\n",
      " |-- E1_Income support: string (nullable = true)\n",
      " |-- E1_Flag: string (nullable = true)\n",
      " |-- E2_Debt/contract relief: string (nullable = true)\n",
      " |-- E3_Fiscal measures: string (nullable = true)\n",
      " |-- E4_International support: string (nullable = true)\n",
      " |-- H1_Public information campaigns: string (nullable = true)\n",
      " |-- H1_Flag: string (nullable = true)\n",
      " |-- H2_Testing policy: string (nullable = true)\n",
      " |-- H3_Contact tracing: string (nullable = true)\n",
      " |-- H4_Emergency investment in healthcare: string (nullable = true)\n",
      " |-- H5_Investment in vaccines: string (nullable = true)\n",
      " |-- H6_Facial Coverings: string (nullable = true)\n",
      " |-- H6_Flag: string (nullable = true)\n",
      " |-- H7_Vaccination policy: string (nullable = true)\n",
      " |-- H7_Flag: string (nullable = true)\n",
      " |-- M1_Wildcard: string (nullable = true)\n",
      " |-- ConfirmedCases: string (nullable = true)\n",
      " |-- ConfirmedDeaths: string (nullable = true)\n",
      " |-- StringencyIndex: string (nullable = true)\n",
      " |-- StringencyIndexForDisplay: string (nullable = true)\n",
      " |-- StringencyLegacyIndex: string (nullable = true)\n",
      " |-- StringencyLegacyIndexForDisplay: string (nullable = true)\n",
      " |-- GovernmentResponseIndex: string (nullable = true)\n",
      " |-- GovernmentResponseIndexForDisplay: string (nullable = true)\n",
      " |-- ContainmentHealthIndex: string (nullable = true)\n",
      " |-- ContainmentHealthIndexForDisplay: string (nullable = true)\n",
      " |-- EconomicSupportIndex: string (nullable = true)\n",
      " |-- EconomicSupportIndexForDisplay: string (nullable = true)"
     ]
    }
   ],
   "source": [
    "# print schema\n",
    "df_ox.printSchema()"
   ]
  },
  {
   "cell_type": "code",
   "execution_count": 10,
   "metadata": {
    "scrolled": false
   },
   "outputs": [
    {
     "data": {
      "application/vnd.jupyter.widget-view+json": {
       "model_id": "fb3b18694bbd4b67825cfd2c6d5ab4ab",
       "version_major": 2,
       "version_minor": 0
      },
      "text/plain": [
       "VBox()"
      ]
     },
     "metadata": {},
     "output_type": "display_data"
    },
    {
     "data": {
      "application/vnd.jupyter.widget-view+json": {
       "model_id": "",
       "version_major": 2,
       "version_minor": 0
      },
      "text/plain": [
       "FloatProgress(value=0.0, bar_style='info', description='Progress:', layout=Layout(height='25px', width='50%'),…"
      ]
     },
     "metadata": {},
     "output_type": "display_data"
    },
    {
     "name": "stdout",
     "output_type": "stream",
     "text": [
      "+--------------+-----------+----------------+----------+------------+\n",
      "|   CountryName|CountryCode|      RegionName|RegionCode|Jurisdiction|\n",
      "+--------------+-----------+----------------+----------+------------+\n",
      "|        Greece|        GRC|            null|      null|   NAT_TOTAL|\n",
      "| United States|        USA|          Kansas|     US_KS| STATE_TOTAL|\n",
      "| United States|        USA|         Alabama|     US_AL| STATE_TOTAL|\n",
      "|         China|        CHN|            null|      null|   NAT_TOTAL|\n",
      "|United Kingdom|        GBR|           Wales|    UK_WAL| STATE_TOTAL|\n",
      "|        Brazil|        BRA|Distrito Federal|     BR_DF| STATE_TOTAL|\n",
      "| United States|        USA|          Hawaii|     US_HI| STATE_TOTAL|\n",
      "|       Estonia|        EST|            null|      null|   NAT_TOTAL|\n",
      "|       Albania|        ALB|            null|      null|   NAT_TOTAL|\n",
      "|          Oman|        OMN|            null|      null|   NAT_TOTAL|\n",
      "|          Guam|        GUM|            null|      null|   NAT_TOTAL|\n",
      "| United States|        USA|         Georgia|     US_GA| STATE_TOTAL|\n",
      "|       Georgia|        GEO|            null|      null|   NAT_TOTAL|\n",
      "|         Ghana|        GHA|            null|      null|   NAT_TOTAL|\n",
      "|        Canada|        CAN|         Ontario|    CAN_ON| STATE_TOTAL|\n",
      "|        Norway|        NOR|            null|      null|   NAT_TOTAL|\n",
      "|     Palestine|        PSE|            null|      null|   NAT_TOTAL|\n",
      "|       Austria|        AUT|            null|      null|   NAT_TOTAL|\n",
      "|        Rwanda|        RWA|            null|      null|   NAT_TOTAL|\n",
      "|  Saudi Arabia|        SAU|            null|      null|   NAT_TOTAL|\n",
      "+--------------+-----------+----------------+----------+------------+\n",
      "only showing top 20 rows"
     ]
    }
   ],
   "source": [
    "df_ox.createOrReplaceTempView(\"oxf_data\")\n",
    "\n",
    "#check most present keys\n",
    "spark.sql(\"\"\"select distinct CountryName,CountryCode,RegionName,RegionCode, Jurisdiction from oxf_data\"\"\").show()"
   ]
  },
  {
   "cell_type": "code",
   "execution_count": 11,
   "metadata": {},
   "outputs": [
    {
     "data": {
      "application/vnd.jupyter.widget-view+json": {
       "model_id": "e1ed58825efa44d69b29103c04a71a21",
       "version_major": 2,
       "version_minor": 0
      },
      "text/plain": [
       "VBox()"
      ]
     },
     "metadata": {},
     "output_type": "display_data"
    },
    {
     "data": {
      "application/vnd.jupyter.widget-view+json": {
       "model_id": "",
       "version_major": 2,
       "version_minor": 0
      },
      "text/plain": [
       "FloatProgress(value=0.0, bar_style='info', description='Progress:', layout=Layout(height='25px', width='50%'),…"
      ]
     },
     "metadata": {},
     "output_type": "display_data"
    },
    {
     "name": "stdout",
     "output_type": "stream",
     "text": [
      "+--------------+\n",
      "|cnt_cc_is_null|\n",
      "+--------------+\n",
      "|             0|\n",
      "+--------------+"
     ]
    }
   ],
   "source": [
    "#check for records for which the country code is null\n",
    "spark.sql(\"\"\"select count(*) as cnt_cc_is_null from oxf_data where CountryCode is null\"\"\").show()"
   ]
  },
  {
   "cell_type": "code",
   "execution_count": 12,
   "metadata": {},
   "outputs": [
    {
     "data": {
      "application/vnd.jupyter.widget-view+json": {
       "model_id": "1310cd55a3d64016853483d898ed5bee",
       "version_major": 2,
       "version_minor": 0
      },
      "text/plain": [
       "VBox()"
      ]
     },
     "metadata": {},
     "output_type": "display_data"
    },
    {
     "data": {
      "application/vnd.jupyter.widget-view+json": {
       "model_id": "",
       "version_major": 2,
       "version_minor": 0
      },
      "text/plain": [
       "FloatProgress(value=0.0, bar_style='info', description='Progress:', layout=Layout(height='25px', width='50%'),…"
      ]
     },
     "metadata": {},
     "output_type": "display_data"
    },
    {
     "name": "stdout",
     "output_type": "stream",
     "text": [
      "+----------------+\n",
      "|cnt_date_is_null|\n",
      "+----------------+\n",
      "|               0|\n",
      "+----------------+"
     ]
    }
   ],
   "source": [
    "#check for records for which Date is null\n",
    "spark.sql(\"\"\"select count(*) as cnt_date_is_null from oxf_data where Date is null\"\"\").show()"
   ]
  },
  {
   "cell_type": "code",
   "execution_count": 13,
   "metadata": {
    "scrolled": false
   },
   "outputs": [
    {
     "data": {
      "application/vnd.jupyter.widget-view+json": {
       "model_id": "6f24448b7643407fb7c3c99e4384f39f",
       "version_major": 2,
       "version_minor": 0
      },
      "text/plain": [
       "VBox()"
      ]
     },
     "metadata": {},
     "output_type": "display_data"
    },
    {
     "data": {
      "application/vnd.jupyter.widget-view+json": {
       "model_id": "",
       "version_major": 2,
       "version_minor": 0
      },
      "text/plain": [
       "FloatProgress(value=0.0, bar_style='info', description='Progress:', layout=Layout(height='25px', width='50%'),…"
      ]
     },
     "metadata": {},
     "output_type": "display_data"
    },
    {
     "name": "stdout",
     "output_type": "stream",
     "text": [
      "+-----------+-----+\n",
      "|CountryCode|    c|\n",
      "+-----------+-----+\n",
      "|        USA|18868|\n",
      "|        BRA| 9968|\n",
      "|        CAN| 4984|\n",
      "|        GBR| 1780|\n",
      "|        LVA|  356|\n",
      "|        BOL|  356|\n",
      "|        BRB|  356|\n",
      "|        URY|  356|\n",
      "|        POL|  356|\n",
      "|        JAM|  356|\n",
      "|        ZMB|  356|\n",
      "|        CUB|  356|\n",
      "|        JOR|  356|\n",
      "|        BRN|  356|\n",
      "|        COD|  356|\n",
      "|        ABW|  356|\n",
      "|        FRA|  356|\n",
      "|        SOM|  356|\n",
      "|        ETH|  356|\n",
      "|        MOZ|  356|\n",
      "+-----------+-----+\n",
      "only showing top 20 rows"
     ]
    }
   ],
   "source": [
    "#select most present country codes\n",
    "spark.sql(\"\"\"select CountryCode, count(*) as c from oxf_data group by CountryCode order by c desc\"\"\").show()"
   ]
  },
  {
   "cell_type": "code",
   "execution_count": 14,
   "metadata": {
    "scrolled": false
   },
   "outputs": [
    {
     "data": {
      "application/vnd.jupyter.widget-view+json": {
       "model_id": "537e7293cfcf4cebb3501efda8d140e5",
       "version_major": 2,
       "version_minor": 0
      },
      "text/plain": [
       "VBox()"
      ]
     },
     "metadata": {},
     "output_type": "display_data"
    },
    {
     "data": {
      "application/vnd.jupyter.widget-view+json": {
       "model_id": "",
       "version_major": 2,
       "version_minor": 0
      },
      "text/plain": [
       "FloatProgress(value=0.0, bar_style='info', description='Progress:', layout=Layout(height='25px', width='50%'),…"
      ]
     },
     "metadata": {},
     "output_type": "display_data"
    },
    {
     "name": "stdout",
     "output_type": "stream",
     "text": [
      "+--------------------+---------+---------+\n",
      "|count(DISTINCT Date)|min(Date)|max(Date)|\n",
      "+--------------------+---------+---------+\n",
      "|                 356| 20200101| 20201221|\n",
      "+--------------------+---------+---------+"
     ]
    }
   ],
   "source": [
    "#select number of dates and their minimum and maximum\n",
    "spark.sql(\"\"\"select count(distinct Date), min(Date), max(Date) from oxf_data\"\"\").show()"
   ]
  },
  {
   "cell_type": "code",
   "execution_count": 15,
   "metadata": {},
   "outputs": [
    {
     "data": {
      "application/vnd.jupyter.widget-view+json": {
       "model_id": "14028820fd574b16876a9a93795970db",
       "version_major": 2,
       "version_minor": 0
      },
      "text/plain": [
       "VBox()"
      ]
     },
     "metadata": {},
     "output_type": "display_data"
    },
    {
     "data": {
      "application/vnd.jupyter.widget-view+json": {
       "model_id": "",
       "version_major": 2,
       "version_minor": 0
      },
      "text/plain": [
       "FloatProgress(value=0.0, bar_style='info', description='Progress:', layout=Layout(height='25px', width='50%'),…"
      ]
     },
     "metadata": {},
     "output_type": "display_data"
    },
    {
     "name": "stdout",
     "output_type": "stream",
     "text": [
      "+-----------------+--------+\n",
      "|C1_School closing|count(1)|\n",
      "+-----------------+--------+\n",
      "|                3|      19|\n",
      "|             3.00|   41548|\n",
      "|             null|    4574|\n",
      "|             2.00|   17533|\n",
      "|                1|     190|\n",
      "|             1.00|   12954|\n",
      "|             0.00|   22855|\n",
      "|                2|       7|\n",
      "+-----------------+--------+"
     ]
    }
   ],
   "source": [
    "#check data format of ordinal metric columns\n",
    "spark.sql(\"\"\"select `C1_School closing`, count(*) from oxf_data group by `C1_School closing`\"\"\").show()"
   ]
  },
  {
   "cell_type": "code",
   "execution_count": 17,
   "metadata": {},
   "outputs": [
    {
     "data": {
      "application/vnd.jupyter.widget-view+json": {
       "model_id": "a6fe471237e848638df6bbaf58084e5e",
       "version_major": 2,
       "version_minor": 0
      },
      "text/plain": [
       "VBox()"
      ]
     },
     "metadata": {},
     "output_type": "display_data"
    },
    {
     "data": {
      "application/vnd.jupyter.widget-view+json": {
       "model_id": "",
       "version_major": 2,
       "version_minor": 0
      },
      "text/plain": [
       "FloatProgress(value=0.0, bar_style='info', description='Progress:', layout=Layout(height='25px', width='50%'),…"
      ]
     },
     "metadata": {},
     "output_type": "display_data"
    },
    {
     "name": "stdout",
     "output_type": "stream",
     "text": [
      "+------------+--------+\n",
      "|Jurisdiction|count(1)|\n",
      "+------------+--------+\n",
      "|   NAT_TOTAL|   65504|\n",
      "| STATE_TOTAL|   34176|\n",
      "+------------+--------+"
     ]
    }
   ],
   "source": [
    "#check content of column Jurisdiction\n",
    "spark.sql(\"\"\"select Jurisdiction, count(*) from oxf_data group by Jurisdiction\"\"\").show()"
   ]
  },
  {
   "cell_type": "code",
   "execution_count": 14,
   "metadata": {
    "scrolled": false
   },
   "outputs": [
    {
     "data": {
      "application/vnd.jupyter.widget-view+json": {
       "model_id": "dc34f216a97e4cc6a60b9fa998274aab",
       "version_major": 2,
       "version_minor": 0
      },
      "text/plain": [
       "VBox()"
      ]
     },
     "metadata": {},
     "output_type": "display_data"
    },
    {
     "data": {
      "application/vnd.jupyter.widget-view+json": {
       "model_id": "",
       "version_major": 2,
       "version_minor": 0
      },
      "text/plain": [
       "FloatProgress(value=0.0, bar_style='info', description='Progress:', layout=Layout(height='25px', width='50%'),…"
      ]
     },
     "metadata": {},
     "output_type": "display_data"
    },
    {
     "name": "stdout",
     "output_type": "stream",
     "text": [
      "+-------+-----------+-----------+----------+----------+------------+-------------------+------------------+------------------+--------------------+------------------+-----------------------+------------------+-----------------------------+-------------------+-------------------------+-------------------+----------------------------+-------------------+------------------------------------+------------------+--------------------------------+------------------+-------------------+-----------------------+--------------------+------------------------+-------------------------------+-------------------+------------------+------------------+-------------------------------------+-------------------------+-------------------+------------------+---------------------+-------+-----------+------------------+------------------+------------------+-------------------------+---------------------+-------------------------------+-----------------------+---------------------------------+----------------------+--------------------------------+--------------------+------------------------------+\n",
      "|summary|CountryName|CountryCode|RegionName|RegionCode|Jurisdiction|               Date| C1_School closing|           C1_Flag|C2_Workplace closing|           C2_Flag|C3_Cancel public events|           C3_Flag|C4_Restrictions on gatherings|            C4_Flag|C5_Close public transport|            C5_Flag|C6_Stay at home requirements|            C6_Flag|C7_Restrictions on internal movement|           C7_Flag|C8_International travel controls| E1_Income support|            E1_Flag|E2_Debt/contract relief|  E3_Fiscal measures|E4_International support|H1_Public information campaigns|            H1_Flag| H2_Testing policy|H3_Contact tracing|H4_Emergency investment in healthcare|H5_Investment in vaccines|H6_Facial Coverings|           H6_Flag|H7_Vaccination policy|H7_Flag|M1_Wildcard|    ConfirmedCases|   ConfirmedDeaths|   StringencyIndex|StringencyIndexForDisplay|StringencyLegacyIndex|StringencyLegacyIndexForDisplay|GovernmentResponseIndex|GovernmentResponseIndexForDisplay|ContainmentHealthIndex|ContainmentHealthIndexForDisplay|EconomicSupportIndex|EconomicSupportIndexForDisplay|\n",
      "+-------+-----------+-----------+----------+----------+------------+-------------------+------------------+------------------+--------------------+------------------+-----------------------+------------------+-----------------------------+-------------------+-------------------------+-------------------+----------------------------+-------------------+------------------------------------+------------------+--------------------------------+------------------+-------------------+-----------------------+--------------------+------------------------+-------------------------------+-------------------+------------------+------------------+-------------------------------------+-------------------------+-------------------+------------------+---------------------+-------+-----------+------------------+------------------+------------------+-------------------------+---------------------+-------------------------------+-----------------------+---------------------------------+----------------------+--------------------------------+--------------------+------------------------------+\n",
      "|  count|      99680|      99680|     34176|     34176|       99680|              99680|             95106|             72251|               94619|             65481|                  94613|             71094|                        94608|              66271|                    94607|              39548|                       94598|              56860|                               95847|             55925|                           94271|             86788|              49917|                  86786|               74310|                   74729|                          94685|              82844|             94824|             94804|                                74447|                    74558|              94655|             60493|                79495|     88|          0|             90189|             90057|             94564|                    95442|                94573|                          95451|                  94473|                            95364|                 94509|                           95400|               86765|                         87642|\n",
      "|   mean|       null|       null|      null|      null|        null|2.020065141011236E7|1.8182343911004564|0.8079749761248979|  1.3462518098901912|0.7757059299644171|     1.3091964106412437|0.8764734014122149|           2.3216112802300017|  0.816133753828975|         0.54170410223345| 0.6597552341458481|          0.9002093067506712| 0.7585121350685895|                  0.9559610629440671|0.7125793473401878|               2.460533992426091|0.8673779785223764| 0.4810585572049602|     0.9453828958587791|1.5706930757271594E8|    1.2074969741326792E7|              1.687278872049427|  0.990608855197721|1.5506200961781826|1.2713915024682503|                     8958073.42012425|        434813.9138811395| 1.7241667106861762|  0.83467508637363| 0.002905843134788...|    1.0|       null|101001.12433888833| 3116.136979912722| 51.00305496806473|       51.036253431404276|    57.30526154399245|             57.343453185403774|     46.137577191366105|                46.20875917536963|     47.36559227163542|              47.433417190775494|   41.58128277531262|            41.649836836220075|\n",
      "| stddev|       null|       null|      null|      null|        null|  336.9579693475713|  1.22616626386026|0.3938953687278963|   1.050240303317883|0.4171197637037314|     0.8430679843353527|0.3290430077248424|            1.653672289716887|0.38737799892962055|       0.7040072006452222|0.47379736322931676|          0.8658314561417729|0.42798913248577897|                  0.8871673072709353|0.4525634578448404|              1.3834437421381474|0.8363474856578751|0.49964609772451685|     0.8311994991102921|1.063952753985572...|    3.0550554731418805E9|             0.6819421309256289|0.09645238979800695|0.9742312431186682|0.7841287154539386|                 1.0194743956271231E9|      3.534461007257937E7| 1.4999005772380163|0.3714766045549101|   0.0927823178764543|    0.0|       null| 547499.1320655637|13862.401628944453|28.587456729333493|       28.511325683228186|    29.69326660945667|             29.604688795967494|      24.00661277649171|                23.94600913304522|    24.564591416592652|               24.49754607621728|   33.81125235890392|            33.792592746746806|\n",
      "|    min|Afghanistan|        ABW|      Acre|     BR_AC|   NAT_TOTAL|           20200101|              0.00|                 0|                   0|                 0|                      0|                 0|                            0|                  0|                        0|                  0|                           0|                  0|                                   0|                 0|                            0.00|                 0|                  0|                      0|               -0.01|                   -0.02|                              0|                  0|              0.00|                 0|                                    0|                        0|               0.00|                 0|                    0|      1|       null|                 0|                 0|              0.00|                     0.00|                 0.00|                           0.00|                   0.00|                             0.00|                  0.00|                            0.00|                0.00|                          0.00|\n",
      "|    25%|       null|       null|      null|      null|        null|         2.020033E7|               1.0|               1.0|                 0.0|               1.0|                    1.0|               1.0|                          0.0|                1.0|                      0.0|                0.0|                         0.0|                1.0|                                 0.0|               0.0|                             1.0|               0.0|                0.0|                    0.0|                 0.0|                     0.0|                            2.0|                1.0|               1.0|               1.0|                                  0.0|                      0.0|                0.0|               1.0|                  0.0|    1.0|       null|             136.0|               2.0|             29.63|                    30.56|                 38.1|                           38.1|                  32.22|                            32.78|                 32.69|                           33.33|                 0.0|                           0.0|\n",
      "|    50%|       null|       null|      null|      null|        null|        2.0200627E7|               2.0|               1.0|                 2.0|               1.0|                    2.0|               1.0|                          3.0|                1.0|                      0.0|                1.0|                         1.0|                1.0|                                 1.0|               1.0|                             3.0|               1.0|                0.0|                    1.0|                 0.0|                     0.0|                            2.0|                1.0|               2.0|               1.0|                                  0.0|                      0.0|                2.0|               1.0|                  0.0|    1.0|       null|            4366.0|              86.0|             57.87|                    57.41|                66.67|                          66.67|                   55.0|                             55.0|                 55.45|                           55.45|                50.0|                          50.0|\n",
      "|    75%|       null|       null|      null|      null|        null|        2.0200924E7|               3.0|               1.0|                 2.0|               1.0|                    2.0|               1.0|                          4.0|                1.0|                      1.0|                1.0|                         2.0|                1.0|                                 2.0|               1.0|                             4.0|               2.0|                1.0|                    2.0|                 0.0|                     0.0|                            2.0|                1.0|               2.0|               2.0|                                  0.0|                      0.0|                3.0|               1.0|                  0.0|    1.0|       null|           51409.0|            1134.0|             73.61|                    73.61|                79.76|                          79.76|                  63.89|                            63.89|                 66.03|                           66.03|                75.0|                          75.0|\n",
      "|    max|   Zimbabwe|        ZWE|     Yukon|     US_WY| STATE_TOTAL|           20201221|              3.00|                 1|                3.00|                 1|                   2.00|                 1|                         4.00|                  1|                     2.00|                  1|                        3.00|                  1|                                2.00|                 1|                            4.00|              2.00|                  1|                   2.00|          9960000.00|             94575000.00|                           2.00|                  1|              3.00|              2.00|                           9826500.00|               9900000.00|               4.00|                 1|                 4.00|      1|       null|            999924|              9996|             98.15|                    98.15|                96.43|                          96.43|                   9.72|                             9.72|                 91.35|                           91.35|               87.50|                         87.50|\n",
      "+-------+-----------+-----------+----------+----------+------------+-------------------+------------------+------------------+--------------------+------------------+-----------------------+------------------+-----------------------------+-------------------+-------------------------+-------------------+----------------------------+-------------------+------------------------------------+------------------+--------------------------------+------------------+-------------------+-----------------------+--------------------+------------------------+-------------------------------+-------------------+------------------+------------------+-------------------------------------+-------------------------+-------------------+------------------+---------------------+-------+-----------+------------------+------------------+------------------+-------------------------+---------------------+-------------------------------+-----------------------+---------------------------------+----------------------+--------------------------------+--------------------+------------------------------+"
     ]
    }
   ],
   "source": [
    "#show summary\n",
    "df_ox.summary().show()"
   ]
  },
  {
   "cell_type": "code",
   "execution_count": 21,
   "metadata": {},
   "outputs": [
    {
     "data": {
      "application/vnd.jupyter.widget-view+json": {
       "model_id": "4ea5ec2752164b9d8b6dc1f2a0da0c15",
       "version_major": 2,
       "version_minor": 0
      },
      "text/plain": [
       "VBox()"
      ]
     },
     "metadata": {},
     "output_type": "display_data"
    },
    {
     "data": {
      "application/vnd.jupyter.widget-view+json": {
       "model_id": "",
       "version_major": 2,
       "version_minor": 0
      },
      "text/plain": [
       "FloatProgress(value=0.0, bar_style='info', description='Progress:', layout=Layout(height='25px', width='50%'),…"
      ]
     },
     "metadata": {},
     "output_type": "display_data"
    },
    {
     "name": "stdout",
     "output_type": "stream",
     "text": [
      "0"
     ]
    }
   ],
   "source": [
    "# check if country code format is iso 3166\n",
    "oxf_cc = df_ox.select('CountryName','CountryCode').distinct().orderBy('CountryCode')\n",
    "\n",
    "input_bucket = 's3://dh-ud-dend-capstone/stage0_raw/google/'\n",
    "df_gl_index = spark.read.format('csv').options(header='true').load(input_bucket + 'index.csv')\n",
    "\n",
    "google_cc = df_gl_index.select('3166-1-alpha-2', '3166-1-alpha-3').distinct()\n",
    "\n",
    "cc_joined = oxf_cc.alias('o').join(google_cc.alias('g'), on=[col('o.CountryCode') == col('g.3166-1-alpha-3')], how='left')\n",
    "\n",
    "#count rows which couldn't match, should be 0\n",
    "cc_joined.filter(\"`3166-1-alpha-3` is null\").count()"
   ]
  },
  {
   "cell_type": "markdown",
   "metadata": {},
   "source": [
    "### FINDINGS\n",
    "* reduce columns\n",
    "* check for duplicates\n",
    "* check meaning of flags columns\n",
    "* remove spaces from column names\n",
    "* convert column types\n",
    "* map Country Codes to ISO\n",
    "* remove \"ForDisplay\" columns\n",
    "* remove cases\n",
    "\n",
    "* stage2: filter to jurisdiction NAT_TOTA = only national level"
   ]
  },
  {
   "cell_type": "code",
   "execution_count": null,
   "metadata": {},
   "outputs": [],
   "source": []
  }
 ],
 "metadata": {
  "kernelspec": {
   "display_name": "PySpark",
   "language": "",
   "name": "pysparkkernel"
  },
  "language_info": {
   "codemirror_mode": {
    "name": "python",
    "version": 2
   },
   "mimetype": "text/x-python",
   "name": "pyspark",
   "pygments_lexer": "python2"
  }
 },
 "nbformat": 4,
 "nbformat_minor": 4
}